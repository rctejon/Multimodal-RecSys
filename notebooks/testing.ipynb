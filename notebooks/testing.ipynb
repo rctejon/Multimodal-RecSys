{
 "cells": [
  {
   "cell_type": "code",
   "execution_count": 16,
   "metadata": {},
   "outputs": [
    {
     "name": "stdout",
     "output_type": "stream",
     "text": [
      "('U_10000', {'excercises': {'Ex_7007033'}, 'time': 1603811516})\n"
     ]
    }
   ],
   "source": [
    "import pickle\n",
    "\n",
    "user_excercises = pickle.load(open('../pickles/user_exercise.pkl', 'rb'))\n",
    "\n",
    "for excercise in user_excercises.items():\n",
    "    print(excercise)\n",
    "    break"
   ]
  },
  {
   "cell_type": "code",
   "execution_count": null,
   "metadata": {},
   "outputs": [],
   "source": []
  }
 ],
 "metadata": {
  "kernelspec": {
   "display_name": "venv38",
   "language": "python",
   "name": "python3"
  },
  "language_info": {
   "codemirror_mode": {
    "name": "ipython",
    "version": 3
   },
   "file_extension": ".py",
   "mimetype": "text/x-python",
   "name": "python",
   "nbconvert_exporter": "python",
   "pygments_lexer": "ipython3",
   "version": "3.8.16"
  }
 },
 "nbformat": 4,
 "nbformat_minor": 2
}
