{
 "cells": [
  {
   "cell_type": "code",
   "execution_count": 1,
   "metadata": {},
   "outputs": [],
   "source": [
    "import bigjson\n",
    "with open('../data/DBLP_v12/dblp.v12.json', 'rb') as f:\n",
    "    j = bigjson.load(f)"
   ]
  },
  {
   "cell_type": "code",
   "execution_count": 2,
   "metadata": {},
   "outputs": [
    {
     "name": "stdout",
     "output_type": "stream",
     "text": [
      "foo bar hello world\n"
     ]
    }
   ],
   "source": [
    "def inverted_index_to_text(inverted_index, inverted_index_length):\n",
    "    # Create a dictionary to hold the reconstructed documents\n",
    "    documents = ['' for _ in range(inverted_index_length)]\n",
    "    \n",
    "    # Iterate over each term in the inverted index\n",
    "    for term, positions in inverted_index.items():\n",
    "        # print(term, positions)\n",
    "        for pos in positions:\n",
    "            documents[pos] = term\n",
    "    \n",
    "    return ' '.join(documents)\n",
    "\n",
    "# Sample inverted index\n",
    "inverted_index = {\n",
    "    'hello': [(2)],\n",
    "    'world': [(3)],\n",
    "    'foo': [(0)],\n",
    "    'bar': [(1)]\n",
    "}\n",
    "\n",
    "# Convert the inverted index to text\n",
    "documents = inverted_index_to_text(inverted_index, 4)\n",
    "\n",
    "# Print the reconstructed documents\n",
    "print(documents)"
   ]
  },
  {
   "cell_type": "code",
   "execution_count": 3,
   "metadata": {},
   "outputs": [],
   "source": [
    "def fos_to_text(fos):\n",
    "    # Create a dictionary to hold the reconstructed documents\n",
    "    strs = []\n",
    "    \n",
    "    # Iterate over each term in the inverted index\n",
    "    for fo in fos:\n",
    "        strs.append(fo['name'])\n",
    "    \n",
    "    return '\\n'.join(strs)\n"
   ]
  },
  {
   "cell_type": "code",
   "execution_count": 4,
   "metadata": {},
   "outputs": [],
   "source": [
    "from tqdm import tqdm\n",
    "import pandas as pd\n",
    "import os\n",
    "import pickle\n",
    "\n",
    "\n",
    "papers_text = {}\n",
    "\n",
    "# with open('../data/DBLP_v12/dblp.v12.json', 'rb') as f:\n",
    "#     j = bigjson.load(f)\n",
    "#     for count in tqdm(range(4894081), total=4894081):\n",
    "#         element = j[count]\n",
    "#         element_str = element['title']\n",
    "#         element_str += '\\n' + 'Year: ' + str(element['year'])\n",
    "#         element_str += '\\n' + '#Citations: '  + str(element['n_citation'])\n",
    "#         element_str += '\\n' + element['doc_type']\n",
    "#         element_str += '\\n' + element['publisher']\n",
    "#         if 'indexed_abstract' in element:  \n",
    "#             element_str += '\\n' + inverted_index_to_text(element['indexed_abstract']['InvertedIndex'], element['indexed_abstract']['IndexLength'])\n",
    "#         if 'fos' in element:\n",
    "#             element_str += '\\n' + fos_to_text(element['fos'])\n",
    "        \n",
    "#     # papers_references.to_feather(\"data/DBLP_v12/papers_references.feather\")\n",
    "# pickle.dump(papers_text, open(\"../data/DBLP_v12/papers_text.pkl\", \"wb\"))"
   ]
  },
  {
   "cell_type": "code",
   "execution_count": 5,
   "metadata": {},
   "outputs": [
    {
     "data": {
      "text/html": [
       "<div>\n",
       "<style scoped>\n",
       "    .dataframe tbody tr th:only-of-type {\n",
       "        vertical-align: middle;\n",
       "    }\n",
       "\n",
       "    .dataframe tbody tr th {\n",
       "        vertical-align: top;\n",
       "    }\n",
       "\n",
       "    .dataframe thead th {\n",
       "        text-align: right;\n",
       "    }\n",
       "</style>\n",
       "<table border=\"1\" class=\"dataframe\">\n",
       "  <thead>\n",
       "    <tr style=\"text-align: right;\">\n",
       "      <th></th>\n",
       "      <th>user_id</th>\n",
       "      <th>item_id</th>\n",
       "      <th>rating</th>\n",
       "    </tr>\n",
       "  </thead>\n",
       "  <tbody>\n",
       "    <tr>\n",
       "      <th>0</th>\n",
       "      <td>1674</td>\n",
       "      <td>1535888970</td>\n",
       "      <td>1</td>\n",
       "    </tr>\n",
       "    <tr>\n",
       "      <th>1</th>\n",
       "      <td>1674</td>\n",
       "      <td>1992876689</td>\n",
       "      <td>1</td>\n",
       "    </tr>\n",
       "    <tr>\n",
       "      <th>2</th>\n",
       "      <td>1674</td>\n",
       "      <td>1993710814</td>\n",
       "      <td>1</td>\n",
       "    </tr>\n",
       "    <tr>\n",
       "      <th>3</th>\n",
       "      <td>1674</td>\n",
       "      <td>2035653341</td>\n",
       "      <td>1</td>\n",
       "    </tr>\n",
       "    <tr>\n",
       "      <th>4</th>\n",
       "      <td>1674</td>\n",
       "      <td>2043970887</td>\n",
       "      <td>1</td>\n",
       "    </tr>\n",
       "    <tr>\n",
       "      <th>...</th>\n",
       "      <td>...</td>\n",
       "      <td>...</td>\n",
       "      <td>...</td>\n",
       "    </tr>\n",
       "    <tr>\n",
       "      <th>13975185</th>\n",
       "      <td>99905544</td>\n",
       "      <td>1562217771</td>\n",
       "      <td>1</td>\n",
       "    </tr>\n",
       "    <tr>\n",
       "      <th>13975186</th>\n",
       "      <td>99905544</td>\n",
       "      <td>1625504505</td>\n",
       "      <td>1</td>\n",
       "    </tr>\n",
       "    <tr>\n",
       "      <th>13975187</th>\n",
       "      <td>99905544</td>\n",
       "      <td>2015022770</td>\n",
       "      <td>1</td>\n",
       "    </tr>\n",
       "    <tr>\n",
       "      <th>13975188</th>\n",
       "      <td>999847014</td>\n",
       "      <td>1978183200</td>\n",
       "      <td>1</td>\n",
       "    </tr>\n",
       "    <tr>\n",
       "      <th>13975189</th>\n",
       "      <td>999847014</td>\n",
       "      <td>-1749987118</td>\n",
       "      <td>1</td>\n",
       "    </tr>\n",
       "  </tbody>\n",
       "</table>\n",
       "<p>42368924 rows × 3 columns</p>\n",
       "</div>"
      ],
      "text/plain": [
       "            user_id     item_id  rating\n",
       "0              1674  1535888970       1\n",
       "1              1674  1992876689       1\n",
       "2              1674  1993710814       1\n",
       "3              1674  2035653341       1\n",
       "4              1674  2043970887       1\n",
       "...             ...         ...     ...\n",
       "13975185   99905544  1562217771       1\n",
       "13975186   99905544  1625504505       1\n",
       "13975187   99905544  2015022770       1\n",
       "13975188  999847014  1978183200       1\n",
       "13975189  999847014 -1749987118       1\n",
       "\n",
       "[42368924 rows x 3 columns]"
      ]
     },
     "execution_count": 5,
     "metadata": {},
     "output_type": "execute_result"
    }
   ],
   "source": [
    "with open('../data/DBLP_v12/papers_train.feather', 'rb') as f:\n",
    "    train_papers = pd.read_feather(f)\n",
    "\n",
    "with open('../data/DBLP_v12/papers_test.feather', 'rb') as f:\n",
    "    test_papers = pd.read_feather(f)\n",
    "\n",
    "train_papers = train_papers.rename(columns={'id': 'user_id', 'references': 'item_id'})\n",
    "test_papers = test_papers.rename(columns={'id': 'user_id', 'references': 'item_id'})\n",
    "ratings = pd.concat([train_papers, test_papers])\n",
    "\n",
    "ratings"
   ]
  },
  {
   "cell_type": "code",
   "execution_count": 6,
   "metadata": {},
   "outputs": [],
   "source": [
    "user_list = list(ratings['user_id'].drop_duplicates())\n",
    "user2id = {w: i for i, w in enumerate(user_list)}\n",
    "\n",
    "item_list = list(ratings['item_id'].drop_duplicates())\n",
    "item2id = {w: i for i, w in enumerate(item_list)}"
   ]
  },
  {
   "cell_type": "code",
   "execution_count": 7,
   "metadata": {},
   "outputs": [],
   "source": [
    "# pickle.dump(user2id, open(\"../data/DBLP_v12/user2id.pkl\", \"wb\"))\n",
    "# pickle.dump(item2id, open(\"../data/DBLP_v12/item2id.pkl\", \"wb\"))"
   ]
  },
  {
   "cell_type": "code",
   "execution_count": 8,
   "metadata": {},
   "outputs": [
    {
     "name": "stderr",
     "output_type": "stream",
     "text": [
      "100%|██████████| 42368924/42368924 [01:02<00:00, 673680.48it/s]\n"
     ]
    }
   ],
   "source": [
    "papers_references = {}\n",
    "all_papers = set()\n",
    "for row in tqdm(ratings.itertuples(), total=len(ratings)):\n",
    "    user_id = user2id[row.user_id]\n",
    "    item_id = item2id[row.item_id]\n",
    "    if user_id not in papers_references:\n",
    "        papers_references[user_id] = set()\n",
    "    papers_references[user_id].add(item_id)\n",
    "    all_papers.add(user_id)\n"
   ]
  },
  {
   "cell_type": "code",
   "execution_count": 11,
   "metadata": {},
   "outputs": [],
   "source": [
    "import random, heapq\n",
    "\n",
    "all_papers = list(all_papers)\n",
    "\n",
    "class ListSet(list):\n",
    "    \"\"\"\n",
    "    Derived from: https://stackoverflow.com/a/15993515\n",
    "    \n",
    "    Initialization: \n",
    "        Same as with list (basically same as with set):\n",
    "        (including sets, lists, tuples, \n",
    "        generator expressions and range() expressions.)\n",
    "        \n",
    "    Setlike behaviors:\n",
    "        for x in S():\n",
    "        if x in S:  This is constant time.\n",
    "        S.add(x)     \"    \"    \"      \"\n",
    "        S.remove(x)  \"    \"    \"      \"\n",
    "        len(s)       \"    \"    \"      \"\n",
    "        print(S), str(S), repr(S)\n",
    "        copy(S), list(S), set(S)  copy or cast.\n",
    "        \n",
    "    Listlike behaviors use internal list positions:\n",
    "        S[3], S[-1]  # Returns an item.\n",
    "        S[10:20]     # Returns a list, not ListSet.\n",
    "        random.choice(S)  This is constant time.\n",
    "        S += [4, 5, 6]\n",
    "        S.append(7), same as S.add(7).\n",
    "        len(s) in constant time.\n",
    "        x = S.pop()  # Pop last element from internal list.\n",
    "        y = S.pop(3) # Pop S[3] from internal list.\n",
    "    \"\"\"\n",
    "    def __init__(self, *args, idx_of=None):\n",
    "        super(ListSet, self).__init__(*args)\n",
    "        if idx_of:\n",
    "            self.idx_of = idx_of.copy()\n",
    "        else:\n",
    "            self.idx_of = {item: i\n",
    "                          for (i, item) in enumerate(self)}\n",
    "\n",
    "    def add(self, item):\n",
    "        if item not in self.idx_of:\n",
    "            super(ListSet, self).append(item)\n",
    "            self.idx_of[item] = len(self) - 1\n",
    "        \n",
    "    def append(self, item):\n",
    "        \"\"\"\n",
    "        append and += always append to the internal list,\n",
    "        but remove and pop from other than the end \n",
    "        can change the internal list's order.\n",
    "        \"\"\"\n",
    "        self.add(item)\n",
    "        \n",
    "    def copy(self):\n",
    "        \"\"\" Return a shallow copy of the ListSet. \"\"\"\n",
    "        return ListSet(self, idx_of=self.idx_of)\n",
    "    \n",
    "    def list(self):\n",
    "        return super(ListSet, self).copy()\n",
    "        \n",
    "    def __iadd__(self, items):\n",
    "        \"\"\" self += items \"\"\"\n",
    "        for item in items:\n",
    "            self.add(item)\n",
    "        return self\n",
    "\n",
    "    def remove(self, element):\n",
    "        \"\"\"\n",
    "        Remove an element from a set; it must be a member.\n",
    "\n",
    "        If the element is not a member, raise a KeyError.\n",
    "        \"\"\"\n",
    "        try:\n",
    "            position = self.idx_of.pop(element)\n",
    "        except:\n",
    "            raise(KeyError(element))\n",
    "            \n",
    "        last_item = super(ListSet, self).pop()\n",
    "        if position != len(self):\n",
    "            self[position] = last_item\n",
    "            self.idx_of[last_item] = position\n",
    "            \n",
    "    def pop(self, i=-1):\n",
    "        \"\"\" Remove by internal list position. \"\"\"\n",
    "        item = self[i]\n",
    "        self.remove(item)\n",
    "        return item\n",
    "    \n",
    "    def __contains__(self, item):\n",
    "        return item in self.idx_of\n",
    "    \n",
    "    def _str_body(self):\n",
    "        return \", \".join(repr(item) for item in self)\n",
    "    \n",
    "    def __repr__(self):\n",
    "        return \"ListSet([\" + self._str_body() + \"])\"\n",
    "    \n",
    "    def __str__(self):\n",
    "        if self:\n",
    "            return \"{\" + self._str_body() + \"}\"\n",
    "        else:\n",
    "            return \"ListSet()\"\n",
    "\n",
    "all_papers = ListSet(all_papers)"
   ]
  },
  {
   "cell_type": "code",
   "execution_count": 12,
   "metadata": {},
   "outputs": [
    {
     "data": {
      "text/plain": [
       "list"
      ]
     },
     "execution_count": 12,
     "metadata": {},
     "output_type": "execute_result"
    }
   ],
   "source": [
    "type(random.sample(all_papers, 100))"
   ]
  },
  {
   "cell_type": "code",
   "execution_count": 13,
   "metadata": {},
   "outputs": [
    {
     "name": "stderr",
     "output_type": "stream",
     "text": [
      "100%|██████████| 2794154/2794154 [03:32<00:00, 13122.41it/s]\n"
     ]
    }
   ],
   "source": [
    "min_len = 54\n",
    "repeat_cases = []\n",
    "paper_negatives = {}\n",
    "for paper in tqdm(all_papers, total=len(all_papers)):\n",
    "    random_papers = set(random.sample(all_papers, 100))\n",
    "    negatives = random_papers - papers_references[paper]\n",
    "    if len(negatives) < min_len:\n",
    "        repeat_cases.append(paper)\n",
    "    else:\n",
    "        negatives = random.sample(negatives, min_len)\n",
    "    if paper not in paper_negatives:\n",
    "        paper_negatives[paper] = []\n",
    "    paper_negatives[paper].extend(negatives)\n",
    "    "
   ]
  },
  {
   "cell_type": "code",
   "execution_count": 46,
   "metadata": {},
   "outputs": [
    {
     "data": {
      "text/html": [
       "<div>\n",
       "<style scoped>\n",
       "    .dataframe tbody tr th:only-of-type {\n",
       "        vertical-align: middle;\n",
       "    }\n",
       "\n",
       "    .dataframe tbody tr th {\n",
       "        vertical-align: top;\n",
       "    }\n",
       "\n",
       "    .dataframe thead th {\n",
       "        text-align: right;\n",
       "    }\n",
       "</style>\n",
       "<table border=\"1\" class=\"dataframe\">\n",
       "  <thead>\n",
       "    <tr style=\"text-align: right;\">\n",
       "      <th></th>\n",
       "      <th>user_id</th>\n",
       "      <th>item_id</th>\n",
       "      <th>rating</th>\n",
       "    </tr>\n",
       "  </thead>\n",
       "  <tbody>\n",
       "    <tr>\n",
       "      <th>0</th>\n",
       "      <td>1674</td>\n",
       "      <td>1535888970</td>\n",
       "      <td>1</td>\n",
       "    </tr>\n",
       "    <tr>\n",
       "      <th>1</th>\n",
       "      <td>1674</td>\n",
       "      <td>1992876689</td>\n",
       "      <td>1</td>\n",
       "    </tr>\n",
       "    <tr>\n",
       "      <th>2</th>\n",
       "      <td>1674</td>\n",
       "      <td>1993710814</td>\n",
       "      <td>1</td>\n",
       "    </tr>\n",
       "    <tr>\n",
       "      <th>3</th>\n",
       "      <td>1674</td>\n",
       "      <td>2035653341</td>\n",
       "      <td>1</td>\n",
       "    </tr>\n",
       "    <tr>\n",
       "      <th>4</th>\n",
       "      <td>1674</td>\n",
       "      <td>2043970887</td>\n",
       "      <td>1</td>\n",
       "    </tr>\n",
       "    <tr>\n",
       "      <th>...</th>\n",
       "      <td>...</td>\n",
       "      <td>...</td>\n",
       "      <td>...</td>\n",
       "    </tr>\n",
       "    <tr>\n",
       "      <th>28393729</th>\n",
       "      <td>99905544</td>\n",
       "      <td>-2134741067</td>\n",
       "      <td>1</td>\n",
       "    </tr>\n",
       "    <tr>\n",
       "      <th>28393730</th>\n",
       "      <td>999847014</td>\n",
       "      <td>1940933138</td>\n",
       "      <td>1</td>\n",
       "    </tr>\n",
       "    <tr>\n",
       "      <th>28393731</th>\n",
       "      <td>999847014</td>\n",
       "      <td>1975620021</td>\n",
       "      <td>1</td>\n",
       "    </tr>\n",
       "    <tr>\n",
       "      <th>28393732</th>\n",
       "      <td>999847014</td>\n",
       "      <td>2097595927</td>\n",
       "      <td>1</td>\n",
       "    </tr>\n",
       "    <tr>\n",
       "      <th>28393733</th>\n",
       "      <td>999847014</td>\n",
       "      <td>2144370861</td>\n",
       "      <td>1</td>\n",
       "    </tr>\n",
       "  </tbody>\n",
       "</table>\n",
       "<p>28393734 rows × 3 columns</p>\n",
       "</div>"
      ],
      "text/plain": [
       "            user_id     item_id  rating\n",
       "0              1674  1535888970       1\n",
       "1              1674  1992876689       1\n",
       "2              1674  1993710814       1\n",
       "3              1674  2035653341       1\n",
       "4              1674  2043970887       1\n",
       "...             ...         ...     ...\n",
       "28393729   99905544 -2134741067       1\n",
       "28393730  999847014  1940933138       1\n",
       "28393731  999847014  1975620021       1\n",
       "28393732  999847014  2097595927       1\n",
       "28393733  999847014  2144370861       1\n",
       "\n",
       "[28393734 rows x 3 columns]"
      ]
     },
     "execution_count": 46,
     "metadata": {},
     "output_type": "execute_result"
    }
   ],
   "source": [
    "train_papers"
   ]
  },
  {
   "cell_type": "code",
   "execution_count": 14,
   "metadata": {},
   "outputs": [
    {
     "name": "stderr",
     "output_type": "stream",
     "text": [
      "100%|██████████| 28393734/28393734 [01:06<00:00, 427685.84it/s]\n"
     ]
    }
   ],
   "source": [
    "users, items, ratings = [], [], []\n",
    "for row in tqdm(train_papers.itertuples(), total=train_papers.shape[0]):\n",
    "    user_id = user2id[row.user_id]\n",
    "    item_id = item2id[row.item_id]\n",
    "    users.append(int(user_id))\n",
    "    items.append(int(item_id))\n",
    "    ratings.append(int(row.rating))\n",
    "    for i in paper_negatives[user_id][:4]:\n",
    "        users.append(int(user_id))\n",
    "        items.append(int(i))\n",
    "        ratings.append(int(0))\n",
    "pickle.dump(users, open(f'../data/DBLP_v12/train_users_4.pkl', 'wb'))\n",
    "pickle.dump(items, open(f'../data/DBLP_v12/train_items_4.pkl', 'wb'))\n",
    "pickle.dump(ratings, open(f'../data/DBLP_v12/train_ratings_4.pkl', 'wb'))"
   ]
  },
  {
   "cell_type": "code",
   "execution_count": 15,
   "metadata": {},
   "outputs": [
    {
     "data": {
      "text/plain": [
       "(141968670, 141968670, 141968670)"
      ]
     },
     "execution_count": 15,
     "metadata": {},
     "output_type": "execute_result"
    }
   ],
   "source": [
    "len(users), len(items), len(ratings)"
   ]
  },
  {
   "cell_type": "code",
   "execution_count": 16,
   "metadata": {},
   "outputs": [
    {
     "name": "stderr",
     "output_type": "stream",
     "text": [
      "100%|██████████| 13975190/13975190 [02:55<00:00, 79751.40it/s]\n"
     ]
    }
   ],
   "source": [
    "users, items, ratings = [], [], []\n",
    "for row in tqdm(test_papers.itertuples(), total=test_papers.shape[0]):\n",
    "    user_id = user2id[row.user_id]\n",
    "    item_id = item2id[row.item_id]\n",
    "    users.append(int(user_id))\n",
    "    items.append(int(item_id))\n",
    "    ratings.append(int(row.rating))\n",
    "    for i in paper_negatives[user_id][4:]:\n",
    "        users.append(int(user_id))\n",
    "        items.append(int(i))\n",
    "        ratings.append(int(0))\n",
    "\n",
    "pickle.dump(users, open(f'../data/DBLP_v12/test_users_50.pkl', 'wb'))\n",
    "pickle.dump(items, open(f'../data/DBLP_v12/test_items_50.pkl', 'wb'))\n",
    "pickle.dump(ratings, open(f'../data/DBLP_v12/test_ratings_50.pkl', 'wb'))"
   ]
  },
  {
   "cell_type": "code",
   "execution_count": 17,
   "metadata": {},
   "outputs": [
    {
     "data": {
      "text/plain": [
       "(712734690, 712734690, 712734690)"
      ]
     },
     "execution_count": 17,
     "metadata": {},
     "output_type": "execute_result"
    }
   ],
   "source": [
    "len(users), len(items), len(ratings)"
   ]
  }
 ],
 "metadata": {
  "kernelspec": {
   "display_name": "venv38",
   "language": "python",
   "name": "python3"
  },
  "language_info": {
   "codemirror_mode": {
    "name": "ipython",
    "version": 3
   },
   "file_extension": ".py",
   "mimetype": "text/x-python",
   "name": "python",
   "nbconvert_exporter": "python",
   "pygments_lexer": "ipython3",
   "version": "3.8.16"
  }
 },
 "nbformat": 4,
 "nbformat_minor": 2
}
