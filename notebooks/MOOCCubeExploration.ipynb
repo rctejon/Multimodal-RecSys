{
 "cells": [
  {
   "cell_type": "code",
   "execution_count": 2,
   "metadata": {},
   "outputs": [
    {
     "name": "stderr",
     "output_type": "stream",
     "text": [
      "/home/rctejon/Documents/tesis/Multimodal-RecSys/venv38/lib/python3.8/site-packages/tqdm/auto.py:21: TqdmWarning: IProgress not found. Please update jupyter and ipywidgets. See https://ipywidgets.readthedocs.io/en/stable/user_install.html\n",
      "  from .autonotebook import tqdm as notebook_tqdm\n"
     ]
    }
   ],
   "source": [
    "import pandas as pd\n",
    "import re\n",
    "from bs4 import BeautifulSoup\n",
    "from sentence_transformers import SentenceTransformer"
   ]
  },
  {
   "cell_type": "markdown",
   "metadata": {},
   "source": [
    "Redes neuronales basdas en grafos"
   ]
  },
  {
   "cell_type": "markdown",
   "metadata": {},
   "source": [
    "# Entities Exploration"
   ]
  },
  {
   "cell_type": "markdown",
   "metadata": {},
   "source": [
    "## Concept"
   ]
  },
  {
   "cell_type": "code",
   "execution_count": 5,
   "metadata": {},
   "outputs": [],
   "source": [
    "concept_df = pd.read_json(\"../data/MOOCCube/entities/concept.json\",lines=True)\n",
    "conceptx_df = pd.read_json(\"../data/MOOCCubeX/entities/concept.json\",lines=True)"
   ]
  },
  {
   "cell_type": "code",
   "execution_count": 6,
   "metadata": {},
   "outputs": [
    {
     "data": {
      "text/plain": [
       "(114563, 4)"
      ]
     },
     "execution_count": 6,
     "metadata": {},
     "output_type": "execute_result"
    }
   ],
   "source": [
    "concept_df.shape"
   ]
  },
  {
   "cell_type": "code",
   "execution_count": 7,
   "metadata": {},
   "outputs": [
    {
     "data": {
      "text/plain": [
       "(637572, 3)"
      ]
     },
     "execution_count": 7,
     "metadata": {},
     "output_type": "execute_result"
    }
   ],
   "source": [
    "conceptx_df.shape"
   ]
  },
  {
   "cell_type": "code",
   "execution_count": 8,
   "metadata": {},
   "outputs": [
    {
     "data": {
      "text/html": [
       "<div>\n",
       "<style scoped>\n",
       "    .dataframe tbody tr th:only-of-type {\n",
       "        vertical-align: middle;\n",
       "    }\n",
       "\n",
       "    .dataframe tbody tr th {\n",
       "        vertical-align: top;\n",
       "    }\n",
       "\n",
       "    .dataframe thead th {\n",
       "        text-align: right;\n",
       "    }\n",
       "</style>\n",
       "<table border=\"1\" class=\"dataframe\">\n",
       "  <thead>\n",
       "    <tr style=\"text-align: right;\">\n",
       "      <th></th>\n",
       "      <th>id</th>\n",
       "      <th>name</th>\n",
       "      <th>en</th>\n",
       "      <th>explanation</th>\n",
       "    </tr>\n",
       "  </thead>\n",
       "  <tbody>\n",
       "    <tr>\n",
       "      <th>12361</th>\n",
       "      <td>K_伞形花内酯_化学</td>\n",
       "      <td>伞形花内酯</td>\n",
       "      <td>umbelliferone</td>\n",
       "      <td>学科：化学_有机化学_有机化合物_天然产物类名词 定义：C-7位上接有羟基的一类香豆素衍生物...</td>\n",
       "    </tr>\n",
       "    <tr>\n",
       "      <th>84271</th>\n",
       "      <td>K_加速间隙_电气工程</td>\n",
       "      <td>加速间隙</td>\n",
       "      <td>accelerating gap</td>\n",
       "      <td>学科：电气工程_工业加速器 见载：《电气工程名词》第一版</td>\n",
       "    </tr>\n",
       "    <tr>\n",
       "      <th>25416</th>\n",
       "      <td>K_动脉贮血室_医学</td>\n",
       "      <td>动脉贮血室</td>\n",
       "      <td>arterial reservoir</td>\n",
       "      <td>学科：医学_胸心血管外科学 见载：《医学名词 第六分册》第一版</td>\n",
       "    </tr>\n",
       "    <tr>\n",
       "      <th>20663</th>\n",
       "      <td>K_电弧烧伤_医学</td>\n",
       "      <td>电弧烧伤</td>\n",
       "      <td>electric arc burn</td>\n",
       "      <td>学科：医学_整形外科学 见载：《医学名词 第七分册》第一版</td>\n",
       "    </tr>\n",
       "    <tr>\n",
       "      <th>44774</th>\n",
       "      <td>K_庞加莱对偶_数学</td>\n",
       "      <td>庞加莱对偶</td>\n",
       "      <td>Poincare&amp;1&amp; duality</td>\n",
       "      <td>学科：数学_几何学 _拓扑学 _代数拓扑学 见载：《数学名词》第一版</td>\n",
       "    </tr>\n",
       "  </tbody>\n",
       "</table>\n",
       "</div>"
      ],
      "text/plain": [
       "                id   name                   en  \\\n",
       "12361   K_伞形花内酯_化学  伞形花内酯        umbelliferone   \n",
       "84271  K_加速间隙_电气工程   加速间隙     accelerating gap   \n",
       "25416   K_动脉贮血室_医学  动脉贮血室   arterial reservoir   \n",
       "20663    K_电弧烧伤_医学   电弧烧伤    electric arc burn   \n",
       "44774   K_庞加莱对偶_数学  庞加莱对偶  Poincare&1& duality   \n",
       "\n",
       "                                             explanation  \n",
       "12361  学科：化学_有机化学_有机化合物_天然产物类名词 定义：C-7位上接有羟基的一类香豆素衍生物...  \n",
       "84271                       学科：电气工程_工业加速器 见载：《电气工程名词》第一版  \n",
       "25416                    学科：医学_胸心血管外科学 见载：《医学名词 第六分册》第一版  \n",
       "20663                      学科：医学_整形外科学 见载：《医学名词 第七分册》第一版  \n",
       "44774                 学科：数学_几何学 _拓扑学 _代数拓扑学 见载：《数学名词》第一版  "
      ]
     },
     "execution_count": 8,
     "metadata": {},
     "output_type": "execute_result"
    }
   ],
   "source": [
    "concept_df.sample(5)"
   ]
  },
  {
   "cell_type": "code",
   "execution_count": 9,
   "metadata": {},
   "outputs": [
    {
     "data": {
      "text/html": [
       "<div>\n",
       "<style scoped>\n",
       "    .dataframe tbody tr th:only-of-type {\n",
       "        vertical-align: middle;\n",
       "    }\n",
       "\n",
       "    .dataframe tbody tr th {\n",
       "        vertical-align: top;\n",
       "    }\n",
       "\n",
       "    .dataframe thead th {\n",
       "        text-align: right;\n",
       "    }\n",
       "</style>\n",
       "<table border=\"1\" class=\"dataframe\">\n",
       "  <thead>\n",
       "    <tr style=\"text-align: right;\">\n",
       "      <th></th>\n",
       "      <th>id</th>\n",
       "      <th>name</th>\n",
       "      <th>context</th>\n",
       "    </tr>\n",
       "  </thead>\n",
       "  <tbody>\n",
       "    <tr>\n",
       "      <th>133387</th>\n",
       "      <td>K_方向性函数_地球物理学</td>\n",
       "      <td>方向性函数</td>\n",
       "      <td>[]</td>\n",
       "    </tr>\n",
       "    <tr>\n",
       "      <th>371484</th>\n",
       "      <td>K_延髓静脉_人体解剖学</td>\n",
       "      <td>延髓静脉</td>\n",
       "      <td>[]</td>\n",
       "    </tr>\n",
       "    <tr>\n",
       "      <th>546510</th>\n",
       "      <td>K_密度减小_水利工程</td>\n",
       "      <td>密度减小</td>\n",
       "      <td>[]</td>\n",
       "    </tr>\n",
       "    <tr>\n",
       "      <th>109892</th>\n",
       "      <td>K_脱氨作用_生物化学与分子生物学</td>\n",
       "      <td>脱氨作用</td>\n",
       "      <td>[]</td>\n",
       "    </tr>\n",
       "    <tr>\n",
       "      <th>174817</th>\n",
       "      <td>K_肾动脉_人体解剖学</td>\n",
       "      <td>肾动脉</td>\n",
       "      <td>[量血压时听诊部门在肱二头肌腱内侧\\n20.腹主动脉直接发自的脏支：腹腔干，肠系膜下动脉，肠...</td>\n",
       "    </tr>\n",
       "  </tbody>\n",
       "</table>\n",
       "</div>"
      ],
      "text/plain": [
       "                       id   name  \\\n",
       "133387      K_方向性函数_地球物理学  方向性函数   \n",
       "371484       K_延髓静脉_人体解剖学   延髓静脉   \n",
       "546510        K_密度减小_水利工程   密度减小   \n",
       "109892  K_脱氨作用_生物化学与分子生物学   脱氨作用   \n",
       "174817        K_肾动脉_人体解剖学    肾动脉   \n",
       "\n",
       "                                                  context  \n",
       "133387                                                 []  \n",
       "371484                                                 []  \n",
       "546510                                                 []  \n",
       "109892                                                 []  \n",
       "174817  [量血压时听诊部门在肱二头肌腱内侧\\n20.腹主动脉直接发自的脏支：腹腔干，肠系膜下动脉，肠...  "
      ]
     },
     "execution_count": 9,
     "metadata": {},
     "output_type": "execute_result"
    }
   ],
   "source": [
    "conceptx_df.sample(5)"
   ]
  },
  {
   "cell_type": "markdown",
   "metadata": {},
   "source": [
    "## Course"
   ]
  },
  {
   "cell_type": "code",
   "execution_count": 10,
   "metadata": {},
   "outputs": [],
   "source": [
    "course_df = pd.read_json(\"../data/MOOCCube/entities/course.json\",lines=True)\n",
    "coursex_df = pd.read_json(\"../data/MOOCCubeX/entities/course.json\",lines=True)"
   ]
  },
  {
   "cell_type": "code",
   "execution_count": 11,
   "metadata": {},
   "outputs": [
    {
     "data": {
      "text/plain": [
       "(706, 8)"
      ]
     },
     "execution_count": 11,
     "metadata": {},
     "output_type": "execute_result"
    }
   ],
   "source": [
    "course_df.shape"
   ]
  },
  {
   "cell_type": "code",
   "execution_count": 12,
   "metadata": {},
   "outputs": [
    {
     "data": {
      "text/plain": [
       "(3781, 6)"
      ]
     },
     "execution_count": 12,
     "metadata": {},
     "output_type": "execute_result"
    }
   ],
   "source": [
    "coursex_df.shape"
   ]
  },
  {
   "cell_type": "code",
   "execution_count": 13,
   "metadata": {},
   "outputs": [
    {
     "data": {
      "text/html": [
       "<div>\n",
       "<style scoped>\n",
       "    .dataframe tbody tr th:only-of-type {\n",
       "        vertical-align: middle;\n",
       "    }\n",
       "\n",
       "    .dataframe tbody tr th {\n",
       "        vertical-align: top;\n",
       "    }\n",
       "\n",
       "    .dataframe thead th {\n",
       "        text-align: right;\n",
       "    }\n",
       "</style>\n",
       "<table border=\"1\" class=\"dataframe\">\n",
       "  <thead>\n",
       "    <tr style=\"text-align: right;\">\n",
       "      <th></th>\n",
       "      <th>id</th>\n",
       "      <th>name</th>\n",
       "      <th>prerequisites</th>\n",
       "      <th>about</th>\n",
       "      <th>core_id</th>\n",
       "      <th>video_order</th>\n",
       "      <th>display_name</th>\n",
       "      <th>chapter</th>\n",
       "    </tr>\n",
       "  </thead>\n",
       "  <tbody>\n",
       "    <tr>\n",
       "      <th>622</th>\n",
       "      <td>C_course-v1:TsinghuaX+20190222+2019_T1</td>\n",
       "      <td>病理学</td>\n",
       "      <td>在学习本课程之前，需要先学习什么课程。</td>\n",
       "      <td>&lt;p&gt;\\n\\t&lt;br /&gt;\\n&lt;/p&gt;\\n&lt;p&gt;\\n\\t是主要从形态学角度探究疾病的医学基础...</td>\n",
       "      <td>C_course-v1:TsinghuaX+20190222+2019_T1</td>\n",
       "      <td>[V_44ac4676992649338488d7bce8e00c66, V_a3f7ee1...</td>\n",
       "      <td>[Video, Video, Video, Video, Video, Video, Vid...</td>\n",
       "      <td>[01.01.01.01, 02.01.01.01, 02.02.01.01, 02.03....</td>\n",
       "    </tr>\n",
       "    <tr>\n",
       "      <th>649</th>\n",
       "      <td>C_course-v1:BSU+2018122403X+2019_T1</td>\n",
       "      <td>女性修与养：女性运动、营养与健康（2019春）</td>\n",
       "      <td>只要关注运动健康和营养的知识即可，无特殊先修知识要求</td>\n",
       "      <td>进入21世纪，女性的社会地位发生了巨大的改变。她们不仅站上了国际舞台，用身体表达着女性的力量...</td>\n",
       "      <td>C_course-v1:BSU+2018122403X+2019_T1</td>\n",
       "      <td>[V_7c307b86c42a4490b9b6f238c3a77858, V_af7813b...</td>\n",
       "      <td>[Video, Video, Video, Video, Video, Video, Vid...</td>\n",
       "      <td>[01.01.01.01, 01.02.01.01, 01.03.01.01, 02.01....</td>\n",
       "    </tr>\n",
       "    <tr>\n",
       "      <th>148</th>\n",
       "      <td>C_course-v1:WellesleyX+ANTH207x+sp</td>\n",
       "      <td>人类进化导论（自主模式）</td>\n",
       "      <td>无</td>\n",
       "      <td>&lt;p&gt;\\r\\n\\t作为现代人类，我们都是以往进化的结果。可以通过研究人类化石记录、考古研究资...</td>\n",
       "      <td>C_course-v1:WellesleyX+ANTH207x+sp</td>\n",
       "      <td>[V_50b67cece339439f9de93894e2a64854, V_c460e78...</td>\n",
       "      <td>[Welcome to 207x!, Why a MOOC?, What's an anth...</td>\n",
       "      <td>[01.01.01.01, 01.01.02.01, 01.02.01.01, 01.02....</td>\n",
       "    </tr>\n",
       "    <tr>\n",
       "      <th>170</th>\n",
       "      <td>C_course-v1:TsinghuaX+40260092X+sp</td>\n",
       "      <td>集成传感器(自主模式)</td>\n",
       "      <td>无</td>\n",
       "      <td>传感器是能够感受规定的被测量，并按照一定规律转换成可用输出信号的器件或装置。本课程围绕常见传...</td>\n",
       "      <td>C_course-v1:TsinghuaX+40260092X+sp</td>\n",
       "      <td>[V_1593d5e37f674e468545e69247b6b82f, V_2bf0a29...</td>\n",
       "      <td>[第1节 什么是传感器, 第2节 什么是集成传感器, 第3节 集成传感器的应用, 第4节 硅...</td>\n",
       "      <td>[01.01.01.01, 01.02.01.01, 01.03.01.01, 01.04....</td>\n",
       "    </tr>\n",
       "    <tr>\n",
       "      <th>369</th>\n",
       "      <td>C_course-v1:TsinghuaX+70612463X+2019_T1</td>\n",
       "      <td>基于R语言的社会统计分析（2019春）</td>\n",
       "      <td>本课程要求基本的数学知识。如果学生能够对微积分、线性代数以及概率论与数理统计有所了解，会有助...</td>\n",
       "      <td>&lt;p&gt;\\r\\n\\t统计学是现代科学的通用语，是现代研究一项不可缺少的工具。社会科学与经典统计...</td>\n",
       "      <td>C_course-v1:TsinghuaX+70612463X+sp</td>\n",
       "      <td>[V_ffd2bda8994141748e107f941019a93d, V_6c9170b...</td>\n",
       "      <td>[视频1.1, 视频 1.2, 视频 1.3, 视频 1.4, Video, Video, ...</td>\n",
       "      <td>[01.01.01.01, 01.02.01.01, 01.03.01.01, 01.04....</td>\n",
       "    </tr>\n",
       "  </tbody>\n",
       "</table>\n",
       "</div>"
      ],
      "text/plain": [
       "                                          id                     name  \\\n",
       "622   C_course-v1:TsinghuaX+20190222+2019_T1                      病理学   \n",
       "649      C_course-v1:BSU+2018122403X+2019_T1  女性修与养：女性运动、营养与健康（2019春）   \n",
       "148       C_course-v1:WellesleyX+ANTH207x+sp             人类进化导论（自主模式）   \n",
       "170       C_course-v1:TsinghuaX+40260092X+sp              集成传感器(自主模式)   \n",
       "369  C_course-v1:TsinghuaX+70612463X+2019_T1      基于R语言的社会统计分析（2019春）   \n",
       "\n",
       "                                         prerequisites  \\\n",
       "622                                在学习本课程之前，需要先学习什么课程。   \n",
       "649                         只要关注运动健康和营养的知识即可，无特殊先修知识要求   \n",
       "148                                                  无   \n",
       "170                                                  无   \n",
       "369  本课程要求基本的数学知识。如果学生能够对微积分、线性代数以及概率论与数理统计有所了解，会有助...   \n",
       "\n",
       "                                                 about  \\\n",
       "622  <p>\\n\\t<br />\\n</p>\\n<p>\\n\\t是主要从形态学角度探究疾病的医学基础...   \n",
       "649  进入21世纪，女性的社会地位发生了巨大的改变。她们不仅站上了国际舞台，用身体表达着女性的力量...   \n",
       "148  <p>\\r\\n\\t作为现代人类，我们都是以往进化的结果。可以通过研究人类化石记录、考古研究资...   \n",
       "170  传感器是能够感受规定的被测量，并按照一定规律转换成可用输出信号的器件或装置。本课程围绕常见传...   \n",
       "369  <p>\\r\\n\\t统计学是现代科学的通用语，是现代研究一项不可缺少的工具。社会科学与经典统计...   \n",
       "\n",
       "                                    core_id  \\\n",
       "622  C_course-v1:TsinghuaX+20190222+2019_T1   \n",
       "649     C_course-v1:BSU+2018122403X+2019_T1   \n",
       "148      C_course-v1:WellesleyX+ANTH207x+sp   \n",
       "170      C_course-v1:TsinghuaX+40260092X+sp   \n",
       "369      C_course-v1:TsinghuaX+70612463X+sp   \n",
       "\n",
       "                                           video_order  \\\n",
       "622  [V_44ac4676992649338488d7bce8e00c66, V_a3f7ee1...   \n",
       "649  [V_7c307b86c42a4490b9b6f238c3a77858, V_af7813b...   \n",
       "148  [V_50b67cece339439f9de93894e2a64854, V_c460e78...   \n",
       "170  [V_1593d5e37f674e468545e69247b6b82f, V_2bf0a29...   \n",
       "369  [V_ffd2bda8994141748e107f941019a93d, V_6c9170b...   \n",
       "\n",
       "                                          display_name  \\\n",
       "622  [Video, Video, Video, Video, Video, Video, Vid...   \n",
       "649  [Video, Video, Video, Video, Video, Video, Vid...   \n",
       "148  [Welcome to 207x!, Why a MOOC?, What's an anth...   \n",
       "170  [第1节 什么是传感器, 第2节 什么是集成传感器, 第3节 集成传感器的应用, 第4节 硅...   \n",
       "369  [视频1.1, 视频 1.2, 视频 1.3, 视频 1.4, Video, Video, ...   \n",
       "\n",
       "                                               chapter  \n",
       "622  [01.01.01.01, 02.01.01.01, 02.02.01.01, 02.03....  \n",
       "649  [01.01.01.01, 01.02.01.01, 01.03.01.01, 02.01....  \n",
       "148  [01.01.01.01, 01.01.02.01, 01.02.01.01, 01.02....  \n",
       "170  [01.01.01.01, 01.02.01.01, 01.03.01.01, 01.04....  \n",
       "369  [01.01.01.01, 01.02.01.01, 01.03.01.01, 01.04....  "
      ]
     },
     "execution_count": 13,
     "metadata": {},
     "output_type": "execute_result"
    }
   ],
   "source": [
    "course_df.sample(5)"
   ]
  },
  {
   "cell_type": "code",
   "execution_count": 14,
   "metadata": {},
   "outputs": [
    {
     "data": {
      "text/html": [
       "<div>\n",
       "<style scoped>\n",
       "    .dataframe tbody tr th:only-of-type {\n",
       "        vertical-align: middle;\n",
       "    }\n",
       "\n",
       "    .dataframe tbody tr th {\n",
       "        vertical-align: top;\n",
       "    }\n",
       "\n",
       "    .dataframe thead th {\n",
       "        text-align: right;\n",
       "    }\n",
       "</style>\n",
       "<table border=\"1\" class=\"dataframe\">\n",
       "  <thead>\n",
       "    <tr style=\"text-align: right;\">\n",
       "      <th></th>\n",
       "      <th>id</th>\n",
       "      <th>name</th>\n",
       "      <th>field</th>\n",
       "      <th>prerequisites</th>\n",
       "      <th>about</th>\n",
       "      <th>resource</th>\n",
       "    </tr>\n",
       "  </thead>\n",
       "  <tbody>\n",
       "    <tr>\n",
       "      <th>737</th>\n",
       "      <td>C_682433</td>\n",
       "      <td>中国近现代史纲要</td>\n",
       "      <td>[历史学, 政治学]</td>\n",
       "      <td></td>\n",
       "      <td>在这里，你能够领略近代以来的风云际会，感悟中华民族不屈不挠的追梦历程；在这里，你能够纵览近代...</td>\n",
       "      <td>[{'titles': ['一、反对外国侵略的斗争', '1.教学视频', '资本-帝国主义...</td>\n",
       "    </tr>\n",
       "    <tr>\n",
       "      <th>3144</th>\n",
       "      <td>C_1912010</td>\n",
       "      <td>从新冠疫情看人类命运共同体</td>\n",
       "      <td>[]</td>\n",
       "      <td></td>\n",
       "      <td>本课程从纷繁复杂的全球抗疫局势中选取了具有代表性的案例，以生动简明的方式阐述了疫情中关于全球...</td>\n",
       "      <td>[{'titles': ['从新冠疫情看人类命运共同体（上）', None, '从新冠疫情看...</td>\n",
       "    </tr>\n",
       "    <tr>\n",
       "      <th>2502</th>\n",
       "      <td>C_1765591</td>\n",
       "      <td>Wisdom of Life from Confucius</td>\n",
       "      <td>[]</td>\n",
       "      <td>The course is suitable for readers who are int...</td>\n",
       "      <td>Based on The Analects and the results of liter...</td>\n",
       "      <td>[{'titles': ['Introduction to Wisdom of Life f...</td>\n",
       "    </tr>\n",
       "    <tr>\n",
       "      <th>1736</th>\n",
       "      <td>C_911162</td>\n",
       "      <td>微观经济学</td>\n",
       "      <td>[]</td>\n",
       "      <td></td>\n",
       "      <td>你注意到这样的现象吗？丰收的农民却减少了收入；亏损的企业仍在开工；犀牛濒临灭绝，黄牛却没有繁...</td>\n",
       "      <td>[{'titles': ['第一讲  导论', None, '1-01 经济与经济学'], ...</td>\n",
       "    </tr>\n",
       "    <tr>\n",
       "      <th>2925</th>\n",
       "      <td>C_682696</td>\n",
       "      <td>图像处理与分析</td>\n",
       "      <td>[]</td>\n",
       "      <td></td>\n",
       "      <td>《图像处理与分析》意在丰富学生图像处理与分析的知识，培养学生图像处理与分析的学习兴趣、创新思...</td>\n",
       "      <td>[{'titles': ['绪论', '数字图像处理概述', '数字图像处理的定义'], '...</td>\n",
       "    </tr>\n",
       "  </tbody>\n",
       "</table>\n",
       "</div>"
      ],
      "text/plain": [
       "             id                           name       field  \\\n",
       "737    C_682433                       中国近现代史纲要  [历史学, 政治学]   \n",
       "3144  C_1912010                  从新冠疫情看人类命运共同体          []   \n",
       "2502  C_1765591  Wisdom of Life from Confucius          []   \n",
       "1736   C_911162                          微观经济学          []   \n",
       "2925   C_682696                        图像处理与分析          []   \n",
       "\n",
       "                                          prerequisites  \\\n",
       "737                                                       \n",
       "3144                                                      \n",
       "2502  The course is suitable for readers who are int...   \n",
       "1736                                                      \n",
       "2925                                                      \n",
       "\n",
       "                                                  about  \\\n",
       "737   在这里，你能够领略近代以来的风云际会，感悟中华民族不屈不挠的追梦历程；在这里，你能够纵览近代...   \n",
       "3144  本课程从纷繁复杂的全球抗疫局势中选取了具有代表性的案例，以生动简明的方式阐述了疫情中关于全球...   \n",
       "2502  Based on The Analects and the results of liter...   \n",
       "1736  你注意到这样的现象吗？丰收的农民却减少了收入；亏损的企业仍在开工；犀牛濒临灭绝，黄牛却没有繁...   \n",
       "2925  《图像处理与分析》意在丰富学生图像处理与分析的知识，培养学生图像处理与分析的学习兴趣、创新思...   \n",
       "\n",
       "                                               resource  \n",
       "737   [{'titles': ['一、反对外国侵略的斗争', '1.教学视频', '资本-帝国主义...  \n",
       "3144  [{'titles': ['从新冠疫情看人类命运共同体（上）', None, '从新冠疫情看...  \n",
       "2502  [{'titles': ['Introduction to Wisdom of Life f...  \n",
       "1736  [{'titles': ['第一讲  导论', None, '1-01 经济与经济学'], ...  \n",
       "2925  [{'titles': ['绪论', '数字图像处理概述', '数字图像处理的定义'], '...  "
      ]
     },
     "execution_count": 14,
     "metadata": {},
     "output_type": "execute_result"
    }
   ],
   "source": [
    "coursex_df.sample(5)"
   ]
  },
  {
   "cell_type": "code",
   "execution_count": 10,
   "metadata": {},
   "outputs": [
    {
     "data": {
      "text/html": [
       "<div>\n",
       "<style scoped>\n",
       "    .dataframe tbody tr th:only-of-type {\n",
       "        vertical-align: middle;\n",
       "    }\n",
       "\n",
       "    .dataframe tbody tr th {\n",
       "        vertical-align: top;\n",
       "    }\n",
       "\n",
       "    .dataframe thead th {\n",
       "        text-align: right;\n",
       "    }\n",
       "</style>\n",
       "<table border=\"1\" class=\"dataframe\">\n",
       "  <thead>\n",
       "    <tr style=\"text-align: right;\">\n",
       "      <th></th>\n",
       "      <th>id</th>\n",
       "      <th>name</th>\n",
       "      <th>prerequisites</th>\n",
       "      <th>about</th>\n",
       "      <th>core_id</th>\n",
       "      <th>video_order</th>\n",
       "      <th>display_name</th>\n",
       "      <th>chapter</th>\n",
       "    </tr>\n",
       "  </thead>\n",
       "  <tbody>\n",
       "    <tr>\n",
       "      <th>294</th>\n",
       "      <td>C_course-v1:BNU+CSL21126882+2019_T1</td>\n",
       "      <td>应用语言学理论与实践</td>\n",
       "      <td>具备基本汉语基础知识 和基本语言学知识</td>\n",
       "      <td>《应用语言学理论与实践》这门课在语言学理论知识的基础上，将理论与实践相结合，着重讨论语言教学...</td>\n",
       "      <td>C_course-v1:BNU+CSL21126882+2019_T1</td>\n",
       "      <td>[V_e5e2e6f7f9ff49e3989a20574ca83325, V_37889f4...</td>\n",
       "      <td>[1.1 课程介绍, 1.2 应用语言学与语言教学实践的关系, 应用语言学视野下的汉语二语教...</td>\n",
       "      <td>[01.01.01.01, 01.02.01.01, 01.03.01.01, 01.03....</td>\n",
       "    </tr>\n",
       "    <tr>\n",
       "      <th>143</th>\n",
       "      <td>C_course-v1:SEU+00690803+sp</td>\n",
       "      <td>大学国文（下）（自主模式）</td>\n",
       "      <td>无</td>\n",
       "      <td>东南大学以王步高教授主持的大学国文（亦名：大学语文）课程，是同类课程中首门国家精品课程，目前...</td>\n",
       "      <td>C_course-v1:SEU+00690803+sp</td>\n",
       "      <td>[V_cf995150acdd449baf701c09106d98fc, V_9c570c3...</td>\n",
       "      <td>[1.1宋代的历史与文化, 1.2宋词繁荣的原因、北宋词总论, 1.3柳永词概述, 1.4《...</td>\n",
       "      <td>[01.01.01.01, 01.02.01.01, 01.03.01.01, 01.04....</td>\n",
       "    </tr>\n",
       "    <tr>\n",
       "      <th>677</th>\n",
       "      <td>C_course-v1:NEU+2018122401X+2019_T1</td>\n",
       "      <td>无机化学</td>\n",
       "      <td>无</td>\n",
       "      <td>无机化学主要教学内容包括：化学反应中的能量关系；化学反应的方向、速率和限度；酸碱反应和沉淀反...</td>\n",
       "      <td>C_course-v1:NEU+2018122401X+2019_T1</td>\n",
       "      <td>[V_73d77bc972db414f995bcf759394449d, V_9c898a4...</td>\n",
       "      <td>[物质的聚集状态和分压定律, 稀溶液的依数性(1), 稀溶液的依数性(2), 化学热力学基本...</td>\n",
       "      <td>[01.01.01.01, 01.02.01.01, 01.02.02.01, 02.01....</td>\n",
       "    </tr>\n",
       "    <tr>\n",
       "      <th>606</th>\n",
       "      <td>C_course-v1:NCTU+wym+2019_T1</td>\n",
       "      <td>明朝心学的智慧发展史：王阳明带你打土匪(2019春)</td>\n",
       "      <td>无先修要求。</td>\n",
       "      <td>世上的土匪何其多，最难缠的土匪就窝藏在你心底。清末民初的中国，正面临着各种内忧外患，不论是维...</td>\n",
       "      <td>C_course-v1:NCTU+wym+2019_T1</td>\n",
       "      <td>[V_afe3d051fbcf45328a038fa12ff39362, V_6a7faf1...</td>\n",
       "      <td>[课程宣传片, 给学员的话, 第壹讲：谁是王阳明, 第贰讲：王纲不做官, 第参讲：世杰代父入...</td>\n",
       "      <td>[01.01.01.01, 01.01.02.01, 02.01.01.01, 02.01....</td>\n",
       "    </tr>\n",
       "    <tr>\n",
       "      <th>665</th>\n",
       "      <td>C_course-v1:shsmu+shsmu001+2019_T1</td>\n",
       "      <td>常见病的健康管理（2019春）</td>\n",
       "      <td>无</td>\n",
       "      <td>常见病的评估、诊断与治疗是临床医学的重要组成部分，是认识和防治疾病、保护和人们生活质量的重要...</td>\n",
       "      <td>C_course-v1:shsmu+shsmu001+2019_T1</td>\n",
       "      <td>[V_c4aa2a815dc146738451bcee6827a23e, V_90d0a87...</td>\n",
       "      <td>[情景剧, 如何识别肝硬化, 肝硬化的病因和发病机制, 肝硬化的并发症, 肝硬化的实验室检查...</td>\n",
       "      <td>[01.01.01.01, 01.01.02.01, 01.02.01.01, 01.03....</td>\n",
       "    </tr>\n",
       "  </tbody>\n",
       "</table>\n",
       "</div>"
      ],
      "text/plain": [
       "                                      id                        name  \\\n",
       "294  C_course-v1:BNU+CSL21126882+2019_T1                  应用语言学理论与实践   \n",
       "143          C_course-v1:SEU+00690803+sp               大学国文（下）（自主模式）   \n",
       "677  C_course-v1:NEU+2018122401X+2019_T1                        无机化学   \n",
       "606         C_course-v1:NCTU+wym+2019_T1  明朝心学的智慧发展史：王阳明带你打土匪(2019春)   \n",
       "665   C_course-v1:shsmu+shsmu001+2019_T1             常见病的健康管理（2019春）   \n",
       "\n",
       "           prerequisites                                              about  \\\n",
       "294  具备基本汉语基础知识 和基本语言学知识  《应用语言学理论与实践》这门课在语言学理论知识的基础上，将理论与实践相结合，着重讨论语言教学...   \n",
       "143                    无  东南大学以王步高教授主持的大学国文（亦名：大学语文）课程，是同类课程中首门国家精品课程，目前...   \n",
       "677                    无  无机化学主要教学内容包括：化学反应中的能量关系；化学反应的方向、速率和限度；酸碱反应和沉淀反...   \n",
       "606               无先修要求。  世上的土匪何其多，最难缠的土匪就窝藏在你心底。清末民初的中国，正面临着各种内忧外患，不论是维...   \n",
       "665                    无  常见病的评估、诊断与治疗是临床医学的重要组成部分，是认识和防治疾病、保护和人们生活质量的重要...   \n",
       "\n",
       "                                 core_id  \\\n",
       "294  C_course-v1:BNU+CSL21126882+2019_T1   \n",
       "143          C_course-v1:SEU+00690803+sp   \n",
       "677  C_course-v1:NEU+2018122401X+2019_T1   \n",
       "606         C_course-v1:NCTU+wym+2019_T1   \n",
       "665   C_course-v1:shsmu+shsmu001+2019_T1   \n",
       "\n",
       "                                           video_order  \\\n",
       "294  [V_e5e2e6f7f9ff49e3989a20574ca83325, V_37889f4...   \n",
       "143  [V_cf995150acdd449baf701c09106d98fc, V_9c570c3...   \n",
       "677  [V_73d77bc972db414f995bcf759394449d, V_9c898a4...   \n",
       "606  [V_afe3d051fbcf45328a038fa12ff39362, V_6a7faf1...   \n",
       "665  [V_c4aa2a815dc146738451bcee6827a23e, V_90d0a87...   \n",
       "\n",
       "                                          display_name  \\\n",
       "294  [1.1 课程介绍, 1.2 应用语言学与语言教学实践的关系, 应用语言学视野下的汉语二语教...   \n",
       "143  [1.1宋代的历史与文化, 1.2宋词繁荣的原因、北宋词总论, 1.3柳永词概述, 1.4《...   \n",
       "677  [物质的聚集状态和分压定律, 稀溶液的依数性(1), 稀溶液的依数性(2), 化学热力学基本...   \n",
       "606  [课程宣传片, 给学员的话, 第壹讲：谁是王阳明, 第贰讲：王纲不做官, 第参讲：世杰代父入...   \n",
       "665  [情景剧, 如何识别肝硬化, 肝硬化的病因和发病机制, 肝硬化的并发症, 肝硬化的实验室检查...   \n",
       "\n",
       "                                               chapter  \n",
       "294  [01.01.01.01, 01.02.01.01, 01.03.01.01, 01.03....  \n",
       "143  [01.01.01.01, 01.02.01.01, 01.03.01.01, 01.04....  \n",
       "677  [01.01.01.01, 01.02.01.01, 01.02.02.01, 02.01....  \n",
       "606  [01.01.01.01, 01.01.02.01, 02.01.01.01, 02.01....  \n",
       "665  [01.01.01.01, 01.01.02.01, 01.02.01.01, 01.03....  "
      ]
     },
     "execution_count": 10,
     "metadata": {},
     "output_type": "execute_result"
    }
   ],
   "source": [
    "def remove_html_and_carriage_returns(text):\n",
    "    soup = BeautifulSoup(text, \"html.parser\")\n",
    "    text_without_html = soup.get_text().replace(\"\\n\",\"\").replace(\"\\r\",\"\").replace(\"\\t\",\"\")\n",
    "    \n",
    "    return text_without_html\n",
    "\n",
    "course_df[\"about\"] = course_df[\"about\"].apply(remove_html_and_carriage_returns)\n",
    "course_df.sample(5)"
   ]
  },
  {
   "cell_type": "code",
   "execution_count": 10,
   "metadata": {},
   "outputs": [],
   "source": [
    "# sentences = []\n",
    "# course_ids = [] \n",
    "# for index, row in course_df.iterrows():\n",
    "#     course_ids.append(row[\"id\"])\n",
    "#     sentences.append(row[\"about\"])\n",
    "# model = SentenceTransformer('sentence-transformers/distiluse-base-multilingual-cased-v1')\n",
    "# embeddings = model.encode(sentences)\n"
   ]
  },
  {
   "cell_type": "code",
   "execution_count": 11,
   "metadata": {},
   "outputs": [],
   "source": [
    "# course_df = course_df.explode('video_order').reset_index()\n",
    "# course_df.head(5)"
   ]
  },
  {
   "cell_type": "code",
   "execution_count": 12,
   "metadata": {},
   "outputs": [],
   "source": [
    "# course_df = course_df.drop('index', axis=1)\n",
    "# course_df.head(5)"
   ]
  },
  {
   "cell_type": "markdown",
   "metadata": {},
   "source": [
    "## Papers"
   ]
  },
  {
   "cell_type": "code",
   "execution_count": 13,
   "metadata": {},
   "outputs": [],
   "source": [
    "paper_df = pd.read_json(\"../data/MOOCCube/entities/paper.json\",lines=True)"
   ]
  },
  {
   "cell_type": "code",
   "execution_count": 14,
   "metadata": {},
   "outputs": [
    {
     "data": {
      "text/plain": [
       "(679790, 14)"
      ]
     },
     "execution_count": 14,
     "metadata": {},
     "output_type": "execute_result"
    }
   ],
   "source": [
    "paper_df.shape"
   ]
  },
  {
   "cell_type": "code",
   "execution_count": 15,
   "metadata": {},
   "outputs": [
    {
     "data": {
      "text/html": [
       "<div>\n",
       "<style scoped>\n",
       "    .dataframe tbody tr th:only-of-type {\n",
       "        vertical-align: middle;\n",
       "    }\n",
       "\n",
       "    .dataframe tbody tr th {\n",
       "        vertical-align: top;\n",
       "    }\n",
       "\n",
       "    .dataframe thead th {\n",
       "        text-align: right;\n",
       "    }\n",
       "</style>\n",
       "<table border=\"1\" class=\"dataframe\">\n",
       "  <thead>\n",
       "    <tr style=\"text-align: right;\">\n",
       "      <th></th>\n",
       "      <th>id</th>\n",
       "      <th>name</th>\n",
       "      <th>abstract</th>\n",
       "      <th>authors</th>\n",
       "      <th>doi</th>\n",
       "      <th>lang</th>\n",
       "      <th>num_citation</th>\n",
       "      <th>pdf</th>\n",
       "      <th>sourcetype</th>\n",
       "      <th>title</th>\n",
       "      <th>venue</th>\n",
       "      <th>year</th>\n",
       "      <th>pages</th>\n",
       "      <th>urls</th>\n",
       "    </tr>\n",
       "  </thead>\n",
       "  <tbody>\n",
       "    <tr>\n",
       "      <th>382178</th>\n",
       "      <td>P_56d91b2adabfae2eee7ae3dd</td>\n",
       "      <td></td>\n",
       "      <td></td>\n",
       "      <td>[{'id': '53f4369bdabfaeee229aced9', 'name': 'm...</td>\n",
       "      <td>10.1038/nm1523</td>\n",
       "      <td>en</td>\n",
       "      <td>1716</td>\n",
       "      <td>NaN</td>\n",
       "      <td>publication</td>\n",
       "      <td>Calreticulin exposure dictates the immunogenic...</td>\n",
       "      <td>{'info': {'name': 'Nature Medicine'}, 'issue':...</td>\n",
       "      <td>2007</td>\n",
       "      <td>{'end': '', 'start': ''}</td>\n",
       "      <td>[http://dx.doi.org/10.1038/nm1523]</td>\n",
       "    </tr>\n",
       "    <tr>\n",
       "      <th>457502</th>\n",
       "      <td>P_53e9bbf5b7602d9704851b5a</td>\n",
       "      <td></td>\n",
       "      <td></td>\n",
       "      <td>[{'id': '53f43011dabfaedf435384fa', 'name': 'C...</td>\n",
       "      <td></td>\n",
       "      <td>en</td>\n",
       "      <td>14</td>\n",
       "      <td>NaN</td>\n",
       "      <td>publication</td>\n",
       "      <td>Inside the Content: The Breadth and Depth of E...</td>\n",
       "      <td>{'issue': '', 'volume': ''}</td>\n",
       "      <td>2005</td>\n",
       "      <td>{'end': '', 'start': ''}</td>\n",
       "      <td>NaN</td>\n",
       "    </tr>\n",
       "    <tr>\n",
       "      <th>107284</th>\n",
       "      <td>P_56d845cbdabfae2eeead2d6e</td>\n",
       "      <td></td>\n",
       "      <td></td>\n",
       "      <td>[{'name': 'guidi'}]</td>\n",
       "      <td></td>\n",
       "      <td>en</td>\n",
       "      <td>0</td>\n",
       "      <td>NaN</td>\n",
       "      <td>publication</td>\n",
       "      <td>MANIPULATOR FOR DISMANTLING AND FASTENING PRES...</td>\n",
       "      <td>{'issue': '', 'volume': ''}</td>\n",
       "      <td>1965</td>\n",
       "      <td>{'end': '', 'start': ''}</td>\n",
       "      <td>NaN</td>\n",
       "    </tr>\n",
       "    <tr>\n",
       "      <th>567034</th>\n",
       "      <td>P_53e9ba28b7602d97046335ec</td>\n",
       "      <td></td>\n",
       "      <td>Distributed generation systems usually include...</td>\n",
       "      <td>[{'id': '562d9d2e45cedb3398e843ca', 'name': 'P...</td>\n",
       "      <td>10.1109/TIE.2012.2208429</td>\n",
       "      <td>en</td>\n",
       "      <td>56</td>\n",
       "      <td>NaN</td>\n",
       "      <td>publication</td>\n",
       "      <td>Compact Integrated Energy Systems for Distribu...</td>\n",
       "      <td>{'info': {'name': 'IEEE Transactions on Indust...</td>\n",
       "      <td>2012</td>\n",
       "      <td>{'end': '1502', 'start': '1492'}</td>\n",
       "      <td>[http://dx.doi.org/10.1109/TIE.2012.2208429, h...</td>\n",
       "    </tr>\n",
       "    <tr>\n",
       "      <th>140994</th>\n",
       "      <td>P_53e9b2e0b7602d9703d947b3</td>\n",
       "      <td></td>\n",
       "      <td>Summary 19 “endodermal sinus tumors” of infant...</td>\n",
       "      <td>[{'id': '53f3b0a2dabfae4b34b19fa5', 'name': 'W...</td>\n",
       "      <td>10.1007/BF01230860</td>\n",
       "      <td>en</td>\n",
       "      <td>22</td>\n",
       "      <td>NaN</td>\n",
       "      <td>publication</td>\n",
       "      <td>Endodermal sinus tumor or orchioblastoma in ch...</td>\n",
       "      <td>{'info': {'name': 'Virchows Archiv. A, Patholo...</td>\n",
       "      <td>1974</td>\n",
       "      <td>{'end': '110', 'start': '93'}</td>\n",
       "      <td>[http://dx.doi.org/10.1007/BF01230860, http://...</td>\n",
       "    </tr>\n",
       "  </tbody>\n",
       "</table>\n",
       "</div>"
      ],
      "text/plain": [
       "                                id name  \\\n",
       "382178  P_56d91b2adabfae2eee7ae3dd        \n",
       "457502  P_53e9bbf5b7602d9704851b5a        \n",
       "107284  P_56d845cbdabfae2eeead2d6e        \n",
       "567034  P_53e9ba28b7602d97046335ec        \n",
       "140994  P_53e9b2e0b7602d9703d947b3        \n",
       "\n",
       "                                                 abstract  \\\n",
       "382178                                                      \n",
       "457502                                                      \n",
       "107284                                                      \n",
       "567034  Distributed generation systems usually include...   \n",
       "140994  Summary 19 “endodermal sinus tumors” of infant...   \n",
       "\n",
       "                                                  authors  \\\n",
       "382178  [{'id': '53f4369bdabfaeee229aced9', 'name': 'm...   \n",
       "457502  [{'id': '53f43011dabfaedf435384fa', 'name': 'C...   \n",
       "107284                                [{'name': 'guidi'}]   \n",
       "567034  [{'id': '562d9d2e45cedb3398e843ca', 'name': 'P...   \n",
       "140994  [{'id': '53f3b0a2dabfae4b34b19fa5', 'name': 'W...   \n",
       "\n",
       "                             doi lang  num_citation  pdf   sourcetype  \\\n",
       "382178            10.1038/nm1523   en          1716  NaN  publication   \n",
       "457502                             en            14  NaN  publication   \n",
       "107284                             en             0  NaN  publication   \n",
       "567034  10.1109/TIE.2012.2208429   en            56  NaN  publication   \n",
       "140994        10.1007/BF01230860   en            22  NaN  publication   \n",
       "\n",
       "                                                    title  \\\n",
       "382178  Calreticulin exposure dictates the immunogenic...   \n",
       "457502  Inside the Content: The Breadth and Depth of E...   \n",
       "107284  MANIPULATOR FOR DISMANTLING AND FASTENING PRES...   \n",
       "567034  Compact Integrated Energy Systems for Distribu...   \n",
       "140994  Endodermal sinus tumor or orchioblastoma in ch...   \n",
       "\n",
       "                                                    venue  year  \\\n",
       "382178  {'info': {'name': 'Nature Medicine'}, 'issue':...  2007   \n",
       "457502                        {'issue': '', 'volume': ''}  2005   \n",
       "107284                        {'issue': '', 'volume': ''}  1965   \n",
       "567034  {'info': {'name': 'IEEE Transactions on Indust...  2012   \n",
       "140994  {'info': {'name': 'Virchows Archiv. A, Patholo...  1974   \n",
       "\n",
       "                                   pages  \\\n",
       "382178          {'end': '', 'start': ''}   \n",
       "457502          {'end': '', 'start': ''}   \n",
       "107284          {'end': '', 'start': ''}   \n",
       "567034  {'end': '1502', 'start': '1492'}   \n",
       "140994     {'end': '110', 'start': '93'}   \n",
       "\n",
       "                                                     urls  \n",
       "382178                 [http://dx.doi.org/10.1038/nm1523]  \n",
       "457502                                                NaN  \n",
       "107284                                                NaN  \n",
       "567034  [http://dx.doi.org/10.1109/TIE.2012.2208429, h...  \n",
       "140994  [http://dx.doi.org/10.1007/BF01230860, http://...  "
      ]
     },
     "execution_count": 15,
     "metadata": {},
     "output_type": "execute_result"
    }
   ],
   "source": [
    "paper_df.sample(5)"
   ]
  },
  {
   "cell_type": "markdown",
   "metadata": {},
   "source": [
    "## School"
   ]
  },
  {
   "cell_type": "code",
   "execution_count": 16,
   "metadata": {},
   "outputs": [],
   "source": [
    "school_df = pd.read_json(\"../data/MOOCCube/entities/school.json\",lines=True)"
   ]
  },
  {
   "cell_type": "code",
   "execution_count": 17,
   "metadata": {},
   "outputs": [
    {
     "data": {
      "text/plain": [
       "(208, 3)"
      ]
     },
     "execution_count": 17,
     "metadata": {},
     "output_type": "execute_result"
    }
   ],
   "source": [
    "school_df.shape"
   ]
  },
  {
   "cell_type": "code",
   "execution_count": 18,
   "metadata": {},
   "outputs": [
    {
     "data": {
      "text/html": [
       "<div>\n",
       "<style scoped>\n",
       "    .dataframe tbody tr th:only-of-type {\n",
       "        vertical-align: middle;\n",
       "    }\n",
       "\n",
       "    .dataframe tbody tr th {\n",
       "        vertical-align: top;\n",
       "    }\n",
       "\n",
       "    .dataframe thead th {\n",
       "        text-align: right;\n",
       "    }\n",
       "</style>\n",
       "<table border=\"1\" class=\"dataframe\">\n",
       "  <thead>\n",
       "    <tr style=\"text-align: right;\">\n",
       "      <th></th>\n",
       "      <th>id</th>\n",
       "      <th>name</th>\n",
       "      <th>about</th>\n",
       "    </tr>\n",
       "  </thead>\n",
       "  <tbody>\n",
       "    <tr>\n",
       "      <th>181</th>\n",
       "      <td>S_microdegree</td>\n",
       "      <td></td>\n",
       "      <td></td>\n",
       "    </tr>\n",
       "    <tr>\n",
       "      <th>33</th>\n",
       "      <td>S_McGillX</td>\n",
       "      <td>麦吉尔大学</td>\n",
       "      <td>麦吉尔大学（McGill University), 简称McGill或麦大, 始建于1821...</td>\n",
       "    </tr>\n",
       "    <tr>\n",
       "      <th>138</th>\n",
       "      <td>S_WUT</td>\n",
       "      <td>武汉理工大学</td>\n",
       "      <td>武汉理工大学（Wuhan University of Technology，WUT），简称武...</td>\n",
       "    </tr>\n",
       "    <tr>\n",
       "      <th>95</th>\n",
       "      <td>S_WellesleyX</td>\n",
       "      <td>韦尔斯利大学</td>\n",
       "      <td>韦尔斯利学院（Wellesley College）由当地乡绅 Durant 夫妇注册于187...</td>\n",
       "    </tr>\n",
       "    <tr>\n",
       "      <th>81</th>\n",
       "      <td>S_qdu</td>\n",
       "      <td>青岛大学</td>\n",
       "      <td>青岛大学（Qingdao University）是由山东省与青岛市共建的山东省属重点综合大学...</td>\n",
       "    </tr>\n",
       "  </tbody>\n",
       "</table>\n",
       "</div>"
      ],
      "text/plain": [
       "                id    name                                              about\n",
       "181  S_microdegree                                                           \n",
       "33       S_McGillX   麦吉尔大学  麦吉尔大学（McGill University), 简称McGill或麦大, 始建于1821...\n",
       "138          S_WUT  武汉理工大学  武汉理工大学（Wuhan University of Technology，WUT），简称武...\n",
       "95    S_WellesleyX  韦尔斯利大学  韦尔斯利学院（Wellesley College）由当地乡绅 Durant 夫妇注册于187...\n",
       "81           S_qdu    青岛大学  青岛大学（Qingdao University）是由山东省与青岛市共建的山东省属重点综合大学..."
      ]
     },
     "execution_count": 18,
     "metadata": {},
     "output_type": "execute_result"
    }
   ],
   "source": [
    "school_df.sample(5)"
   ]
  },
  {
   "cell_type": "markdown",
   "metadata": {},
   "source": [
    "## Teacher"
   ]
  },
  {
   "cell_type": "code",
   "execution_count": 19,
   "metadata": {},
   "outputs": [],
   "source": [
    "teacher_df = pd.read_json(\"../data/MOOCCube/entities/teacher.json\",lines=True)"
   ]
  },
  {
   "cell_type": "code",
   "execution_count": 20,
   "metadata": {},
   "outputs": [
    {
     "data": {
      "text/plain": [
       "(1738, 3)"
      ]
     },
     "execution_count": 20,
     "metadata": {},
     "output_type": "execute_result"
    }
   ],
   "source": [
    "teacher_df.shape"
   ]
  },
  {
   "cell_type": "code",
   "execution_count": 21,
   "metadata": {},
   "outputs": [
    {
     "data": {
      "text/html": [
       "<div>\n",
       "<style scoped>\n",
       "    .dataframe tbody tr th:only-of-type {\n",
       "        vertical-align: middle;\n",
       "    }\n",
       "\n",
       "    .dataframe tbody tr th {\n",
       "        vertical-align: top;\n",
       "    }\n",
       "\n",
       "    .dataframe thead th {\n",
       "        text-align: right;\n",
       "    }\n",
       "</style>\n",
       "<table border=\"1\" class=\"dataframe\">\n",
       "  <thead>\n",
       "    <tr style=\"text-align: right;\">\n",
       "      <th></th>\n",
       "      <th>id</th>\n",
       "      <th>name</th>\n",
       "      <th>about</th>\n",
       "    </tr>\n",
       "  </thead>\n",
       "  <tbody>\n",
       "    <tr>\n",
       "      <th>1730</th>\n",
       "      <td>T_Gerald Sussman</td>\n",
       "      <td>Gerald Sussman</td>\n",
       "      <td>Gerald Sussman教授是MIT电气工程专业的教授。他是计算机领域享有盛誉的教育家。...</td>\n",
       "    </tr>\n",
       "    <tr>\n",
       "      <th>296</th>\n",
       "      <td>T_Ela Ben-Ur</td>\n",
       "      <td>Ela Ben-Ur</td>\n",
       "      <td>Ela担任i2i Experience的顾问、教练和导师，专注与设计研发和策略。她曾在IDE...</td>\n",
       "    </tr>\n",
       "    <tr>\n",
       "      <th>1127</th>\n",
       "      <td>T_戎贤</td>\n",
       "      <td>戎贤</td>\n",
       "      <td>戎贤，博士，教授，博士生导师。河北省教学名师，获省部级科技进步奖四项、教学成果奖三项、国家专...</td>\n",
       "    </tr>\n",
       "    <tr>\n",
       "      <th>866</th>\n",
       "      <td>T_杨畅</td>\n",
       "      <td>杨畅</td>\n",
       "      <td>博士，副教授，贵州医科大学硕士研究生导师，研究方向为新型药物传递系统、造影材料与中药新剂型的...</td>\n",
       "    </tr>\n",
       "    <tr>\n",
       "      <th>820</th>\n",
       "      <td>T_马凯</td>\n",
       "      <td>马凯</td>\n",
       "      <td>马凯，硕士，副教授，北京服装学院 服装艺术与工程学院教师。1999年于北京航空航天大学获工学...</td>\n",
       "    </tr>\n",
       "  </tbody>\n",
       "</table>\n",
       "</div>"
      ],
      "text/plain": [
       "                    id            name  \\\n",
       "1730  T_Gerald Sussman  Gerald Sussman   \n",
       "296       T_Ela Ben-Ur      Ela Ben-Ur   \n",
       "1127              T_戎贤              戎贤   \n",
       "866               T_杨畅              杨畅   \n",
       "820               T_马凯              马凯   \n",
       "\n",
       "                                                  about  \n",
       "1730  Gerald Sussman教授是MIT电气工程专业的教授。他是计算机领域享有盛誉的教育家。...  \n",
       "296   Ela担任i2i Experience的顾问、教练和导师，专注与设计研发和策略。她曾在IDE...  \n",
       "1127  戎贤，博士，教授，博士生导师。河北省教学名师，获省部级科技进步奖四项、教学成果奖三项、国家专...  \n",
       "866   博士，副教授，贵州医科大学硕士研究生导师，研究方向为新型药物传递系统、造影材料与中药新剂型的...  \n",
       "820   马凯，硕士，副教授，北京服装学院 服装艺术与工程学院教师。1999年于北京航空航天大学获工学...  "
      ]
     },
     "execution_count": 21,
     "metadata": {},
     "output_type": "execute_result"
    }
   ],
   "source": [
    "teacher_df.sample(5)"
   ]
  },
  {
   "cell_type": "markdown",
   "metadata": {},
   "source": [
    "## User"
   ]
  },
  {
   "cell_type": "code",
   "execution_count": 7,
   "metadata": {},
   "outputs": [],
   "source": [
    "user_df = pd.read_json(\"../data/MOOCCube/entities/user.json\",lines=True)\n",
    "userx_df = pd.read_json(\"../data/MOOCCubeX/entities/user.json\",lines=True)"
   ]
  },
  {
   "cell_type": "code",
   "execution_count": 17,
   "metadata": {},
   "outputs": [
    {
     "data": {
      "text/plain": [
       "(199199, 4)"
      ]
     },
     "execution_count": 17,
     "metadata": {},
     "output_type": "execute_result"
    }
   ],
   "source": [
    "user_df.shape"
   ]
  },
  {
   "cell_type": "code",
   "execution_count": 18,
   "metadata": {},
   "outputs": [
    {
     "data": {
      "text/plain": [
       "(3330294, 7)"
      ]
     },
     "execution_count": 18,
     "metadata": {},
     "output_type": "execute_result"
    }
   ],
   "source": [
    "userx_df.shape"
   ]
  },
  {
   "cell_type": "code",
   "execution_count": 19,
   "metadata": {},
   "outputs": [
    {
     "data": {
      "text/html": [
       "<div>\n",
       "<style scoped>\n",
       "    .dataframe tbody tr th:only-of-type {\n",
       "        vertical-align: middle;\n",
       "    }\n",
       "\n",
       "    .dataframe tbody tr th {\n",
       "        vertical-align: top;\n",
       "    }\n",
       "\n",
       "    .dataframe thead th {\n",
       "        text-align: right;\n",
       "    }\n",
       "</style>\n",
       "<table border=\"1\" class=\"dataframe\">\n",
       "  <thead>\n",
       "    <tr style=\"text-align: right;\">\n",
       "      <th></th>\n",
       "      <th>id</th>\n",
       "      <th>name</th>\n",
       "      <th>course_order</th>\n",
       "      <th>enroll_time</th>\n",
       "    </tr>\n",
       "  </thead>\n",
       "  <tbody>\n",
       "    <tr>\n",
       "      <th>149173</th>\n",
       "      <td>U_7374665</td>\n",
       "      <td>繁欣德</td>\n",
       "      <td>[C_course-v1:TsinghuaX+30700313X+sp, C_course-...</td>\n",
       "      <td>[2017-08-06 14:50:14, 2017-08-05 21:35:17]</td>\n",
       "    </tr>\n",
       "    <tr>\n",
       "      <th>165384</th>\n",
       "      <td>U_4506437</td>\n",
       "      <td>进经纶</td>\n",
       "      <td>[C_course-v1:TsinghuaX+00040132X+sp, C_course-...</td>\n",
       "      <td>[2016-09-22 23:26:36, 2019-05-26 15:37:20, 201...</td>\n",
       "    </tr>\n",
       "    <tr>\n",
       "      <th>191899</th>\n",
       "      <td>U_9470358</td>\n",
       "      <td>竺以蓝</td>\n",
       "      <td>[C_course-v1:TsinghuaX+00740123_X+sp, C_course...</td>\n",
       "      <td>[2018-07-16 16:41:49, 2018-07-17 13:12:06]</td>\n",
       "    </tr>\n",
       "    <tr>\n",
       "      <th>163610</th>\n",
       "      <td>U_4785923</td>\n",
       "      <td>叶勇军</td>\n",
       "      <td>[C_course-v1:UST+UST001+sp, C_course-v1:Tsingh...</td>\n",
       "      <td>[2016-10-12 10:05:24, 2018-11-06 21:53:23, 201...</td>\n",
       "    </tr>\n",
       "    <tr>\n",
       "      <th>100608</th>\n",
       "      <td>U_10237557</td>\n",
       "      <td>渠幼柏</td>\n",
       "      <td>[C_course-v1:TsinghuaX+70800232X+2019_T1, C_co...</td>\n",
       "      <td>[2019-03-14 18:42:20, 2018-12-03 17:31:57]</td>\n",
       "    </tr>\n",
       "  </tbody>\n",
       "</table>\n",
       "</div>"
      ],
      "text/plain": [
       "                id name                                       course_order  \\\n",
       "149173   U_7374665  繁欣德  [C_course-v1:TsinghuaX+30700313X+sp, C_course-...   \n",
       "165384   U_4506437  进经纶  [C_course-v1:TsinghuaX+00040132X+sp, C_course-...   \n",
       "191899   U_9470358  竺以蓝  [C_course-v1:TsinghuaX+00740123_X+sp, C_course...   \n",
       "163610   U_4785923  叶勇军  [C_course-v1:UST+UST001+sp, C_course-v1:Tsingh...   \n",
       "100608  U_10237557  渠幼柏  [C_course-v1:TsinghuaX+70800232X+2019_T1, C_co...   \n",
       "\n",
       "                                              enroll_time  \n",
       "149173         [2017-08-06 14:50:14, 2017-08-05 21:35:17]  \n",
       "165384  [2016-09-22 23:26:36, 2019-05-26 15:37:20, 201...  \n",
       "191899         [2018-07-16 16:41:49, 2018-07-17 13:12:06]  \n",
       "163610  [2016-10-12 10:05:24, 2018-11-06 21:53:23, 201...  \n",
       "100608         [2019-03-14 18:42:20, 2018-12-03 17:31:57]  "
      ]
     },
     "execution_count": 19,
     "metadata": {},
     "output_type": "execute_result"
    }
   ],
   "source": [
    "user_df.sample(5)"
   ]
  },
  {
   "cell_type": "code",
   "execution_count": 20,
   "metadata": {},
   "outputs": [
    {
     "data": {
      "text/html": [
       "<div>\n",
       "<style scoped>\n",
       "    .dataframe tbody tr th:only-of-type {\n",
       "        vertical-align: middle;\n",
       "    }\n",
       "\n",
       "    .dataframe tbody tr th {\n",
       "        vertical-align: top;\n",
       "    }\n",
       "\n",
       "    .dataframe thead th {\n",
       "        text-align: right;\n",
       "    }\n",
       "</style>\n",
       "<table border=\"1\" class=\"dataframe\">\n",
       "  <thead>\n",
       "    <tr style=\"text-align: right;\">\n",
       "      <th></th>\n",
       "      <th>id</th>\n",
       "      <th>name</th>\n",
       "      <th>gender</th>\n",
       "      <th>school</th>\n",
       "      <th>year_of_birth</th>\n",
       "      <th>course_order</th>\n",
       "      <th>enroll_time</th>\n",
       "    </tr>\n",
       "  </thead>\n",
       "  <tbody>\n",
       "    <tr>\n",
       "      <th>747524</th>\n",
       "      <td>U_12652424</td>\n",
       "      <td>武汉纺织大学井立洋1913220618</td>\n",
       "      <td>1.0</td>\n",
       "      <td></td>\n",
       "      <td>NaN</td>\n",
       "      <td>[936971]</td>\n",
       "      <td>[2020-04-25 19:39:22]</td>\n",
       "    </tr>\n",
       "    <tr>\n",
       "      <th>1152127</th>\n",
       "      <td>U_15104038</td>\n",
       "      <td>某渣渣</td>\n",
       "      <td>0.0</td>\n",
       "      <td></td>\n",
       "      <td>NaN</td>\n",
       "      <td>[682400, 697778, 682683, 682457, 697170]</td>\n",
       "      <td>[2019-12-19 00:11:49, 2019-12-19 00:13:10, 201...</td>\n",
       "    </tr>\n",
       "    <tr>\n",
       "      <th>3156752</th>\n",
       "      <td>U_33278896</td>\n",
       "      <td>郭馨志</td>\n",
       "      <td>1.0</td>\n",
       "      <td></td>\n",
       "      <td>NaN</td>\n",
       "      <td>[932179]</td>\n",
       "      <td>[2020-09-21 16:08:49]</td>\n",
       "    </tr>\n",
       "    <tr>\n",
       "      <th>825748</th>\n",
       "      <td>U_12896472</td>\n",
       "      <td>\"鲜果果园 ℡\"</td>\n",
       "      <td>0.0</td>\n",
       "      <td></td>\n",
       "      <td>NaN</td>\n",
       "      <td>[680937, 696700, 681754, 696800, 680968, 70709...</td>\n",
       "      <td>[2019-10-24 17:19:24, 2019-11-01 17:50:21, 201...</td>\n",
       "    </tr>\n",
       "    <tr>\n",
       "      <th>300439</th>\n",
       "      <td>U_6073229</td>\n",
       "      <td>何旭华</td>\n",
       "      <td>2.0</td>\n",
       "      <td>三峡大学</td>\n",
       "      <td>NaN</td>\n",
       "      <td>[927972, 696994, 696947, 697041]</td>\n",
       "      <td>[2020-01-15 18:30:01, 2020-01-31 11:46:57, 202...</td>\n",
       "    </tr>\n",
       "  </tbody>\n",
       "</table>\n",
       "</div>"
      ],
      "text/plain": [
       "                 id                  name  gender school  year_of_birth  \\\n",
       "747524   U_12652424   武汉纺织大学井立洋1913220618     1.0                   NaN   \n",
       "1152127  U_15104038                   某渣渣     0.0                   NaN   \n",
       "3156752  U_33278896                   郭馨志     1.0                   NaN   \n",
       "825748   U_12896472            \"鲜果果园 ℡\"     0.0                   NaN   \n",
       "300439    U_6073229                   何旭华     2.0   三峡大学            NaN   \n",
       "\n",
       "                                              course_order  \\\n",
       "747524                                            [936971]   \n",
       "1152127           [682400, 697778, 682683, 682457, 697170]   \n",
       "3156752                                           [932179]   \n",
       "825748   [680937, 696700, 681754, 696800, 680968, 70709...   \n",
       "300439                    [927972, 696994, 696947, 697041]   \n",
       "\n",
       "                                               enroll_time  \n",
       "747524                               [2020-04-25 19:39:22]  \n",
       "1152127  [2019-12-19 00:11:49, 2019-12-19 00:13:10, 201...  \n",
       "3156752                              [2020-09-21 16:08:49]  \n",
       "825748   [2019-10-24 17:19:24, 2019-11-01 17:50:21, 201...  \n",
       "300439   [2020-01-15 18:30:01, 2020-01-31 11:46:57, 202...  "
      ]
     },
     "execution_count": 20,
     "metadata": {},
     "output_type": "execute_result"
    }
   ],
   "source": [
    "userx_df.sample(5)"
   ]
  },
  {
   "cell_type": "code",
   "execution_count": 16,
   "metadata": {},
   "outputs": [
    {
     "name": "stdout",
     "output_type": "stream",
     "text": [
      "['C_course-v1:TsinghuaX+20430064_2X+sp', 'C_course-v1:TsinghuaX+02070251X+2019_T1', 'C_course-v1:TsinghuaX+0350161X_2015_T2+sp', 'C_course-v1:TsinghuaX+60240013X+sp', 'C_course-v1:TsinghuaX+01030132X+sp', 'C_course-v1:TsinghuaX+20250103X+sp', 'C_course-v1:TsinghuaX+20220214X+2019_T1', 'C_course-v1:TsinghuaX+02070251X+sp', 'C_course-v1:TsinghuaX+20220053X_2015_T2+sp', 'C_course-v1:TsinghuaX+20350033X+sp']\n",
      "['C_course-v1:TsinghuaX+30640014X+2019_T1', 'C_course-v1:TsinghuaX+00612643X+sp', 'C_course-v1:TsinghuaX+00612642X+2019_T1', 'C_course-v1:TsinghuaX+20250103X+sp', 'C_course-v1:TsinghuaX+30640014X+sp', 'C_course-v1:TsinghuaX+00701032X+sp', 'C_course-v1:HNU+GE14068+2019_T1', 'C_course-v1:HEBNU+2017011901X+sp', 'C_course-v1:TsinghuaX+00612642X+sp']\n",
      "['C_course-v1:gmc+3060511+2018_T2', 'C_course-v1:WageningenX+NUTR101x+sp', 'C_course-v1:TsinghuaX+80000271X+sp', 'C_course-v1:TsinghuaX+00040132X+sp', 'C_course-v1:MIL+MIL2016001+sp', 'C_course-v1:UQx+BIOIMG101x+sp', 'C_course-v1:PSFFC+2018102405X+2018_T2', 'C_course-v1:dlmu+20180330+sp', 'C_course-v1:YMY+20171108001+sp', 'C_course-v1:PSFFC+2018102406X+2018_T2', 'C_course-v1:HUBU+HU08003X+sp']\n"
     ]
    }
   ],
   "source": [
    "i = 0\n",
    "for index, row in user_df.iterrows():\n",
    "    if len(row[\"course_order\"])>7 and i<3:\n",
    "        i +=1\n",
    "        print(row[\"course_order\"])\n",
    "    "
   ]
  },
  {
   "cell_type": "markdown",
   "metadata": {},
   "source": [
    "## Video"
   ]
  },
  {
   "cell_type": "code",
   "execution_count": 4,
   "metadata": {},
   "outputs": [],
   "source": [
    "video_df = pd.read_json(\"../data/MOOCCubeX/entities/video.json\",lines=True)"
   ]
  },
  {
   "cell_type": "code",
   "execution_count": 5,
   "metadata": {},
   "outputs": [
    {
     "data": {
      "text/plain": [
       "(59581, 5)"
      ]
     },
     "execution_count": 5,
     "metadata": {},
     "output_type": "execute_result"
    }
   ],
   "source": [
    "video_df.shape"
   ]
  },
  {
   "cell_type": "code",
   "execution_count": 18,
   "metadata": {},
   "outputs": [
    {
     "data": {
      "text/html": [
       "<div>\n",
       "<style scoped>\n",
       "    .dataframe tbody tr th:only-of-type {\n",
       "        vertical-align: middle;\n",
       "    }\n",
       "\n",
       "    .dataframe tbody tr th {\n",
       "        vertical-align: top;\n",
       "    }\n",
       "\n",
       "    .dataframe thead th {\n",
       "        text-align: right;\n",
       "    }\n",
       "</style>\n",
       "<table border=\"1\" class=\"dataframe\">\n",
       "  <thead>\n",
       "    <tr style=\"text-align: right;\">\n",
       "      <th></th>\n",
       "      <th>id</th>\n",
       "      <th>name</th>\n",
       "      <th>start</th>\n",
       "      <th>end</th>\n",
       "      <th>text</th>\n",
       "    </tr>\n",
       "  </thead>\n",
       "  <tbody>\n",
       "    <tr>\n",
       "      <th>11839</th>\n",
       "      <td>V_00d8171255024504b2454c808c1a30a8</td>\n",
       "      <td>第三章  会计凭证与会计帐簿-第一节  会计凭证-视频与讲义-Video</td>\n",
       "      <td>NaN</td>\n",
       "      <td>NaN</td>\n",
       "      <td>NaN</td>\n",
       "    </tr>\n",
       "    <tr>\n",
       "      <th>10213</th>\n",
       "      <td>V_158d4157cd8b474cacbb63667d38bc5b</td>\n",
       "      <td>Video</td>\n",
       "      <td>[33812, 34678, 36518, 39550, 41424, 44406, 466...</td>\n",
       "      <td>[34478, 36294, 38062, 41086, 43406, 46284, 473...</td>\n",
       "      <td>[首先所谓传统产业, 我觉得首先定位一下, 今天我跟大家来分享我的价值, 就在于我是做传统产...</td>\n",
       "    </tr>\n",
       "    <tr>\n",
       "      <th>6331</th>\n",
       "      <td>V_4056b06fc0474211a8aa135426faa2d8</td>\n",
       "      <td>Video</td>\n",
       "      <td>[10160, 16080, 19920, 24480, 33640, 39560, 452...</td>\n",
       "      <td>[14480, 18960, 23640, 31120, 38000, 44600, 470...</td>\n",
       "      <td>[下面就是文章的第二部分 讲故事, 这一篇的故事书上比较多, 大部分都是围绕着生死问题展开的...</td>\n",
       "    </tr>\n",
       "    <tr>\n",
       "      <th>17494</th>\n",
       "      <td>V_e2983a58492643548b7678c9c46b3416</td>\n",
       "      <td>6.10 霍尔管程</td>\n",
       "      <td>[20243, 124844, 128527, 272625, 457631, 460354...</td>\n",
       "      <td>[22724, 128527, 130363, 276049, 460202, 466802...</td>\n",
       "      <td>[大家好 本视频介绍霍尔管程, 下面我们来看一下霍尔管程, 用于互斥调用管程过程的这样一个信...</td>\n",
       "    </tr>\n",
       "    <tr>\n",
       "      <th>23607</th>\n",
       "      <td>V_5fc1accc290f48e38b2c45475e6ba933</td>\n",
       "      <td>第四章 供给与需求的市场力量-4.2物品供给-4.2 物品的供给-4.2 物品的供给</td>\n",
       "      <td>NaN</td>\n",
       "      <td>NaN</td>\n",
       "      <td>NaN</td>\n",
       "    </tr>\n",
       "  </tbody>\n",
       "</table>\n",
       "</div>"
      ],
      "text/plain": [
       "                                       id  \\\n",
       "11839  V_00d8171255024504b2454c808c1a30a8   \n",
       "10213  V_158d4157cd8b474cacbb63667d38bc5b   \n",
       "6331   V_4056b06fc0474211a8aa135426faa2d8   \n",
       "17494  V_e2983a58492643548b7678c9c46b3416   \n",
       "23607  V_5fc1accc290f48e38b2c45475e6ba933   \n",
       "\n",
       "                                             name  \\\n",
       "11839        第三章  会计凭证与会计帐簿-第一节  会计凭证-视频与讲义-Video   \n",
       "10213                                       Video   \n",
       "6331                                        Video   \n",
       "17494                                   6.10 霍尔管程   \n",
       "23607  第四章 供给与需求的市场力量-4.2物品供给-4.2 物品的供给-4.2 物品的供给   \n",
       "\n",
       "                                                   start  \\\n",
       "11839                                                NaN   \n",
       "10213  [33812, 34678, 36518, 39550, 41424, 44406, 466...   \n",
       "6331   [10160, 16080, 19920, 24480, 33640, 39560, 452...   \n",
       "17494  [20243, 124844, 128527, 272625, 457631, 460354...   \n",
       "23607                                                NaN   \n",
       "\n",
       "                                                     end  \\\n",
       "11839                                                NaN   \n",
       "10213  [34478, 36294, 38062, 41086, 43406, 46284, 473...   \n",
       "6331   [14480, 18960, 23640, 31120, 38000, 44600, 470...   \n",
       "17494  [22724, 128527, 130363, 276049, 460202, 466802...   \n",
       "23607                                                NaN   \n",
       "\n",
       "                                                    text  \n",
       "11839                                                NaN  \n",
       "10213  [首先所谓传统产业, 我觉得首先定位一下, 今天我跟大家来分享我的价值, 就在于我是做传统产...  \n",
       "6331   [下面就是文章的第二部分 讲故事, 这一篇的故事书上比较多, 大部分都是围绕着生死问题展开的...  \n",
       "17494  [大家好 本视频介绍霍尔管程, 下面我们来看一下霍尔管程, 用于互斥调用管程过程的这样一个信...  \n",
       "23607                                                NaN  "
      ]
     },
     "execution_count": 18,
     "metadata": {},
     "output_type": "execute_result"
    }
   ],
   "source": [
    "video_df.sample(5)"
   ]
  },
  {
   "cell_type": "markdown",
   "metadata": {},
   "source": [
    "### Relación Curso Usuario"
   ]
  },
  {
   "cell_type": "code",
   "execution_count": 12,
   "metadata": {},
   "outputs": [
    {
     "name": "stderr",
     "output_type": "stream",
     "text": [
      "/tmp/ipykernel_28813/4252162299.py:2: SettingWithCopyWarning: \n",
      "A value is trying to be set on a copy of a slice from a DataFrame.\n",
      "Try using .loc[row_indexer,col_indexer] = value instead\n",
      "\n",
      "See the caveats in the documentation: https://pandas.pydata.org/pandas-docs/stable/user_guide/indexing.html#returning-a-view-versus-a-copy\n",
      "  user_df[\"num_course_taken\"] = user_df[\"course_order\"].apply(len)\n"
     ]
    },
    {
     "data": {
      "text/html": [
       "<div>\n",
       "<style scoped>\n",
       "    .dataframe tbody tr th:only-of-type {\n",
       "        vertical-align: middle;\n",
       "    }\n",
       "\n",
       "    .dataframe tbody tr th {\n",
       "        vertical-align: top;\n",
       "    }\n",
       "\n",
       "    .dataframe thead th {\n",
       "        text-align: right;\n",
       "    }\n",
       "</style>\n",
       "<table border=\"1\" class=\"dataframe\">\n",
       "  <thead>\n",
       "    <tr style=\"text-align: right;\">\n",
       "      <th></th>\n",
       "      <th>id</th>\n",
       "      <th>name</th>\n",
       "      <th>course_order</th>\n",
       "      <th>enroll_time</th>\n",
       "      <th>num_course_taken</th>\n",
       "    </tr>\n",
       "  </thead>\n",
       "  <tbody>\n",
       "    <tr>\n",
       "      <th>0</th>\n",
       "      <td>U_7001215</td>\n",
       "      <td>李喜锋</td>\n",
       "      <td>[C_course-v1:TsinghuaX+00740043_2x_2015_T2+sp,...</td>\n",
       "      <td>[2017-05-01 11:07:53, 2017-05-17 10:07:17, 201...</td>\n",
       "      <td>5</td>\n",
       "    </tr>\n",
       "    <tr>\n",
       "      <th>3</th>\n",
       "      <td>U_7423998</td>\n",
       "      <td>郭海滨</td>\n",
       "      <td>[C_course-v1:TsinghuaX+30240184_2X+sp, C_cours...</td>\n",
       "      <td>[2017-08-16 10:38:11, 2018-07-01 18:24:24, 201...</td>\n",
       "      <td>7</td>\n",
       "    </tr>\n",
       "    <tr>\n",
       "      <th>4</th>\n",
       "      <td>U_545306</td>\n",
       "      <td>李其艳</td>\n",
       "      <td>[C_course-v1:TsinghuaX+20430064_2X+sp, C_cours...</td>\n",
       "      <td>[2018-09-05 15:40:40, 2019-02-28 10:08:49, 201...</td>\n",
       "      <td>10</td>\n",
       "    </tr>\n",
       "    <tr>\n",
       "      <th>6</th>\n",
       "      <td>U_10783393</td>\n",
       "      <td>藤雁玉</td>\n",
       "      <td>[C_course-v1:TsinghuaX+20250064+sp, C_course-v...</td>\n",
       "      <td>[2019-06-01 13:05:42, 2019-03-19 10:56:00, 201...</td>\n",
       "      <td>4</td>\n",
       "    </tr>\n",
       "    <tr>\n",
       "      <th>7</th>\n",
       "      <td>U_7594103</td>\n",
       "      <td>巴鹏</td>\n",
       "      <td>[C_course-v1:TsinghuaX+30240184+sp, C_course-v...</td>\n",
       "      <td>[2018-07-15 20:45:57, 2018-01-18 20:59:34, 201...</td>\n",
       "      <td>6</td>\n",
       "    </tr>\n",
       "  </tbody>\n",
       "</table>\n",
       "</div>"
      ],
      "text/plain": [
       "           id name                                       course_order  \\\n",
       "0   U_7001215  李喜锋  [C_course-v1:TsinghuaX+00740043_2x_2015_T2+sp,...   \n",
       "3   U_7423998  郭海滨  [C_course-v1:TsinghuaX+30240184_2X+sp, C_cours...   \n",
       "4    U_545306  李其艳  [C_course-v1:TsinghuaX+20430064_2X+sp, C_cours...   \n",
       "6  U_10783393  藤雁玉  [C_course-v1:TsinghuaX+20250064+sp, C_course-v...   \n",
       "7   U_7594103   巴鹏  [C_course-v1:TsinghuaX+30240184+sp, C_course-v...   \n",
       "\n",
       "                                         enroll_time  num_course_taken  \n",
       "0  [2017-05-01 11:07:53, 2017-05-17 10:07:17, 201...                 5  \n",
       "3  [2017-08-16 10:38:11, 2018-07-01 18:24:24, 201...                 7  \n",
       "4  [2018-09-05 15:40:40, 2019-02-28 10:08:49, 201...                10  \n",
       "6  [2019-06-01 13:05:42, 2019-03-19 10:56:00, 201...                 4  \n",
       "7  [2018-07-15 20:45:57, 2018-01-18 20:59:34, 201...                 6  "
      ]
     },
     "execution_count": 12,
     "metadata": {},
     "output_type": "execute_result"
    }
   ],
   "source": [
    "user_df = user_df[user_df[\"course_order\"].apply(lambda x:len(x) >= 3)]\n",
    "user_df[\"num_course_taken\"] = user_df[\"course_order\"].apply(len)\n",
    "user_df.head()\n"
   ]
  },
  {
   "cell_type": "code",
   "execution_count": 4,
   "metadata": {},
   "outputs": [
    {
     "ename": "NameError",
     "evalue": "name 'userx_df' is not defined",
     "output_type": "error",
     "traceback": [
      "\u001b[0;31m---------------------------------------------------------------------------\u001b[0m",
      "\u001b[0;31mNameError\u001b[0m                                 Traceback (most recent call last)",
      "Cell \u001b[0;32mIn[4], line 1\u001b[0m\n\u001b[0;32m----> 1\u001b[0m userx_df \u001b[38;5;241m=\u001b[39m \u001b[43muserx_df\u001b[49m[userx_df[\u001b[38;5;124m\"\u001b[39m\u001b[38;5;124mcourse_order\u001b[39m\u001b[38;5;124m\"\u001b[39m]\u001b[38;5;241m.\u001b[39mapply(\u001b[38;5;28;01mlambda\u001b[39;00m x:\u001b[38;5;28mlen\u001b[39m(x) \u001b[38;5;241m>\u001b[39m\u001b[38;5;241m=\u001b[39m \u001b[38;5;241m3\u001b[39m)]\n\u001b[1;32m      2\u001b[0m userx_df[\u001b[38;5;124m\"\u001b[39m\u001b[38;5;124mnum_course_taken\u001b[39m\u001b[38;5;124m\"\u001b[39m] \u001b[38;5;241m=\u001b[39m userx_df[\u001b[38;5;124m\"\u001b[39m\u001b[38;5;124mcourse_order\u001b[39m\u001b[38;5;124m\"\u001b[39m]\u001b[38;5;241m.\u001b[39mapply(\u001b[38;5;28mlen\u001b[39m)\n\u001b[1;32m      3\u001b[0m userx_df\u001b[38;5;241m.\u001b[39mhead()\n",
      "\u001b[0;31mNameError\u001b[0m: name 'userx_df' is not defined"
     ]
    }
   ],
   "source": [
    "\n",
    "userx_df = userx_df[userx_df[\"course_order\"].apply(lambda x:len(x) >= 3)]\n",
    "userx_df[\"num_course_taken\"] = userx_df[\"course_order\"].apply(len)\n",
    "userx_df.head()"
   ]
  },
  {
   "cell_type": "code",
   "execution_count": 24,
   "metadata": {},
   "outputs": [
    {
     "data": {
      "text/plain": [
       "(95423, 5)"
      ]
     },
     "execution_count": 24,
     "metadata": {},
     "output_type": "execute_result"
    }
   ],
   "source": [
    "user_df.shape\n"
   ]
  },
  {
   "cell_type": "code",
   "execution_count": 9,
   "metadata": {},
   "outputs": [
    {
     "data": {
      "text/plain": [
       "(694529, 8)"
      ]
     },
     "execution_count": 9,
     "metadata": {},
     "output_type": "execute_result"
    }
   ],
   "source": [
    "userx_df.shape"
   ]
  },
  {
   "cell_type": "code",
   "execution_count": 13,
   "metadata": {},
   "outputs": [],
   "source": [
    "user_mean = user_df['num_course_taken'].mean()\n",
    "user_std = user_df['num_course_taken'].std()\n",
    "user_max = user_df['num_course_taken'].max()\n",
    "user_min = user_df['num_course_taken'].min()\n",
    "userx_mean = userx_df['num_course_taken'].mean()\n",
    "userx_std = userx_df['num_course_taken'].std()\n",
    "userx_max = userx_df['num_course_taken'].max()\n",
    "userx_min = userx_df['num_course_taken'].min()"
   ]
  },
  {
   "cell_type": "code",
   "execution_count": 15,
   "metadata": {},
   "outputs": [
    {
     "name": "stdout",
     "output_type": "stream",
     "text": [
      "Promedio: 4.979941942718213\n",
      "Std: 3.797301783780999\n",
      "Max: 161\n",
      "Min: 3\n",
      "Mediana: 4.0\n",
      "Moda: 3\n"
     ]
    }
   ],
   "source": [
    "print(\"Promedio: \" + str(user_mean))\n",
    "print(\"Std: \" + str(user_std))\n",
    "print(\"Max: \" + str(user_max))\n",
    "print(\"Min: \" + str(user_min))\n",
    "print(\"Mediana: \" + str(user_df['num_course_taken'].median()))\n",
    "print(\"Moda: \" + str(user_df['num_course_taken'].mode().values[0]))"
   ]
  },
  {
   "cell_type": "code",
   "execution_count": 30,
   "metadata": {},
   "outputs": [
    {
     "name": "stdout",
     "output_type": "stream",
     "text": [
      "Promedio: 5.016715830875123\n",
      "Std: 3.9491850514135693\n",
      "Max: 123.0\n",
      "Min: 3.0\n",
      "Mediana: 4.0\n",
      "Moda: 3.0\n"
     ]
    }
   ],
   "source": [
    "print(\"Promedio: \" + str(userx_mean))\n",
    "print(\"Std: \" + str(userx_std))\n",
    "print(\"Max: \" + str(userx_max))\n",
    "print(\"Min: \" + str(userx_min))\n",
    "print(\"Mediana: \" + str(userx_df['num_course_taken'].median()))\n",
    "print(\"Moda: \" + str(userx_df['num_course_taken'].mode().values[0]))"
   ]
  },
  {
   "cell_type": "code",
   "execution_count": 9,
   "metadata": {},
   "outputs": [],
   "source": [
    "import matplotlib.pyplot as plt"
   ]
  },
  {
   "cell_type": "code",
   "execution_count": 12,
   "metadata": {},
   "outputs": [
    {
     "data": {
      "image/png": "[encoded data removed]",
      "text/plain": [
       "<Figure size 640x480 with 1 Axes>"
      ]
     },
     "metadata": {},
     "output_type": "display_data"
    }
   ],
   "source": [
    "plt.hist(user_df['num_course_taken'], bins=20)\n",
    "plt.xlabel('Number of Courses Taken')\n",
    "plt.ylabel('Frecuency')\n",
    "plt.title('Distribution of courses taken')\n",
    "plt.show()"
   ]
  },
  {
   "cell_type": "code",
   "execution_count": 50,
   "metadata": {},
   "outputs": [
    {
     "name": "stdout",
     "output_type": "stream",
     "text": [
      "3.020514472228401\n"
     ]
    }
   ],
   "source": [
    "print(user_std)"
   ]
  },
  {
   "cell_type": "code",
   "execution_count": 55,
   "metadata": {},
   "outputs": [],
   "source": [
    "all_courses = [movie for movies in user_df['course_order'] for movie in movies]"
   ]
  },
  {
   "cell_type": "code",
   "execution_count": 61,
   "metadata": {},
   "outputs": [
    {
     "name": "stdout",
     "output_type": "stream",
     "text": [
      "                                      course_id  user_count\n",
      "0             C_course-v1:TsinghuaX+30240184+sp       32914\n",
      "1    C_course-v1:TsinghuaX+00740043X_2015_T2+sp       31491\n",
      "2            C_course-v1:TsinghuaX+30640014X+sp       30177\n",
      "3                   C_course-v1:MITx+6_00_1x+sp       18473\n",
      "4            C_course-v1:TsinghuaX+30240243X+sp       17265\n",
      "..                                          ...         ...\n",
      "693               C_course-v1:gmc+30102+2018_T2           1\n",
      "694         C_course-v1:BNU+CHE21128011+2019_T1           1\n",
      "695             C_course-v1:CIE+JD_2017+2019_T1           1\n",
      "696         C_course-v1:HNU+20180424001+2018_T1           1\n",
      "697        C_course-v1:XJTU+2018122507X+2018_T2           1\n",
      "\n",
      "[698 rows x 2 columns]\n"
     ]
    }
   ],
   "source": [
    "course_counts = pd.Series(all_courses).value_counts().reset_index()\n",
    "course_counts.columns = ['course_id', 'user_count']\n",
    "print(course_counts)"
   ]
  },
  {
   "cell_type": "code",
   "execution_count": 95,
   "metadata": {},
   "outputs": [],
   "source": [
    "mean_course = course_counts['user_count'].mean()\n",
    "std_course = course_counts['user_count'].std()\n",
    "min_course = course_counts['user_count'].min()\n",
    "max_course = course_counts['user_count'].max()\n",
    "median_course = course_counts['user_count'].median()\n",
    "mode_course = course_counts['user_count'].mode().values[0]\n"
   ]
  },
  {
   "cell_type": "code",
   "execution_count": 96,
   "metadata": {},
   "outputs": [
    {
     "name": "stdout",
     "output_type": "stream",
     "text": [
      "Promedio: 978.1561604584527\n",
      "Std: 2742.658014965899\n",
      "Min: 1\n",
      "Max: 32914\n",
      "Mediana: 191.0\n",
      "Moda: 6\n"
     ]
    }
   ],
   "source": [
    "print(\"Promedio: \" + str(mean_course))\n",
    "print(\"Std: \" + str(std_course))\n",
    "print(\"Min: \" + str(min_course))\n",
    "print(\"Max: \" + str(max_course))\n",
    "print(\"Mediana: \" + str(median_course))\n",
    "print(\"Moda: \" + str(mode_course))"
   ]
  },
  {
   "cell_type": "code",
   "execution_count": 66,
   "metadata": {},
   "outputs": [
    {
     "name": "stdout",
     "output_type": "stream",
     "text": [
      "    course_num  num users\n",
      "0            2     103776\n",
      "1            3      40220\n",
      "2            4      20286\n",
      "3            5      11550\n",
      "4            6       7079\n",
      "..         ...        ...\n",
      "70         122          1\n",
      "69         123          1\n",
      "74         149          1\n",
      "79         154          1\n",
      "82         161          1\n",
      "\n",
      "[84 rows x 2 columns]\n"
     ]
    }
   ],
   "source": [
    "usuarios_por_numero_de_peliculas = user_df['num_course_taken'].value_counts().reset_index()\n",
    "usuarios_por_numero_de_peliculas.columns = ['course_num', 'num users']\n",
    "usuarios_por_numero_de_peliculas = usuarios_por_numero_de_peliculas.sort_values(by='course_num')\n",
    "\n",
    "print(usuarios_por_numero_de_peliculas)"
   ]
  },
  {
   "cell_type": "markdown",
   "metadata": {},
   "source": [
    "### Relacion Curso-Paper"
   ]
  },
  {
   "cell_type": "code",
   "execution_count": 109,
   "metadata": {},
   "outputs": [],
   "source": [
    "# course_concept_df = pd.read_json(\"../data/MOOCCube/relations/course-concept.json\",lines=True)\n",
    "with open(\"../data/MOOCCube/relations/concept-paper.json\", \"r\",encoding=\"utf-8\") as file:\n",
    "    paper_ids = []\n",
    "    concept_ids = []\n",
    "    for line in file:\n",
    "        line = line.split(\"\\t\")\n",
    "        paper_ids.append(line[1].replace(\"\\n\",\"\"))\n",
    "        concept_ids.append(line[0].replace(\"\\n\",\"\"))\n",
    "        "
   ]
  },
  {
   "cell_type": "code",
   "execution_count": 110,
   "metadata": {},
   "outputs": [],
   "source": [
    "paper_concept_relation_df = pd.DataFrame({\"id_paper\":paper_ids,\"id_concept\":concept_ids})"
   ]
  },
  {
   "cell_type": "code",
   "execution_count": 111,
   "metadata": {},
   "outputs": [
    {
     "data": {
      "text/html": [
       "<div>\n",
       "<style scoped>\n",
       "    .dataframe tbody tr th:only-of-type {\n",
       "        vertical-align: middle;\n",
       "    }\n",
       "\n",
       "    .dataframe tbody tr th {\n",
       "        vertical-align: top;\n",
       "    }\n",
       "\n",
       "    .dataframe thead th {\n",
       "        text-align: right;\n",
       "    }\n",
       "</style>\n",
       "<table border=\"1\" class=\"dataframe\">\n",
       "  <thead>\n",
       "    <tr style=\"text-align: right;\">\n",
       "      <th></th>\n",
       "      <th>id_paper</th>\n",
       "      <th>id_concept</th>\n",
       "    </tr>\n",
       "  </thead>\n",
       "  <tbody>\n",
       "    <tr>\n",
       "      <th>677647</th>\n",
       "      <td>P_56d8b9f7dabfae2eee270c17</td>\n",
       "      <td>K_嵌入型洪积扇_地理学</td>\n",
       "    </tr>\n",
       "    <tr>\n",
       "      <th>269368</th>\n",
       "      <td>P_53e9bc54b7602d97048cec99</td>\n",
       "      <td>K_阻燃结构_电气工程</td>\n",
       "    </tr>\n",
       "    <tr>\n",
       "      <th>559771</th>\n",
       "      <td>P_53e9a19ab7602d9702a8c078</td>\n",
       "      <td>K_焊接检验_机械工程</td>\n",
       "    </tr>\n",
       "    <tr>\n",
       "      <th>469484</th>\n",
       "      <td>P_53e9ba28b7602d9704630f13</td>\n",
       "      <td>K_节径比_电气工程</td>\n",
       "    </tr>\n",
       "    <tr>\n",
       "      <th>840635</th>\n",
       "      <td>P_53e9a7e3b7602d9703122f3f</td>\n",
       "      <td>K_分形测度_物理学</td>\n",
       "    </tr>\n",
       "  </tbody>\n",
       "</table>\n",
       "</div>"
      ],
      "text/plain": [
       "                          id_paper    id_concept\n",
       "677647  P_56d8b9f7dabfae2eee270c17  K_嵌入型洪积扇_地理学\n",
       "269368  P_53e9bc54b7602d97048cec99   K_阻燃结构_电气工程\n",
       "559771  P_53e9a19ab7602d9702a8c078   K_焊接检验_机械工程\n",
       "469484  P_53e9ba28b7602d9704630f13    K_节径比_电气工程\n",
       "840635  P_53e9a7e3b7602d9703122f3f    K_分形测度_物理学"
      ]
     },
     "execution_count": 111,
     "metadata": {},
     "output_type": "execute_result"
    }
   ],
   "source": [
    "paper_concept_relation_df.sample(5)"
   ]
  },
  {
   "cell_type": "code",
   "execution_count": 118,
   "metadata": {},
   "outputs": [],
   "source": [
    "mean = paper_concept_relation_df.groupby('id_paper')['id_concept'].count().mean()\n",
    "std = paper_concept_relation_df.groupby('id_paper')['id_concept'].count().std()\n",
    "min_v = paper_concept_relation_df.groupby('id_paper')['id_concept'].count().min()\n",
    "max_v = paper_concept_relation_df.groupby('id_paper')['id_concept'].count().max()\n",
    "median = paper_concept_relation_df.groupby('id_paper')['id_concept'].count().median()\n",
    "mode = paper_concept_relation_df.groupby('id_paper')['id_concept'].count().mode().values[0]"
   ]
  },
  {
   "cell_type": "code",
   "execution_count": 119,
   "metadata": {},
   "outputs": [
    {
     "name": "stdout",
     "output_type": "stream",
     "text": [
      "Promedio: 1.4692949293164066\n",
      "Std: 5.428915694816066\n",
      "Min: 1\n",
      "Max: 807\n",
      "Mediana: 1.0\n",
      "Moda: 1\n"
     ]
    }
   ],
   "source": [
    "print(\"Promedio: \" + str(mean))\n",
    "print(\"Std: \" + str(std))\n",
    "print(\"Min: \" + str(min_v))\n",
    "print(\"Max: \" + str(max_v))\n",
    "print(\"Mediana: \" + str(median))\n",
    "print(\"Moda: \" + str(mode))"
   ]
  },
  {
   "cell_type": "code",
   "execution_count": 120,
   "metadata": {},
   "outputs": [],
   "source": [
    "mean = paper_concept_relation_df.groupby('id_concept')['id_paper'].count().mean()\n",
    "std = paper_concept_relation_df.groupby('id_concept')['id_paper'].count().std()\n",
    "min_v = paper_concept_relation_df.groupby('id_concept')['id_paper'].count().min()\n",
    "max_v = paper_concept_relation_df.groupby('id_concept')['id_paper'].count().max()\n",
    "median = paper_concept_relation_df.groupby('id_concept')['id_paper'].count().median()\n",
    "mode = paper_concept_relation_df.groupby('id_concept')['id_paper'].count().mode().values[0]"
   ]
  },
  {
   "cell_type": "code",
   "execution_count": 121,
   "metadata": {},
   "outputs": [
    {
     "name": "stdout",
     "output_type": "stream",
     "text": [
      "Promedio: 9.976248264565168\n",
      "Std: 0.4115523306370083\n",
      "Min: 1\n",
      "Max: 20\n",
      "Mediana: 10.0\n",
      "Moda: 10\n"
     ]
    }
   ],
   "source": [
    "print(\"Promedio: \" + str(mean))\n",
    "print(\"Std: \" + str(std))\n",
    "print(\"Min: \" + str(min_v))\n",
    "print(\"Max: \" + str(max_v))\n",
    "print(\"Mediana: \" + str(median))\n",
    "print(\"Moda: \" + str(mode))"
   ]
  },
  {
   "cell_type": "markdown",
   "metadata": {},
   "source": [
    "### Relación curso concepto"
   ]
  },
  {
   "cell_type": "code",
   "execution_count": 114,
   "metadata": {},
   "outputs": [],
   "source": [
    "with open(\"../data/MOOCCube/relations/course-concept.json\", \"r\",encoding=\"utf-8\") as file:\n",
    "    courses_ids = []\n",
    "    concept_ids = []\n",
    "    for line in file:\n",
    "        line = line.split(\"\\t\")\n",
    "        courses_ids.append(line[0])\n",
    "        concept_ids.append(line[1].replace(\"\\n\",\"\"))"
   ]
  },
  {
   "cell_type": "code",
   "execution_count": 115,
   "metadata": {},
   "outputs": [],
   "source": [
    "course_concept_relation_df = pd.DataFrame({\"id_course\":courses_ids,\"id_concept\":concept_ids})"
   ]
  },
  {
   "cell_type": "code",
   "execution_count": null,
   "metadata": {},
   "outputs": [],
   "source": []
  },
  {
   "cell_type": "code",
   "execution_count": 116,
   "metadata": {},
   "outputs": [
    {
     "name": "stdout",
     "output_type": "stream",
     "text": [
      "Promedio: 245.6090775988287\n",
      "Std: 121.38267825448973\n",
      "Min: 6\n",
      "Max: 899\n",
      "Mediana: 234.0\n",
      "Moda: 284\n"
     ]
    }
   ],
   "source": [
    "mean = course_concept_relation_df.groupby('id_course')['id_concept'].count().mean()\n",
    "std = course_concept_relation_df.groupby('id_course')['id_concept'].count().std()\n",
    "min_v = course_concept_relation_df.groupby('id_course')['id_concept'].count().min()\n",
    "max_v = course_concept_relation_df.groupby('id_course')['id_concept'].count().max()\n",
    "median = course_concept_relation_df.groupby('id_course')['id_concept'].count().median()\n",
    "mode = course_concept_relation_df.groupby('id_course')['id_concept'].count().mode().values[0]\n",
    "print(\"Promedio: \" + str(mean))\n",
    "print(\"Std: \" + str(std))\n",
    "print(\"Min: \" + str(min_v))\n",
    "print(\"Max: \" + str(max_v))\n",
    "print(\"Mediana: \" + str(median))\n",
    "print(\"Moda: \" + str(mode))"
   ]
  },
  {
   "cell_type": "code",
   "execution_count": 117,
   "metadata": {},
   "outputs": [
    {
     "name": "stdout",
     "output_type": "stream",
     "text": [
      "Promedio: 6.6565215666045\n",
      "Std: 15.32440326226328\n",
      "Min: 1\n",
      "Max: 303\n",
      "Mediana: 2.0\n",
      "Moda: 1\n"
     ]
    }
   ],
   "source": [
    "mean = course_concept_relation_df.groupby('id_concept')['id_course'].count().mean()\n",
    "std = course_concept_relation_df.groupby('id_concept')['id_course'].count().std()\n",
    "min_v = course_concept_relation_df.groupby('id_concept')['id_course'].count().min()\n",
    "max_v = course_concept_relation_df.groupby('id_concept')['id_course'].count().max()\n",
    "median = course_concept_relation_df.groupby('id_concept')['id_course'].count().median()\n",
    "mode = course_concept_relation_df.groupby('id_concept')['id_course'].count().mode().values[0]\n",
    "print(\"Promedio: \" + str(mean))\n",
    "print(\"Std: \" + str(std))\n",
    "print(\"Min: \" + str(min_v))\n",
    "print(\"Max: \" + str(max_v))\n",
    "print(\"Mediana: \" + str(median))\n",
    "print(\"Moda: \" + str(mode))"
   ]
  },
  {
   "cell_type": "markdown",
   "metadata": {},
   "source": [
    "### Relación Curso Video"
   ]
  },
  {
   "cell_type": "code",
   "execution_count": 131,
   "metadata": {},
   "outputs": [],
   "source": [
    "with open(\"../data/MOOCCube/relations/course-video.json\", \"r\",encoding=\"utf-8\") as file:\n",
    "    course_ids = []\n",
    "    video_ids = []\n",
    "    for line in file:\n",
    "        line = line.split(\"\\t\")\n",
    "        course_ids.append(line[0].replace(\"\\n\",\"\"))\n",
    "        video_ids.append(line[1].replace(\"\\n\",\"\"))"
   ]
  },
  {
   "cell_type": "code",
   "execution_count": 132,
   "metadata": {},
   "outputs": [
    {
     "data": {
      "text/html": [
       "<div>\n",
       "<style scoped>\n",
       "    .dataframe tbody tr th:only-of-type {\n",
       "        vertical-align: middle;\n",
       "    }\n",
       "\n",
       "    .dataframe tbody tr th {\n",
       "        vertical-align: top;\n",
       "    }\n",
       "\n",
       "    .dataframe thead th {\n",
       "        text-align: right;\n",
       "    }\n",
       "</style>\n",
       "<table border=\"1\" class=\"dataframe\">\n",
       "  <thead>\n",
       "    <tr style=\"text-align: right;\">\n",
       "      <th></th>\n",
       "      <th>id_course</th>\n",
       "      <th>id_video</th>\n",
       "    </tr>\n",
       "  </thead>\n",
       "  <tbody>\n",
       "    <tr>\n",
       "      <th>9673</th>\n",
       "      <td>C_course-v1:TsinghuaX+2018031601X+2019_T1</td>\n",
       "      <td>V_622133719dd74caca32bf73261111350</td>\n",
       "    </tr>\n",
       "    <tr>\n",
       "      <th>22974</th>\n",
       "      <td>C_course-v1:TsinghuaX+10610224X+2019_T1</td>\n",
       "      <td>V_d767a143fd6e4e11b7389129925d3e93</td>\n",
       "    </tr>\n",
       "    <tr>\n",
       "      <th>34152</th>\n",
       "      <td>C_course-v1:TsinghuaX+20220332X+2019_T1</td>\n",
       "      <td>V_f59f0ed371944c5aa40935f40db882cf</td>\n",
       "    </tr>\n",
       "    <tr>\n",
       "      <th>3063</th>\n",
       "      <td>C_course-v1:TsinghuaX+10610193X+2019_T1</td>\n",
       "      <td>V_b6d3c29109264fe3b14104f2de990841</td>\n",
       "    </tr>\n",
       "    <tr>\n",
       "      <th>23144</th>\n",
       "      <td>C_course-v1:TsinghuaX+10450034_1X_2X+2019_T1</td>\n",
       "      <td>V_877895d1c13b43ef8dcfa2307c873291</td>\n",
       "    </tr>\n",
       "  </tbody>\n",
       "</table>\n",
       "</div>"
      ],
      "text/plain": [
       "                                          id_course  \\\n",
       "9673      C_course-v1:TsinghuaX+2018031601X+2019_T1   \n",
       "22974       C_course-v1:TsinghuaX+10610224X+2019_T1   \n",
       "34152       C_course-v1:TsinghuaX+20220332X+2019_T1   \n",
       "3063        C_course-v1:TsinghuaX+10610193X+2019_T1   \n",
       "23144  C_course-v1:TsinghuaX+10450034_1X_2X+2019_T1   \n",
       "\n",
       "                                 id_video  \n",
       "9673   V_622133719dd74caca32bf73261111350  \n",
       "22974  V_d767a143fd6e4e11b7389129925d3e93  \n",
       "34152  V_f59f0ed371944c5aa40935f40db882cf  \n",
       "3063   V_b6d3c29109264fe3b14104f2de990841  \n",
       "23144  V_877895d1c13b43ef8dcfa2307c873291  "
      ]
     },
     "execution_count": 132,
     "metadata": {},
     "output_type": "execute_result"
    }
   ],
   "source": [
    "course_video_relation_df = pd.DataFrame({\"id_course\":course_ids,\"id_video\":video_ids})\n",
    "course_video_relation_df.sample(5)"
   ]
  },
  {
   "cell_type": "code",
   "execution_count": 135,
   "metadata": {},
   "outputs": [
    {
     "name": "stdout",
     "output_type": "stream",
     "text": [
      "Promedio: 66.26345609065156\n",
      "Std: 46.72288908849797\n",
      "Min: 5\n",
      "Max: 510\n",
      "Mediana: 54.0\n",
      "Moda: 32\n"
     ]
    }
   ],
   "source": [
    "mean = course_video_relation_df.groupby('id_course')['id_video'].count().mean()\n",
    "std = course_video_relation_df.groupby('id_course')['id_video'].count().std()\n",
    "min_v = course_video_relation_df.groupby('id_course')['id_video'].count().min()\n",
    "max_v = course_video_relation_df.groupby('id_course')['id_video'].count().max()\n",
    "median = course_video_relation_df.groupby('id_course')['id_video'].count().median()\n",
    "mode = course_video_relation_df.groupby('id_course')['id_video'].count().mode().values[0]\n",
    "print(\"Promedio: \" + str(mean))\n",
    "print(\"Std: \" + str(std))\n",
    "print(\"Min: \" + str(min_v))\n",
    "print(\"Max: \" + str(max_v))\n",
    "print(\"Mediana: \" + str(median))\n",
    "print(\"Moda: \" + str(mode))"
   ]
  },
  {
   "cell_type": "code",
   "execution_count": 136,
   "metadata": {},
   "outputs": [
    {
     "name": "stdout",
     "output_type": "stream",
     "text": [
      "Promedio: 1.2252691129095623\n",
      "Std: 0.4349653731593946\n",
      "Min: 1\n",
      "Max: 4\n",
      "Mediana: 1.0\n",
      "Moda: 1\n"
     ]
    }
   ],
   "source": [
    "mean = course_video_relation_df.groupby('id_video')['id_course'].count().mean()\n",
    "std = course_video_relation_df.groupby('id_video')['id_course'].count().std()\n",
    "min_v = course_video_relation_df.groupby('id_video')['id_course'].count().min()\n",
    "max_v = course_video_relation_df.groupby('id_video')['id_course'].count().max()\n",
    "median = course_video_relation_df.groupby('id_video')['id_course'].count().median()\n",
    "mode = course_video_relation_df.groupby('id_video')['id_course'].count().mode().values[0]\n",
    "print(\"Promedio: \" + str(mean))\n",
    "print(\"Std: \" + str(std))\n",
    "print(\"Min: \" + str(min_v))\n",
    "print(\"Max: \" + str(max_v))\n",
    "print(\"Mediana: \" + str(median))\n",
    "print(\"Moda: \" + str(mode))"
   ]
  },
  {
   "cell_type": "markdown",
   "metadata": {},
   "source": [
    "### Relation School Course"
   ]
  },
  {
   "cell_type": "code",
   "execution_count": 143,
   "metadata": {},
   "outputs": [],
   "source": [
    "with open(\"../data/MOOCCube/relations/school-course.json\", \"r\",encoding=\"utf-8\") as file:\n",
    "    course_ids = []\n",
    "    school_ids = []\n",
    "    for line in file:\n",
    "        line = line.split(\"\\t\")\n",
    "        course_ids.append(line[1].replace(\"\\n\",\"\"))\n",
    "        school_ids.append(line[0].replace(\"\\n\",\"\"))"
   ]
  },
  {
   "cell_type": "code",
   "execution_count": 144,
   "metadata": {},
   "outputs": [
    {
     "data": {
      "text/html": [
       "<div>\n",
       "<style scoped>\n",
       "    .dataframe tbody tr th:only-of-type {\n",
       "        vertical-align: middle;\n",
       "    }\n",
       "\n",
       "    .dataframe tbody tr th {\n",
       "        vertical-align: top;\n",
       "    }\n",
       "\n",
       "    .dataframe thead th {\n",
       "        text-align: right;\n",
       "    }\n",
       "</style>\n",
       "<table border=\"1\" class=\"dataframe\">\n",
       "  <thead>\n",
       "    <tr style=\"text-align: right;\">\n",
       "      <th></th>\n",
       "      <th>id_course</th>\n",
       "      <th>id_school</th>\n",
       "    </tr>\n",
       "  </thead>\n",
       "  <tbody>\n",
       "    <tr>\n",
       "      <th>129</th>\n",
       "      <td>C_course-v1:McGillX+Chem181x+sp</td>\n",
       "      <td>S_McGillX</td>\n",
       "    </tr>\n",
       "    <tr>\n",
       "      <th>510</th>\n",
       "      <td>C_course-v1:TsinghuaX+00612642X+sp</td>\n",
       "      <td>S_TsinghuaX</td>\n",
       "    </tr>\n",
       "    <tr>\n",
       "      <th>237</th>\n",
       "      <td>C_course-v1:WellesleyX+ANTH207x+sp</td>\n",
       "      <td>S_WellesleyX</td>\n",
       "    </tr>\n",
       "    <tr>\n",
       "      <th>229</th>\n",
       "      <td>C_course-v1:LZU+2018122505X+2018_T2</td>\n",
       "      <td>S_LZU</td>\n",
       "    </tr>\n",
       "    <tr>\n",
       "      <th>412</th>\n",
       "      <td>C_course-v1:TsinghuaX+AP000008X+2019_T1</td>\n",
       "      <td>S_TsinghuaX</td>\n",
       "    </tr>\n",
       "  </tbody>\n",
       "</table>\n",
       "</div>"
      ],
      "text/plain": [
       "                                   id_course     id_school\n",
       "129          C_course-v1:McGillX+Chem181x+sp     S_McGillX\n",
       "510       C_course-v1:TsinghuaX+00612642X+sp   S_TsinghuaX\n",
       "237       C_course-v1:WellesleyX+ANTH207x+sp  S_WellesleyX\n",
       "229      C_course-v1:LZU+2018122505X+2018_T2         S_LZU\n",
       "412  C_course-v1:TsinghuaX+AP000008X+2019_T1   S_TsinghuaX"
      ]
     },
     "execution_count": 144,
     "metadata": {},
     "output_type": "execute_result"
    }
   ],
   "source": [
    "school_course_relation_df = pd.DataFrame({\"id_course\":course_ids,\"id_school\":school_ids})\n",
    "school_course_relation_df.sample(5)"
   ]
  },
  {
   "cell_type": "code",
   "execution_count": 148,
   "metadata": {},
   "outputs": [
    {
     "name": "stdout",
     "output_type": "stream",
     "text": [
      "Promedio: 1.0\n",
      "Std: 0.0\n",
      "Min: 1\n",
      "Max: 1\n",
      "Mediana: 1.0\n",
      "Moda: 1\n"
     ]
    }
   ],
   "source": [
    "mean = school_course_relation_df.groupby('id_course')['id_school'].count().mean()\n",
    "std = school_course_relation_df.groupby('id_course')['id_school'].count().std()\n",
    "min_v = school_course_relation_df.groupby('id_course')['id_school'].count().min()\n",
    "max_v = school_course_relation_df.groupby('id_course')['id_school'].count().max()\n",
    "median = school_course_relation_df.groupby('id_course')['id_school'].count().median()\n",
    "mode = school_course_relation_df.groupby('id_course')['id_school'].count().mode().values[0]\n",
    "print(\"Promedio: \" + str(mean))\n",
    "print(\"Std: \" + str(std))\n",
    "print(\"Min: \" + str(min_v))\n",
    "print(\"Max: \" + str(max_v))\n",
    "print(\"Mediana: \" + str(median))\n",
    "print(\"Moda: \" + str(mode))"
   ]
  },
  {
   "cell_type": "code",
   "execution_count": 149,
   "metadata": {},
   "outputs": [
    {
     "name": "stdout",
     "output_type": "stream",
     "text": [
      "Promedio: 4.66887417218543\n",
      "Std: 21.772680696782878\n",
      "Min: 1\n",
      "Max: 267\n",
      "Mediana: 2.0\n",
      "Moda: 1\n"
     ]
    }
   ],
   "source": [
    "mean = course_video_relation_df.groupby('id_school')['id_course'].count().mean()\n",
    "std = course_video_relation_df.groupby('id_school')['id_course'].count().std()\n",
    "min_v = course_video_relation_df.groupby('id_school')['id_course'].count().min()\n",
    "max_v = course_video_relation_df.groupby('id_school')['id_course'].count().max()\n",
    "median = course_video_relation_df.groupby('id_school')['id_course'].count().median()\n",
    "mode = course_video_relation_df.groupby('id_school')['id_course'].count().mode().values[0]\n",
    "print(\"Promedio: \" + str(mean))\n",
    "print(\"Std: \" + str(std))\n",
    "print(\"Min: \" + str(min_v))\n",
    "print(\"Max: \" + str(max_v))\n",
    "print(\"Mediana: \" + str(median))\n",
    "print(\"Moda: \" + str(mode))"
   ]
  },
  {
   "cell_type": "markdown",
   "metadata": {},
   "source": [
    "### Relation School Teacher"
   ]
  },
  {
   "cell_type": "code",
   "execution_count": 150,
   "metadata": {},
   "outputs": [],
   "source": [
    "with open(\"../data/MOOCCube/relations/school-teacher.json\", \"r\",encoding=\"utf-8\") as file:\n",
    "    teacher_ids = []\n",
    "    school_ids = []\n",
    "    for line in file:\n",
    "        line = line.split(\"\\t\")\n",
    "        teacher_ids.append(line[1].replace(\"\\n\",\"\"))\n",
    "        school_ids.append(line[0].replace(\"\\n\",\"\"))"
   ]
  },
  {
   "cell_type": "code",
   "execution_count": 151,
   "metadata": {},
   "outputs": [
    {
     "data": {
      "text/html": [
       "<div>\n",
       "<style scoped>\n",
       "    .dataframe tbody tr th:only-of-type {\n",
       "        vertical-align: middle;\n",
       "    }\n",
       "\n",
       "    .dataframe tbody tr th {\n",
       "        vertical-align: top;\n",
       "    }\n",
       "\n",
       "    .dataframe thead th {\n",
       "        text-align: right;\n",
       "    }\n",
       "</style>\n",
       "<table border=\"1\" class=\"dataframe\">\n",
       "  <thead>\n",
       "    <tr style=\"text-align: right;\">\n",
       "      <th></th>\n",
       "      <th>id_teacher</th>\n",
       "      <th>id_school</th>\n",
       "    </tr>\n",
       "  </thead>\n",
       "  <tbody>\n",
       "    <tr>\n",
       "      <th>2004</th>\n",
       "      <td>T_黄至辉</td>\n",
       "      <td>S_FJTCM</td>\n",
       "    </tr>\n",
       "    <tr>\n",
       "      <th>1653</th>\n",
       "      <td>T_沈拓</td>\n",
       "      <td>S_TsinghuaX</td>\n",
       "    </tr>\n",
       "    <tr>\n",
       "      <th>139</th>\n",
       "      <td>T_李勇刚</td>\n",
       "      <td>S_TCIS</td>\n",
       "    </tr>\n",
       "    <tr>\n",
       "      <th>339</th>\n",
       "      <td>T_熊炜</td>\n",
       "      <td>S_ZNDX</td>\n",
       "    </tr>\n",
       "    <tr>\n",
       "      <th>1020</th>\n",
       "      <td>T_刘震</td>\n",
       "      <td>S_教育部在线教育研究中心</td>\n",
       "    </tr>\n",
       "  </tbody>\n",
       "</table>\n",
       "</div>"
      ],
      "text/plain": [
       "     id_teacher      id_school\n",
       "2004      T_黄至辉        S_FJTCM\n",
       "1653       T_沈拓    S_TsinghuaX\n",
       "139       T_李勇刚         S_TCIS\n",
       "339        T_熊炜         S_ZNDX\n",
       "1020       T_刘震  S_教育部在线教育研究中心"
      ]
     },
     "execution_count": 151,
     "metadata": {},
     "output_type": "execute_result"
    }
   ],
   "source": [
    "school_teacher_relation_df = pd.DataFrame({\"id_teacher\":teacher_ids,\"id_school\":school_ids})\n",
    "school_teacher_relation_df.sample(5)"
   ]
  },
  {
   "cell_type": "code",
   "execution_count": 153,
   "metadata": {},
   "outputs": [
    {
     "name": "stdout",
     "output_type": "stream",
     "text": [
      "Promedio: 1.2255466052934407\n",
      "Std: 0.6776239987370188\n",
      "Min: 1\n",
      "Max: 10\n",
      "Mediana: 1.0\n",
      "Moda: 1\n"
     ]
    }
   ],
   "source": [
    "mean = school_teacher_relation_df.groupby('id_teacher')['id_school'].count().mean()\n",
    "std = school_teacher_relation_df.groupby('id_teacher')['id_school'].count().std()\n",
    "min_v = school_teacher_relation_df.groupby('id_teacher')['id_school'].count().min()\n",
    "max_v = school_teacher_relation_df.groupby('id_teacher')['id_school'].count().max()\n",
    "median = school_teacher_relation_df.groupby('id_teacher')['id_school'].count().median()\n",
    "mode = school_teacher_relation_df.groupby('id_teacher')['id_school'].count().mode().values[0]\n",
    "print(\"Promedio: \" + str(mean))\n",
    "print(\"Std: \" + str(std))\n",
    "print(\"Min: \" + str(min_v))\n",
    "print(\"Max: \" + str(max_v))\n",
    "print(\"Mediana: \" + str(median))\n",
    "print(\"Moda: \" + str(mode))"
   ]
  },
  {
   "cell_type": "code",
   "execution_count": 156,
   "metadata": {},
   "outputs": [
    {
     "name": "stdout",
     "output_type": "stream",
     "text": [
      "Promedio: 10.390243902439025\n",
      "Std: 34.69748680562463\n",
      "Min: 1\n",
      "Max: 476\n",
      "Mediana: 4.0\n",
      "Moda: 1\n"
     ]
    }
   ],
   "source": [
    "mean = school_teacher_relation_df.groupby('id_school')['id_teacher'].count().mean()\n",
    "std = school_teacher_relation_df.groupby('id_school')['id_teacher'].count().std()\n",
    "min_v = school_teacher_relation_df.groupby('id_school')['id_teacher'].count().min()\n",
    "max_v = school_teacher_relation_df.groupby('id_school')['id_teacher'].count().max()\n",
    "median = school_teacher_relation_df.groupby('id_school')['id_teacher'].count().median()\n",
    "mode = school_teacher_relation_df.groupby('id_school')['id_teacher'].count().mode().values[0]\n",
    "print(\"Promedio: \" + str(mean))\n",
    "print(\"Std: \" + str(std))\n",
    "print(\"Min: \" + str(min_v))\n",
    "print(\"Max: \" + str(max_v))\n",
    "print(\"Mediana: \" + str(median))\n",
    "print(\"Moda: \" + str(mode))"
   ]
  },
  {
   "cell_type": "markdown",
   "metadata": {},
   "source": [
    "### Relation Teacher Course"
   ]
  },
  {
   "cell_type": "code",
   "execution_count": 159,
   "metadata": {},
   "outputs": [],
   "source": [
    "with open(\"../data/MOOCCube/relations/teacher-course.json\", \"r\",encoding=\"utf-8\") as file:\n",
    "    teacher_ids = []\n",
    "    course_ids = []\n",
    "    for line in file:\n",
    "        line = line.split(\"\\t\")\n",
    "        teacher_ids.append(line[0].replace(\"\\n\",\"\"))\n",
    "        course_ids.append(line[1].replace(\"\\n\",\"\"))"
   ]
  },
  {
   "cell_type": "code",
   "execution_count": 160,
   "metadata": {},
   "outputs": [
    {
     "data": {
      "text/html": [
       "<div>\n",
       "<style scoped>\n",
       "    .dataframe tbody tr th:only-of-type {\n",
       "        vertical-align: middle;\n",
       "    }\n",
       "\n",
       "    .dataframe tbody tr th {\n",
       "        vertical-align: top;\n",
       "    }\n",
       "\n",
       "    .dataframe thead th {\n",
       "        text-align: right;\n",
       "    }\n",
       "</style>\n",
       "<table border=\"1\" class=\"dataframe\">\n",
       "  <thead>\n",
       "    <tr style=\"text-align: right;\">\n",
       "      <th></th>\n",
       "      <th>id_teacher</th>\n",
       "      <th>id_course</th>\n",
       "    </tr>\n",
       "  </thead>\n",
       "  <tbody>\n",
       "    <tr>\n",
       "      <th>139</th>\n",
       "      <td>T_陈艺</td>\n",
       "      <td>C_course-v1:gmc+3060511+2018_T2</td>\n",
       "    </tr>\n",
       "    <tr>\n",
       "      <th>236</th>\n",
       "      <td>T_韩国庆</td>\n",
       "      <td>C_course-v1:CUPB+100203E003+2019_T1</td>\n",
       "    </tr>\n",
       "    <tr>\n",
       "      <th>580</th>\n",
       "      <td>T_Maggie Sokolik</td>\n",
       "      <td>C_course-v1:UC_BerkeleyX+ColWri2_1x_2015_T1+20...</td>\n",
       "    </tr>\n",
       "    <tr>\n",
       "      <th>2053</th>\n",
       "      <td>T_梁恒</td>\n",
       "      <td>C_course-v1:TsinghuaX+AP000014X+2019_T1</td>\n",
       "    </tr>\n",
       "    <tr>\n",
       "      <th>1385</th>\n",
       "      <td>T_王元丰</td>\n",
       "      <td>C_course-v1:BJTU+2017072501X+sp</td>\n",
       "    </tr>\n",
       "  </tbody>\n",
       "</table>\n",
       "</div>"
      ],
      "text/plain": [
       "            id_teacher                                          id_course\n",
       "139               T_陈艺                    C_course-v1:gmc+3060511+2018_T2\n",
       "236              T_韩国庆                C_course-v1:CUPB+100203E003+2019_T1\n",
       "580   T_Maggie Sokolik  C_course-v1:UC_BerkeleyX+ColWri2_1x_2015_T1+20...\n",
       "2053              T_梁恒            C_course-v1:TsinghuaX+AP000014X+2019_T1\n",
       "1385             T_王元丰                    C_course-v1:BJTU+2017072501X+sp"
      ]
     },
     "execution_count": 160,
     "metadata": {},
     "output_type": "execute_result"
    }
   ],
   "source": [
    "course_teacher_relation_df = pd.DataFrame({\"id_teacher\":teacher_ids,\"id_course\":course_ids})\n",
    "course_teacher_relation_df.sample(5)"
   ]
  },
  {
   "cell_type": "code",
   "execution_count": 162,
   "metadata": {},
   "outputs": [
    {
     "name": "stdout",
     "output_type": "stream",
     "text": [
      "Promedio: 1.3515535097813578\n",
      "Std: 0.719095897179233\n",
      "Min: 1\n",
      "Max: 7\n",
      "Mediana: 1.0\n",
      "Moda: 1\n"
     ]
    }
   ],
   "source": [
    "mean = course_teacher_relation_df.groupby('id_teacher')['id_course'].count().mean()\n",
    "std = course_teacher_relation_df.groupby('id_teacher')['id_course'].count().std()\n",
    "min_v = course_teacher_relation_df.groupby('id_teacher')['id_course'].count().min()\n",
    "max_v = course_teacher_relation_df.groupby('id_teacher')['id_course'].count().max()\n",
    "median = course_teacher_relation_df.groupby('id_teacher')['id_course'].count().median()\n",
    "mode = course_teacher_relation_df.groupby('id_teacher')['id_course'].count().mode().values[0]\n",
    "print(\"Promedio: \" + str(mean))\n",
    "print(\"Std: \" + str(std))\n",
    "print(\"Min: \" + str(min_v))\n",
    "print(\"Max: \" + str(max_v))\n",
    "print(\"Mediana: \" + str(median))\n",
    "print(\"Moda: \" + str(mode))"
   ]
  },
  {
   "cell_type": "code",
   "execution_count": 163,
   "metadata": {},
   "outputs": [
    {
     "name": "stdout",
     "output_type": "stream",
     "text": [
      "Promedio: 3.370157819225251\n",
      "Std: 3.6914975473002785\n",
      "Min: 1\n",
      "Max: 36\n",
      "Mediana: 2.0\n",
      "Moda: 1\n"
     ]
    }
   ],
   "source": [
    "mean = course_teacher_relation_df.groupby('id_course')['id_teacher'].count().mean()\n",
    "std = course_teacher_relation_df.groupby('id_course')['id_teacher'].count().std()\n",
    "min_v = course_teacher_relation_df.groupby('id_course')['id_teacher'].count().min()\n",
    "max_v = course_teacher_relation_df.groupby('id_course')['id_teacher'].count().max()\n",
    "median = course_teacher_relation_df.groupby('id_course')['id_teacher'].count().median()\n",
    "mode = course_teacher_relation_df.groupby('id_course')['id_teacher'].count().mode().values[0]\n",
    "print(\"Promedio: \" + str(mean))\n",
    "print(\"Std: \" + str(std))\n",
    "print(\"Min: \" + str(min_v))\n",
    "print(\"Max: \" + str(max_v))\n",
    "print(\"Mediana: \" + str(median))\n",
    "print(\"Moda: \" + str(mode))"
   ]
  },
  {
   "cell_type": "markdown",
   "metadata": {},
   "source": [
    "### Relaction User Video"
   ]
  },
  {
   "cell_type": "code",
   "execution_count": 164,
   "metadata": {},
   "outputs": [],
   "source": [
    "with open(\"../data/MOOCCube/relations/user-video.json\", \"r\",encoding=\"utf-8\") as file:\n",
    "    user_ids = []\n",
    "    video_ids = []\n",
    "    for line in file:\n",
    "        line = line.split(\"\\t\")\n",
    "        user_ids.append(line[0].replace(\"\\n\",\"\"))\n",
    "        video_ids.append(line[1].replace(\"\\n\",\"\"))"
   ]
  },
  {
   "cell_type": "code",
   "execution_count": 165,
   "metadata": {},
   "outputs": [
    {
     "data": {
      "text/html": [
       "<div>\n",
       "<style scoped>\n",
       "    .dataframe tbody tr th:only-of-type {\n",
       "        vertical-align: middle;\n",
       "    }\n",
       "\n",
       "    .dataframe tbody tr th {\n",
       "        vertical-align: top;\n",
       "    }\n",
       "\n",
       "    .dataframe thead th {\n",
       "        text-align: right;\n",
       "    }\n",
       "</style>\n",
       "<table border=\"1\" class=\"dataframe\">\n",
       "  <thead>\n",
       "    <tr style=\"text-align: right;\">\n",
       "      <th></th>\n",
       "      <th>id_user</th>\n",
       "      <th>id_video</th>\n",
       "    </tr>\n",
       "  </thead>\n",
       "  <tbody>\n",
       "    <tr>\n",
       "      <th>3646556</th>\n",
       "      <td>U_6885637</td>\n",
       "      <td>V_6d4456ceb15a4fb790ba7562d2f8cbee</td>\n",
       "    </tr>\n",
       "    <tr>\n",
       "      <th>8895157</th>\n",
       "      <td>U_11752918</td>\n",
       "      <td>V_1d7a2f3294de4393bc41fecfa3c95949</td>\n",
       "    </tr>\n",
       "    <tr>\n",
       "      <th>7165563</th>\n",
       "      <td>U_4442664</td>\n",
       "      <td>V_3b46970fa1d74d47af05b5e5bae509e9</td>\n",
       "    </tr>\n",
       "    <tr>\n",
       "      <th>985145</th>\n",
       "      <td>U_9507024</td>\n",
       "      <td>V_ee338aace975455a95e681ac59b21e8f</td>\n",
       "    </tr>\n",
       "    <tr>\n",
       "      <th>176709</th>\n",
       "      <td>U_1096186</td>\n",
       "      <td>V_2f61f279587e4c6f8b19732658415b53</td>\n",
       "    </tr>\n",
       "  </tbody>\n",
       "</table>\n",
       "</div>"
      ],
      "text/plain": [
       "            id_user                            id_video\n",
       "3646556   U_6885637  V_6d4456ceb15a4fb790ba7562d2f8cbee\n",
       "8895157  U_11752918  V_1d7a2f3294de4393bc41fecfa3c95949\n",
       "7165563   U_4442664  V_3b46970fa1d74d47af05b5e5bae509e9\n",
       "985145    U_9507024  V_ee338aace975455a95e681ac59b21e8f\n",
       "176709    U_1096186  V_2f61f279587e4c6f8b19732658415b53"
      ]
     },
     "execution_count": 165,
     "metadata": {},
     "output_type": "execute_result"
    }
   ],
   "source": [
    "user_video_relation_df = pd.DataFrame({\"id_user\":user_ids,\"id_video\":video_ids})\n",
    "user_video_relation_df.sample(5)"
   ]
  },
  {
   "cell_type": "code",
   "execution_count": 166,
   "metadata": {},
   "outputs": [
    {
     "name": "stdout",
     "output_type": "stream",
     "text": [
      "Promedio: 44.936189438702\n",
      "Std: 75.09035170249358\n",
      "Min: 2\n",
      "Max: 3545\n",
      "Mediana: 19.0\n",
      "Moda: 4\n"
     ]
    }
   ],
   "source": [
    "mean = user_video_relation_df.groupby('id_user')['id_video'].count().mean()\n",
    "std = user_video_relation_df.groupby('id_user')['id_video'].count().std()\n",
    "min_v = user_video_relation_df.groupby('id_user')['id_video'].count().min()\n",
    "max_v = user_video_relation_df.groupby('id_user')['id_video'].count().max()\n",
    "median = user_video_relation_df.groupby('id_user')['id_video'].count().median()\n",
    "mode = user_video_relation_df.groupby('id_user')['id_video'].count().mode().values[0]\n",
    "print(\"Promedio: \" + str(mean))\n",
    "print(\"Std: \" + str(std))\n",
    "print(\"Min: \" + str(min_v))\n",
    "print(\"Max: \" + str(max_v))\n",
    "print(\"Mediana: \" + str(median))\n",
    "print(\"Moda: \" + str(mode))"
   ]
  },
  {
   "cell_type": "code",
   "execution_count": 167,
   "metadata": {},
   "outputs": [
    {
     "name": "stdout",
     "output_type": "stream",
     "text": [
      "Promedio: 248.32835820895522\n",
      "Std: 784.6445123972571\n",
      "Min: 1\n",
      "Max: 24025\n",
      "Mediana: 35.5\n",
      "Moda: 1\n"
     ]
    }
   ],
   "source": [
    "mean = user_video_relation_df.groupby('id_video')['id_user'].count().mean()\n",
    "std = user_video_relation_df.groupby('id_video')['id_user'].count().std()\n",
    "min_v = user_video_relation_df.groupby('id_video')['id_user'].count().min()\n",
    "max_v = user_video_relation_df.groupby('id_video')['id_user'].count().max()\n",
    "median = user_video_relation_df.groupby('id_video')['id_user'].count().median()\n",
    "mode = user_video_relation_df.groupby('id_video')['id_user'].count().mode().values[0]\n",
    "print(\"Promedio: \" + str(mean))\n",
    "print(\"Std: \" + str(std))\n",
    "print(\"Min: \" + str(min_v))\n",
    "print(\"Max: \" + str(max_v))\n",
    "print(\"Mediana: \" + str(median))\n",
    "print(\"Moda: \" + str(mode))"
   ]
  },
  {
   "cell_type": "markdown",
   "metadata": {},
   "source": [
    "### Relation video concept"
   ]
  },
  {
   "cell_type": "code",
   "execution_count": 168,
   "metadata": {},
   "outputs": [],
   "source": [
    "with open(\"../data/MOOCCube/relations/video-concept.json\", \"r\",encoding=\"utf-8\") as file:\n",
    "    concept_ids = []\n",
    "    video_ids = []\n",
    "    for line in file:\n",
    "        line = line.split(\"\\t\")\n",
    "        concept_ids.append(line[0].replace(\"\\n\",\"\"))\n",
    "        video_ids.append(line[1].replace(\"\\n\",\"\"))"
   ]
  },
  {
   "cell_type": "code",
   "execution_count": 169,
   "metadata": {},
   "outputs": [
    {
     "data": {
      "text/html": [
       "<div>\n",
       "<style scoped>\n",
       "    .dataframe tbody tr th:only-of-type {\n",
       "        vertical-align: middle;\n",
       "    }\n",
       "\n",
       "    .dataframe tbody tr th {\n",
       "        vertical-align: top;\n",
       "    }\n",
       "\n",
       "    .dataframe thead th {\n",
       "        text-align: right;\n",
       "    }\n",
       "</style>\n",
       "<table border=\"1\" class=\"dataframe\">\n",
       "  <thead>\n",
       "    <tr style=\"text-align: right;\">\n",
       "      <th></th>\n",
       "      <th>id_video</th>\n",
       "      <th>id_concept</th>\n",
       "    </tr>\n",
       "  </thead>\n",
       "  <tbody>\n",
       "    <tr>\n",
       "      <th>22546</th>\n",
       "      <td>K_骨架_机械工程</td>\n",
       "      <td>V_8ad0b338a67543ea8c3509a7719fc59f</td>\n",
       "    </tr>\n",
       "    <tr>\n",
       "      <th>268804</th>\n",
       "      <td>K_输出流_计算机科学技术</td>\n",
       "      <td>V_9029e4f86207494d9cf33bd85dbbe7c9</td>\n",
       "    </tr>\n",
       "    <tr>\n",
       "      <th>125848</th>\n",
       "      <td>K_温度场_机械工程</td>\n",
       "      <td>V_5f0de1e191334ea4aee3d43fee6c7a14</td>\n",
       "    </tr>\n",
       "    <tr>\n",
       "      <th>16164</th>\n",
       "      <td>K_晋升_管理科学技术</td>\n",
       "      <td>V_18643a5ef13c4f39971c0ea5a91a37b0</td>\n",
       "    </tr>\n",
       "    <tr>\n",
       "      <th>87429</th>\n",
       "      <td>K_碰撞力_机械工程</td>\n",
       "      <td>V_081b9e0c85af4e06a861561b8817d521</td>\n",
       "    </tr>\n",
       "  </tbody>\n",
       "</table>\n",
       "</div>"
      ],
      "text/plain": [
       "             id_video                          id_concept\n",
       "22546       K_骨架_机械工程  V_8ad0b338a67543ea8c3509a7719fc59f\n",
       "268804  K_输出流_计算机科学技术  V_9029e4f86207494d9cf33bd85dbbe7c9\n",
       "125848     K_温度场_机械工程  V_5f0de1e191334ea4aee3d43fee6c7a14\n",
       "16164     K_晋升_管理科学技术  V_18643a5ef13c4f39971c0ea5a91a37b0\n",
       "87429      K_碰撞力_机械工程  V_081b9e0c85af4e06a861561b8817d521"
      ]
     },
     "execution_count": 169,
     "metadata": {},
     "output_type": "execute_result"
    }
   ],
   "source": [
    "concept_video_relation_df = pd.DataFrame({\"id_video\":video_ids,\"id_concept\":concept_ids})\n",
    "concept_video_relation_df.sample(5)"
   ]
  },
  {
   "cell_type": "code",
   "execution_count": 170,
   "metadata": {},
   "outputs": [
    {
     "name": "stdout",
     "output_type": "stream",
     "text": [
      "Promedio: 9.706865689754558\n",
      "Std: 1.2040049508011406\n",
      "Min: 1\n",
      "Max: 10\n",
      "Mediana: 10.0\n",
      "Moda: 10\n"
     ]
    }
   ],
   "source": [
    "mean = concept_video_relation_df.groupby('id_concept')['id_video'].count().mean()\n",
    "std = concept_video_relation_df.groupby('id_concept')['id_video'].count().std()\n",
    "min_v = concept_video_relation_df.groupby('id_concept')['id_video'].count().min()\n",
    "max_v = concept_video_relation_df.groupby('id_concept')['id_video'].count().max()\n",
    "median = concept_video_relation_df.groupby('id_concept')['id_video'].count().median()\n",
    "mode = concept_video_relation_df.groupby('id_concept')['id_video'].count().mode().values[0]\n",
    "print(\"Promedio: \" + str(mean))\n",
    "print(\"Std: \" + str(std))\n",
    "print(\"Min: \" + str(min_v))\n",
    "print(\"Max: \" + str(max_v))\n",
    "print(\"Mediana: \" + str(median))\n",
    "print(\"Moda: \" + str(mode))"
   ]
  },
  {
   "cell_type": "code",
   "execution_count": 171,
   "metadata": {},
   "outputs": [
    {
     "name": "stdout",
     "output_type": "stream",
     "text": [
      "Promedio: 12.6958454029602\n",
      "Std: 34.08974596503853\n",
      "Min: 1\n",
      "Max: 770\n",
      "Mediana: 3.0\n",
      "Moda: 1\n"
     ]
    }
   ],
   "source": [
    "mean = concept_video_relation_df.groupby('id_video')['id_concept'].count().mean()\n",
    "std = concept_video_relation_df.groupby('id_video')['id_concept'].count().std()\n",
    "min_v = concept_video_relation_df.groupby('id_video')['id_concept'].count().min()\n",
    "max_v = concept_video_relation_df.groupby('id_video')['id_concept'].count().max()\n",
    "median = concept_video_relation_df.groupby('id_video')['id_concept'].count().median()\n",
    "mode = concept_video_relation_df.groupby('id_video')['id_concept'].count().mode().values[0]\n",
    "print(\"Promedio: \" + str(mean))\n",
    "print(\"Std: \" + str(std))\n",
    "print(\"Min: \" + str(min_v))\n",
    "print(\"Max: \" + str(max_v))\n",
    "print(\"Mediana: \" + str(median))\n",
    "print(\"Moda: \" + str(mode))"
   ]
  }
 ],
 "metadata": {
  "kernelspec": {
   "display_name": "venv",
   "language": "python",
   "name": "python3"
  },
  "language_info": {
   "codemirror_mode": {
    "name": "ipython",
    "version": 3
   },
   "file_extension": ".py",
   "mimetype": "text/x-python",
   "name": "python",
   "nbconvert_exporter": "python",
   "pygments_lexer": "ipython3",
   "version": "3.8.16"
  },
  "orig_nbformat": 4
 },
 "nbformat": 4,
 "nbformat_minor": 2
}
