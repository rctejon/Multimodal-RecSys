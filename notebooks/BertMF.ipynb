{
  "cells": [
    {
      "cell_type": "code",
      "execution_count": 1,
      "metadata": {},
      "outputs": [],
      "source": [
        "import os, sys\n",
        "dir2 = os.path.abspath('')\n",
        "dir1 = os.path.dirname(dir2)\n",
        "if not dir1 in sys.path: sys.path.append(dir1)"
      ]
    },
    {
      "cell_type": "code",
      "execution_count": 2,
      "metadata": {
        "id": "p1E54ayu9RON"
      },
      "outputs": [],
      "source": [
        "import os\n",
        "import time\n",
        "import random\n",
        "import argparse\n",
        "import numpy as np\n",
        "import pandas as pd\n",
        "import torch\n",
        "import torch.nn as nn\n",
        "import torch.optim as optim\n",
        "import torch.utils.data as data\n",
        "from tqdm import tqdm\n",
        "import re\n",
        "from tensorboardX import SummaryWriter\n",
        "from metrics.metrics import metrics\n",
        "from architectures.BertMF.bert_mf import BertMF\n",
        "from loaders.create_dataloader import CreateDataloader"
      ]
    },
    {
      "cell_type": "markdown",
      "metadata": {
        "id": "tpBX6rqNfSc9"
      },
      "source": [
        "### Setting Arguments\n",
        "\n",
        "Here is the brief description of important ones:\n",
        "- Learning rate is 0.001\n",
        "- Dropout rate is 0.2\n",
        "- Running for 10 epochs\n",
        "- HitRate@10 and NDCG@10\n",
        "- 4 negative samples for each positive one"
      ]
    },
    {
      "cell_type": "code",
      "execution_count": 3,
      "metadata": {},
      "outputs": [],
      "source": [
        "DATASET_NAME = 'ml-1m'\n",
        "MODEL_NAME = 'BertMF'\n",
        "DATASET_FILE = 'ratings.dat'\n",
        "TEXT_INFO_FILE = 'movies.dat'\n",
        "MAIN_PATH = f'../data/{DATASET_NAME}/'\n",
        "DATA_PATH = MAIN_PATH + DATASET_FILE\n",
        "TEXT_INFO_PATH = MAIN_PATH + TEXT_INFO_FILE\n",
        "DATASET_NAME = 'ml-1m'\n",
        "MODEL_NAME = 'BertMF'\n",
        "MODEL_PATH = f'../models/{DATASET_NAME}/'\n",
        "MODEL = f'{DATASET_NAME}-{MODEL_NAME}'"
      ]
    },
    {
      "cell_type": "code",
      "execution_count": 4,
      "metadata": {},
      "outputs": [],
      "source": [
        "def seed_everything(seed):\n",
        "    random.seed(seed)\n",
        "    os.environ['PYTHONHASHSEED'] = str(seed)\n",
        "    np.random.seed(seed)\n",
        "    torch.manual_seed(seed)\n",
        "    torch.cuda.manual_seed(seed)\n",
        "    torch.backends.cudnn.deterministic = True\n",
        "    torch.backends.cudnn.benchmark = True"
      ]
    },
    {
      "cell_type": "code",
      "execution_count": 5,
      "metadata": {
        "colab": {
          "base_uri": "https://localhost:8080/"
        },
        "id": "Bc5Vg1Ik_gnF",
        "outputId": "084c133e-0b2a-4ccc-f359-7319d904893e"
      },
      "outputs": [
        {
          "data": {
            "text/plain": [
              "_StoreAction(option_strings=['--out'], dest='out', nargs=None, const=None, default=True, type=None, choices=None, help='save model or not', metavar=None)"
            ]
          },
          "execution_count": 5,
          "metadata": {},
          "output_type": "execute_result"
        }
      ],
      "source": [
        "parser = argparse.ArgumentParser()\n",
        "parser.add_argument(\"--seed\",\n",
        "\ttype=int,\n",
        "\tdefault=42,\n",
        "\thelp=\"Seed\")\n",
        "parser.add_argument(\"--lr\",\n",
        "\ttype=float,\n",
        "\tdefault=0.001,\n",
        "\thelp=\"learning rate\")\n",
        "parser.add_argument(\"--dropout\",\n",
        "\ttype=float,\n",
        "\tdefault=0.2,\n",
        "\thelp=\"dropout rate\")\n",
        "parser.add_argument(\"--batch_size\",\n",
        "\ttype=int,\n",
        "\tdefault=256,\n",
        "\thelp=\"batch size for training\")\n",
        "parser.add_argument(\"--epochs\",\n",
        "\ttype=int,\n",
        "\tdefault=10,\n",
        "\thelp=\"training epoches\")\n",
        "parser.add_argument(\"--top_k\",\n",
        "\ttype=int,\n",
        "\tdefault=10,\n",
        "\thelp=\"compute metrics@top_k\")\n",
        "parser.add_argument(\"--factor_num\",\n",
        "\ttype=int,\n",
        "\tdefault=32,\n",
        "\thelp=\"predictive factors numbers in the model\")\n",
        "parser.add_argument(\"--layers\",\n",
        "    nargs='+',\n",
        "    default=[64,32,16,8],\n",
        "    help=\"MLP layers. Note that the first layer is the concatenation of user \\\n",
        "    and item embeddings. So layers[0]/2 is the embedding size.\")\n",
        "parser.add_argument(\"--num_ng\",\n",
        "\ttype=int,\n",
        "\tdefault=4,\n",
        "\thelp=\"Number of negative samples for training set\")\n",
        "parser.add_argument(\"--num_ng_test\",\n",
        "\ttype=int,\n",
        "\tdefault=100,\n",
        "\thelp=\"Number of negative samples for test set\")\n",
        "parser.add_argument(\"--out\",\n",
        "\tdefault=True,\n",
        "\thelp=\"save model or not\")"
      ]
    },
    {
      "cell_type": "markdown",
      "metadata": {},
      "source": [
        "## Preparing text tokenization"
      ]
    },
    {
      "cell_type": "code",
      "execution_count": 6,
      "metadata": {},
      "outputs": [
        {
          "data": {
            "text/plain": [
              "0       Name: Toy Story (1995) Genres: Animation, Chil...\n",
              "1       Name: Jumanji (1995) Genres: Adventure, Childr...\n",
              "2       Name: Grumpier Old Men (1995) Genres: Comedy, ...\n",
              "3       Name: Waiting to Exhale (1995) Genres: Comedy,...\n",
              "4       Name: Father of the Bride Part II (1995) Genre...\n",
              "                              ...                        \n",
              "3878         Name: Meet the Parents (2000) Genres: Comedy\n",
              "3879       Name: Requiem for a Dream (2000) Genres: Drama\n",
              "3880                 Name: Tigerland (2000) Genres: Drama\n",
              "3881          Name: Two Family House (2000) Genres: Drama\n",
              "3882    Name: Contender, The (2000) Genres: Drama, Thr...\n",
              "Name: text, Length: 3883, dtype: string"
            ]
          },
          "execution_count": 6,
          "metadata": {},
          "output_type": "execute_result"
        }
      ],
      "source": [
        "text_info = pd.read_csv(\n",
        "\tTEXT_INFO_PATH,\n",
        "\tsep=\"::\",\n",
        "\tnames = ['item_id', 'name', 'genres'],\n",
        "\tengine='python',\n",
        "    encoding='latin-1')\n",
        "\n",
        "text_info['name'] = text_info['name'].apply(lambda x: 'Name: ' + x)\n",
        "text_info['genres'] = text_info['genres'].apply(lambda x: 'Genres: ' + re.sub(r'\\|', ', ', x))\n",
        "text_info['text'] = (text_info['name'] + ' ' + text_info['genres']).astype(\"string\")\n",
        "\n",
        "text_info = text_info.drop('name', axis=1)\n",
        "text_info = text_info.drop('genres', axis=1)\n",
        "text_info['text']"
      ]
    },
    {
      "cell_type": "code",
      "execution_count": 7,
      "metadata": {},
      "outputs": [
        {
          "data": {
            "text/plain": [
              "\"Name: Toy Story (1995) Genres: Animation, Children's, Comedy\""
            ]
          },
          "execution_count": 7,
          "metadata": {},
          "output_type": "execute_result"
        }
      ],
      "source": [
        "text_info.iloc[0]['text']"
      ]
    },
    {
      "cell_type": "markdown",
      "metadata": {
        "id": "RnaRWy2gg_Nw"
      },
      "source": [
        "## Training BertMF Model"
      ]
    },
    {
      "cell_type": "code",
      "execution_count": 8,
      "metadata": {
        "colab": {
          "base_uri": "https://localhost:8080/"
        },
        "id": "VyWquJG893CV",
        "outputId": "79d5472b-75ed-41a8-dab9-cc2db3a885ef"
      },
      "outputs": [
        {
          "data": {
            "text/html": [
              "<div>\n",
              "<style scoped>\n",
              "    .dataframe tbody tr th:only-of-type {\n",
              "        vertical-align: middle;\n",
              "    }\n",
              "\n",
              "    .dataframe tbody tr th {\n",
              "        vertical-align: top;\n",
              "    }\n",
              "\n",
              "    .dataframe thead th {\n",
              "        text-align: right;\n",
              "    }\n",
              "</style>\n",
              "<table border=\"1\" class=\"dataframe\">\n",
              "  <thead>\n",
              "    <tr style=\"text-align: right;\">\n",
              "      <th></th>\n",
              "      <th>user_id</th>\n",
              "      <th>item_id</th>\n",
              "      <th>rating</th>\n",
              "      <th>timestamp</th>\n",
              "      <th>text</th>\n",
              "    </tr>\n",
              "  </thead>\n",
              "  <tbody>\n",
              "    <tr>\n",
              "      <th>0</th>\n",
              "      <td>1</td>\n",
              "      <td>1193</td>\n",
              "      <td>5</td>\n",
              "      <td>978300760</td>\n",
              "      <td>Name: One Flew Over the Cuckoo's Nest (1975) G...</td>\n",
              "    </tr>\n",
              "    <tr>\n",
              "      <th>1</th>\n",
              "      <td>1</td>\n",
              "      <td>661</td>\n",
              "      <td>3</td>\n",
              "      <td>978302109</td>\n",
              "      <td>Name: James and the Giant Peach (1996) Genres:...</td>\n",
              "    </tr>\n",
              "    <tr>\n",
              "      <th>2</th>\n",
              "      <td>1</td>\n",
              "      <td>914</td>\n",
              "      <td>3</td>\n",
              "      <td>978301968</td>\n",
              "      <td>Name: My Fair Lady (1964) Genres: Musical, Rom...</td>\n",
              "    </tr>\n",
              "    <tr>\n",
              "      <th>3</th>\n",
              "      <td>1</td>\n",
              "      <td>3408</td>\n",
              "      <td>4</td>\n",
              "      <td>978300275</td>\n",
              "      <td>Name: Erin Brockovich (2000) Genres: Drama</td>\n",
              "    </tr>\n",
              "    <tr>\n",
              "      <th>4</th>\n",
              "      <td>1</td>\n",
              "      <td>2355</td>\n",
              "      <td>5</td>\n",
              "      <td>978824291</td>\n",
              "      <td>Name: Bug's Life, A (1998) Genres: Animation, ...</td>\n",
              "    </tr>\n",
              "  </tbody>\n",
              "</table>\n",
              "</div>"
            ],
            "text/plain": [
              "   user_id  item_id  rating  timestamp  \\\n",
              "0        1     1193       5  978300760   \n",
              "1        1      661       3  978302109   \n",
              "2        1      914       3  978301968   \n",
              "3        1     3408       4  978300275   \n",
              "4        1     2355       5  978824291   \n",
              "\n",
              "                                                text  \n",
              "0  Name: One Flew Over the Cuckoo's Nest (1975) G...  \n",
              "1  Name: James and the Giant Peach (1996) Genres:...  \n",
              "2  Name: My Fair Lady (1964) Genres: Musical, Rom...  \n",
              "3         Name: Erin Brockovich (2000) Genres: Drama  \n",
              "4  Name: Bug's Life, A (1998) Genres: Animation, ...  "
            ]
          },
          "execution_count": 8,
          "metadata": {},
          "output_type": "execute_result"
        }
      ],
      "source": [
        "# set device and parameters\n",
        "args = parser.parse_args(\"\")\n",
        "device = torch.device(\"cuda:0\" if torch.cuda.is_available() else \"cpu\")\n",
        "writer = SummaryWriter()\n",
        "\n",
        "# seed for Reproducibility\n",
        "seed_everything(args.seed)\n",
        "\n",
        "# load data\n",
        "ml_1m = pd.read_csv(\n",
        "\tDATA_PATH,\n",
        "\tsep=\"::\",\n",
        "\tnames = ['user_id', 'item_id', 'rating', 'timestamp'],\n",
        "\tengine='python')\n",
        "\n",
        "ml_1m = ml_1m.merge(text_info, how='left', on='item_id')\n",
        "\n",
        "# set the num_users, items\n",
        "num_users = ml_1m['user_id'].nunique()+1\n",
        "num_items = ml_1m['item_id'].nunique()+1\n",
        "\n",
        "ml_1m.head()"
      ]
    },
    {
      "cell_type": "code",
      "execution_count": 9,
      "metadata": {},
      "outputs": [],
      "source": [
        "def _reindex(ratings):\n",
        "    \"\"\"\n",
        "    Process dataset to reindex userID and itemID, also set rating as binary feedback\n",
        "    \"\"\"\n",
        "    user_list = list(ratings['user_id'].drop_duplicates())\n",
        "    user2id = {w: i for i, w in enumerate(user_list)}\n",
        "\n",
        "    item_list = list(ratings['item_id'].drop_duplicates())\n",
        "    item2id = {w: i for i, w in enumerate(item_list)}\n",
        "\n",
        "    ratings['user_id'] = ratings['user_id'].apply(lambda x: user2id[x])\n",
        "    ratings['item_id'] = ratings['item_id'].apply(lambda x: item2id[x])\n",
        "    ratings['rating'] = ratings['rating'].apply(lambda x: float(x > 0))\n",
        "    return ratings\n",
        "\n",
        "def _leave_one_out(ratings):\n",
        "    \"\"\"\n",
        "    leave-one-out evaluation protocol in paper https://www.comp.nus.edu.sg/~xiangnan/papers/ncf.pdf\n",
        "    \"\"\"\n",
        "    ratings['rank_latest'] = ratings.groupby(['user_id'])['timestamp'].rank(method='first', ascending=False)\n",
        "    test = ratings.loc[ratings['rank_latest'] == 1]\n",
        "    train = ratings.loc[ratings['rank_latest'] > 1]\n",
        "    assert train['user_id'].nunique()==test['user_id'].nunique(), 'Not Match Train User with Test User'\n",
        "    return train[['user_id', 'item_id', 'text', 'rating']], test[['user_id', 'item_id', 'text','rating']]"
      ]
    },
    {
      "cell_type": "code",
      "execution_count": 10,
      "metadata": {},
      "outputs": [
        {
          "data": {
            "text/plain": [
              "((994169, 4), (6040, 4), (1000209, 6))"
            ]
          },
          "execution_count": 10,
          "metadata": {},
          "output_type": "execute_result"
        }
      ],
      "source": [
        "ml_1m = _reindex(ml_1m)\n",
        "train_ml_1m, test_ml_1m = _leave_one_out(ml_1m)\n",
        "train_ml_1m.shape, test_ml_1m.shape, ml_1m.shape"
      ]
    },
    {
      "cell_type": "code",
      "execution_count": 11,
      "metadata": {},
      "outputs": [
        {
          "data": {
            "text/html": [
              "<div>\n",
              "<style scoped>\n",
              "    .dataframe tbody tr th:only-of-type {\n",
              "        vertical-align: middle;\n",
              "    }\n",
              "\n",
              "    .dataframe tbody tr th {\n",
              "        vertical-align: top;\n",
              "    }\n",
              "\n",
              "    .dataframe thead th {\n",
              "        text-align: right;\n",
              "    }\n",
              "</style>\n",
              "<table border=\"1\" class=\"dataframe\">\n",
              "  <thead>\n",
              "    <tr style=\"text-align: right;\">\n",
              "      <th></th>\n",
              "      <th>text</th>\n",
              "    </tr>\n",
              "    <tr>\n",
              "      <th>item_id</th>\n",
              "      <th></th>\n",
              "    </tr>\n",
              "  </thead>\n",
              "  <tbody>\n",
              "    <tr>\n",
              "      <th>0</th>\n",
              "      <td>Name: One Flew Over the Cuckoo's Nest (1975) G...</td>\n",
              "    </tr>\n",
              "    <tr>\n",
              "      <th>1</th>\n",
              "      <td>Name: James and the Giant Peach (1996) Genres:...</td>\n",
              "    </tr>\n",
              "    <tr>\n",
              "      <th>2</th>\n",
              "      <td>Name: My Fair Lady (1964) Genres: Musical, Rom...</td>\n",
              "    </tr>\n",
              "    <tr>\n",
              "      <th>3</th>\n",
              "      <td>Name: Erin Brockovich (2000) Genres: Drama</td>\n",
              "    </tr>\n",
              "    <tr>\n",
              "      <th>4</th>\n",
              "      <td>Name: Bug's Life, A (1998) Genres: Animation, ...</td>\n",
              "    </tr>\n",
              "    <tr>\n",
              "      <th>...</th>\n",
              "      <td>...</td>\n",
              "    </tr>\n",
              "    <tr>\n",
              "      <th>3701</th>\n",
              "      <td>Name: Modulations (1998) Genres: Documentary</td>\n",
              "    </tr>\n",
              "    <tr>\n",
              "      <th>3702</th>\n",
              "      <td>Name: Broken Vessels (1998) Genres: Drama</td>\n",
              "    </tr>\n",
              "    <tr>\n",
              "      <th>3703</th>\n",
              "      <td>Name: White Boys (1999) Genres: Drama</td>\n",
              "    </tr>\n",
              "    <tr>\n",
              "      <th>3704</th>\n",
              "      <td>Name: One Little Indian (1973) Genres: Comedy,...</td>\n",
              "    </tr>\n",
              "    <tr>\n",
              "      <th>3705</th>\n",
              "      <td>Name: Five Wives, Three Secretaries and Me (19...</td>\n",
              "    </tr>\n",
              "  </tbody>\n",
              "</table>\n",
              "<p>3706 rows × 1 columns</p>\n",
              "</div>"
            ],
            "text/plain": [
              "                                                      text\n",
              "item_id                                                   \n",
              "0        Name: One Flew Over the Cuckoo's Nest (1975) G...\n",
              "1        Name: James and the Giant Peach (1996) Genres:...\n",
              "2        Name: My Fair Lady (1964) Genres: Musical, Rom...\n",
              "3               Name: Erin Brockovich (2000) Genres: Drama\n",
              "4        Name: Bug's Life, A (1998) Genres: Animation, ...\n",
              "...                                                    ...\n",
              "3701          Name: Modulations (1998) Genres: Documentary\n",
              "3702             Name: Broken Vessels (1998) Genres: Drama\n",
              "3703                 Name: White Boys (1999) Genres: Drama\n",
              "3704     Name: One Little Indian (1973) Genres: Comedy,...\n",
              "3705     Name: Five Wives, Three Secretaries and Me (19...\n",
              "\n",
              "[3706 rows x 1 columns]"
            ]
          },
          "execution_count": 11,
          "metadata": {},
          "output_type": "execute_result"
        }
      ],
      "source": [
        "texts = ml_1m[['item_id', 'text']].drop_duplicates(subset=['item_id'])\n",
        "texts.set_index('item_id', inplace=True)\n",
        "texts"
      ]
    },
    {
      "cell_type": "code",
      "execution_count": 12,
      "metadata": {},
      "outputs": [
        {
          "data": {
            "text/plain": [
              "'Name: Cross of Iron (1977) Genres: War'"
            ]
          },
          "execution_count": 12,
          "metadata": {},
          "output_type": "execute_result"
        }
      ],
      "source": [
        "texts.iloc[2981]['text']"
      ]
    },
    {
      "cell_type": "code",
      "execution_count": 13,
      "metadata": {},
      "outputs": [
        {
          "name": "stdout",
          "output_type": "stream",
          "text": [
            "(994169, 4) (6040, 4) (1000209, 4)\n"
          ]
        },
        {
          "name": "stderr",
          "output_type": "stream",
          "text": [
            "Using cache found in /home/rctejon/.cache/torch/hub/huggingface_pytorch-transformers_main\n",
            "/home/rctejon/Documents/tesis/Multimodal-RecSys/venv38/lib/python3.8/site-packages/tqdm/auto.py:21: TqdmWarning: IProgress not found. Please update jupyter and ipywidgets. See https://ipywidgets.readthedocs.io/en/stable/user_install.html\n",
            "  from .autonotebook import tqdm as notebook_tqdm\n",
            "Using cache found in /home/rctejon/.cache/torch/hub/huggingface_pytorch-transformers_main\n"
          ]
        },
        {
          "name": "stdout",
          "output_type": "stream",
          "text": [
            "cuda:0\n"
          ]
        }
      ],
      "source": [
        "# construct the train and test datasets\n",
        "data = CreateDataloader(args, train_ml_1m, test_ml_1m, MAIN_PATH, True, texts=texts)\n",
        "train_loader = data.get_train_instance()\n",
        "test_loader = data.get_test_instance()\n",
        "\n",
        "# set model and loss, optimizer\n",
        "model = BertMF(args, num_users, num_items)\n",
        "model = model.to(device)\n",
        "print(device)\n",
        "loss_function = nn.BCELoss()\n",
        "optimizer = optim.Adam(model.parameters(), lr=args.lr)"
      ]
    },
    {
      "cell_type": "code",
      "execution_count": 14,
      "metadata": {},
      "outputs": [
        {
          "data": {
            "text/plain": [
              "([\"Name: Pocahontas (1995) Genres: Animation, Children's, Musical, Romance\",\n",
              "  \"Name: Herbie Goes to Monte Carlo (1977) Genres: Adventure, Children's, Comedy\",\n",
              "  'Name: Grease 2 (1982) Genres: Comedy, Musical, Romance',\n",
              "  'Name: Mission, The (1986) Genres: Drama',\n",
              "  'Name: Queen Margot (La Reine Margot) (1994) Genres: Drama, Romance',\n",
              "  'Name: Jail Bait (1954) Genres: Crime, Drama',\n",
              "  'Name: Happy, Texas (1999) Genres: Comedy',\n",
              "  'Name: Battle for the Planet of the Apes (1973) Genres: Action, Sci-Fi',\n",
              "  \"Name: Adventures of Milo and Otis, The (1986) Genres: Children's\",\n",
              "  'Name: Alien³ (1992) Genres: Action, Horror, Sci-Fi, Thriller',\n",
              "  'Name: Rosetta (1999) Genres: Drama',\n",
              "  'Name: Mouth to Mouth (Boca a boca) (1995) Genres: Comedy',\n",
              "  'Name: Midaq Alley (Callejón de los milagros, El) (1995) Genres: Drama',\n",
              "  'Name: Homegrown (1998) Genres: Comedy, Thriller',\n",
              "  'Name: Airport 1975 (1974) Genres: Drama',\n",
              "  'Name: Meet Wally Sparks (1997) Genres: Comedy',\n",
              "  'Name: Crimes and Misdemeanors (1989) Genres: Comedy',\n",
              "  'Name: Hot Spot, The (1990) Genres: Drama, Romance',\n",
              "  'Name: Jakob the Liar (1999) Genres: Drama',\n",
              "  'Name: F/X 2 (1992) Genres: Action, Crime, Thriller',\n",
              "  'Name: Burglar (1987) Genres: Comedy',\n",
              "  'Name: Ghost and the Darkness, The (1996) Genres: Action, Adventure',\n",
              "  'Name: Gay Divorcee, The (1934) Genres: Comedy, Musical, Romance',\n",
              "  'Name: Mr. Smith Goes to Washington (1939) Genres: Drama',\n",
              "  'Name: Big One, The (1997) Genres: Comedy, Documentary',\n",
              "  'Name: Scary Movie (2000) Genres: Comedy, Horror',\n",
              "  'Name: Apocalypse Now (1979) Genres: Drama, War',\n",
              "  \"Name: Babe: Pig in the City (1998) Genres: Children's, Comedy\",\n",
              "  'Name: One False Move (1991) Genres: Thriller',\n",
              "  'Name: Beverly Hills Ninja (1997) Genres: Action, Comedy',\n",
              "  'Name: Very Natural Thing, A (1974) Genres: Drama',\n",
              "  'Name: Jeanne and the Perfect Guy (Jeanne et le garçon formidable) (1998) Genres: Comedy, Romance',\n",
              "  'Name: Castle Freak (1995) Genres: Horror',\n",
              "  'Name: Anaconda (1997) Genres: Action, Adventure, Thriller',\n",
              "  'Name: Winslow Boy, The (1998) Genres: Drama',\n",
              "  'Name: Dream With the Fishes (1997) Genres: Drama',\n",
              "  'Name: Broken English (1996) Genres: Drama',\n",
              "  'Name: Wonder Boys (2000) Genres: Comedy, Drama',\n",
              "  'Name: To Live (Huozhe) (1994) Genres: Drama',\n",
              "  'Name: City, The (1998) Genres: Drama',\n",
              "  'Name: Mrs. Winterbourne (1996) Genres: Comedy, Romance',\n",
              "  'Name: Under Capricorn (1949) Genres: Drama',\n",
              "  \"Name: Cheetah (1989) Genres: Adventure, Children's\",\n",
              "  'Name: My Fellow Americans (1996) Genres: Comedy',\n",
              "  'Name: Needful Things (1993) Genres: Drama, Horror',\n",
              "  'Name: Cool Hand Luke (1967) Genres: Comedy, Drama',\n",
              "  'Name: Window to Paris (1994) Genres: Comedy',\n",
              "  'Name: Fatal Instinct (1993) Genres: Comedy',\n",
              "  'Name: Other Side of Sunday, The (Søndagsengler) (1996) Genres: Comedy, Drama',\n",
              "  'Name: Fury, The (1978) Genres: Horror',\n",
              "  'Name: Irma la Douce (1963) Genres: Comedy',\n",
              "  'Name: Specialist, The (1994) Genres: Action',\n",
              "  'Name: Groove (2000) Genres: Drama',\n",
              "  'Name: Earth Vs. the Flying Saucers (1956) Genres: Sci-Fi',\n",
              "  'Name: Leather Jacket Love Story (1997) Genres: Drama, Romance',\n",
              "  'Name: Mephisto (1981) Genres: Drama, War',\n",
              "  'Name: Sweet and Lowdown (1999) Genres: Comedy, Drama',\n",
              "  'Name: Maverick (1994) Genres: Action, Comedy, Western',\n",
              "  'Name: Ashes of Time (1994) Genres: Drama',\n",
              "  'Name: S.F.W. (1994) Genres: Drama',\n",
              "  'Name: Pajama Game, The (1957) Genres: Comedy',\n",
              "  'Name: Sid and Nancy (1986) Genres: Drama',\n",
              "  'Name: Ready to Wear (Pret-A-Porter) (1994) Genres: Comedy',\n",
              "  'Name: Godfather: Part II, The (1974) Genres: Action, Crime, Drama',\n",
              "  'Name: Battleship Potemkin, The (Bronenosets Potyomkin) (1925) Genres: Drama, War',\n",
              "  'Name: Waltzes from Vienna (1933) Genres: Comedy, Musical',\n",
              "  'Name: Hudsucker Proxy, The (1994) Genres: Comedy, Romance',\n",
              "  'Name: Hero (1992) Genres: Comedy, Drama',\n",
              "  'Name: Citizen Ruth (1996) Genres: Comedy, Drama',\n",
              "  'Name: Soft Toilet Seats (1999) Genres: Comedy',\n",
              "  'Name: First Wives Club, The (1996) Genres: Comedy',\n",
              "  'Name: First Knight (1995) Genres: Action, Adventure, Drama, Romance',\n",
              "  'Name: Ideal Husband, An (1999) Genres: Comedy',\n",
              "  'Name: Band Wagon, The (1953) Genres: Comedy, Musical',\n",
              "  'Name: Prisoner of the Mountains (Kavkazsky Plennik) (1996) Genres: War',\n",
              "  'Name: Attack of the Killer Tomatoes! (1980) Genres: Comedy, Horror',\n",
              "  'Name: Never Been Kissed (1999) Genres: Comedy, Romance',\n",
              "  'Name: Prom Night III: The Last Kiss (1989) Genres: Horror',\n",
              "  'Name: Good Morning, Vietnam (1987) Genres: Comedy, Drama, War',\n",
              "  'Name: Apartment, The (1960) Genres: Comedy, Drama',\n",
              "  'Name: Die Hard (1988) Genres: Action, Thriller',\n",
              "  'Name: Band of the Hand (1986) Genres: Action',\n",
              "  'Name: Patriot Games (1992) Genres: Action, Thriller',\n",
              "  'Name: Kama Sutra: A Tale of Love (1996) Genres: Romance',\n",
              "  \"Name: Mummy's Hand, The (1940) Genres: Horror\",\n",
              "  'Name: Blood Beach (1981) Genres: Action, Horror',\n",
              "  'Name: Seventh Seal, The (Sjunde inseglet, Det) (1957) Genres: Drama',\n",
              "  'Name: Gabbeh (1996) Genres: Drama',\n",
              "  'Name: Suture (1993) Genres: Film-Noir, Thriller',\n",
              "  'Name: Toxic Avenger, The (1985) Genres: Comedy, Horror',\n",
              "  'Name: Beautiful Girls (1996) Genres: Drama',\n",
              "  'Name: Star Wars: Episode VI - Return of the Jedi (1983) Genres: Action, Adventure, Romance, Sci-Fi, War',\n",
              "  'Name: Bridges of Madison County, The (1995) Genres: Drama, Romance',\n",
              "  'Name: Five Easy Pieces (1970) Genres: Drama',\n",
              "  'Name: Class Reunion (1982) Genres: Comedy',\n",
              "  'Name: Outlaw, The (1943) Genres: Western',\n",
              "  'Name: Lost Weekend, The (1945) Genres: Drama',\n",
              "  'Name: Arrival, The (1996) Genres: Action, Sci-Fi, Thriller',\n",
              "  'Name: Primal Fear (1996) Genres: Drama, Thriller',\n",
              "  'Name: Mixed Nuts (1994) Genres: Comedy',\n",
              "  'Name: Bed of Roses (1996) Genres: Drama, Romance'],\n",
              " 101)"
            ]
          },
          "execution_count": 14,
          "metadata": {},
          "output_type": "execute_result"
        }
      ],
      "source": [
        "a = next(iter(test_loader))   \n",
        "a[3], len(a[3])"
      ]
    },
    {
      "cell_type": "code",
      "execution_count": 15,
      "metadata": {},
      "outputs": [
        {
          "name": "stderr",
          "output_type": "stream",
          "text": [
            "100%|██████████| 19418/19418 [3:24:10<00:00,  1.59it/s]  \n",
            "  0%|          | 0/6040 [00:00<?, ?it/s]huggingface/tokenizers: The current process just got forked, after parallelism has already been used. Disabling parallelism to avoid deadlocks...\n",
            "To disable this warning, you can either:\n",
            "\t- Avoid using `tokenizers` before the fork if possible\n",
            "\t- Explicitly set the environment variable TOKENIZERS_PARALLELISM=(true | false)\n",
            "huggingface/tokenizers: The current process just got forked, after parallelism has already been used. Disabling parallelism to avoid deadlocks...\n",
            "To disable this warning, you can either:\n",
            "\t- Avoid using `tokenizers` before the fork if possible\n",
            "\t- Explicitly set the environment variable TOKENIZERS_PARALLELISM=(true | false)\n",
            "huggingface/tokenizers: The current process just got forked, after parallelism has already been used. Disabling parallelism to avoid deadlocks...\n",
            "To disable this warning, you can either:\n",
            "\t- Avoid using `tokenizers` before the fork if possible\n",
            "\t- Explicitly set the environment variable TOKENIZERS_PARALLELISM=(true | false)\n",
            "huggingface/tokenizers: The current process just got forked, after parallelism has already been used. Disabling parallelism to avoid deadlocks...\n",
            "To disable this warning, you can either:\n",
            "\t- Avoid using `tokenizers` before the fork if possible\n",
            "\t- Explicitly set the environment variable TOKENIZERS_PARALLELISM=(true | false)\n",
            "huggingface/tokenizers: The current process just got forked, after parallelism has already been used. Disabling parallelism to avoid deadlocks...\n",
            "To disable this warning, you can either:\n",
            "\t- Avoid using `tokenizers` before the fork if possible\n",
            "\t- Explicitly set the environment variable TOKENIZERS_PARALLELISM=(true | false)\n",
            "huggingface/tokenizers: The current process just got forked, after parallelism has already been used. Disabling parallelism to avoid deadlocks...\n",
            "To disable this warning, you can either:\n",
            "\t- Avoid using `tokenizers` before the fork if possible\n",
            "\t- Explicitly set the environment variable TOKENIZERS_PARALLELISM=(true | false)\n",
            "huggingface/tokenizers: The current process just got forked, after parallelism has already been used. Disabling parallelism to avoid deadlocks...\n",
            "To disable this warning, you can either:\n",
            "\t- Avoid using `tokenizers` before the fork if possible\n",
            "\t- Explicitly set the environment variable TOKENIZERS_PARALLELISM=(true | false)\n",
            "huggingface/tokenizers: The current process just got forked, after parallelism has already been used. Disabling parallelism to avoid deadlocks...\n",
            "To disable this warning, you can either:\n",
            "\t- Avoid using `tokenizers` before the fork if possible\n",
            "\t- Explicitly set the environment variable TOKENIZERS_PARALLELISM=(true | false)\n",
            "huggingface/tokenizers: The current process just got forked, after parallelism has already been used. Disabling parallelism to avoid deadlocks...\n",
            "To disable this warning, you can either:\n",
            "\t- Avoid using `tokenizers` before the fork if possible\n",
            "\t- Explicitly set the environment variable TOKENIZERS_PARALLELISM=(true | false)\n",
            "huggingface/tokenizers: The current process just got forked, after parallelism has already been used. Disabling parallelism to avoid deadlocks...\n",
            "To disable this warning, you can either:\n",
            "\t- Avoid using `tokenizers` before the fork if possible\n",
            "\t- Explicitly set the environment variable TOKENIZERS_PARALLELISM=(true | false)\n",
            "huggingface/tokenizers: The current process just got forked, after parallelism has already been used. Disabling parallelism to avoid deadlocks...\n",
            "To disable this warning, you can either:\n",
            "\t- Avoid using `tokenizers` before the fork if possible\n",
            "\t- Explicitly set the environment variable TOKENIZERS_PARALLELISM=(true | false)\n",
            "huggingface/tokenizers: The current process just got forked, after parallelism has already been used. Disabling parallelism to avoid deadlocks...\n",
            "To disable this warning, you can either:\n",
            "\t- Avoid using `tokenizers` before the fork if possible\n",
            "\t- Explicitly set the environment variable TOKENIZERS_PARALLELISM=(true | false)\n",
            "100%|██████████| 6040/6040 [23:38<00:00,  4.26it/s]\n"
          ]
        },
        {
          "name": "stdout",
          "output_type": "stream",
          "text": [
            "The time elapse of epoch 001 is: 03: 47: 49\n",
            "HR: 0.666\tNDCG: 0.238\tMRR: 0.671\n"
          ]
        },
        {
          "name": "stderr",
          "output_type": "stream",
          "text": [
            "  0%|          | 0/19418 [00:00<?, ?it/s]huggingface/tokenizers: The current process just got forked, after parallelism has already been used. Disabling parallelism to avoid deadlocks...\n",
            "To disable this warning, you can either:\n",
            "\t- Avoid using `tokenizers` before the fork if possible\n",
            "\t- Explicitly set the environment variable TOKENIZERS_PARALLELISM=(true | false)\n",
            "huggingface/tokenizers: The current process just got forked, after parallelism has already been used. Disabling parallelism to avoid deadlocks...\n",
            "To disable this warning, you can either:\n",
            "\t- Avoid using `tokenizers` before the fork if possible\n",
            "\t- Explicitly set the environment variable TOKENIZERS_PARALLELISM=(true | false)\n",
            "huggingface/tokenizers: The current process just got forked, after parallelism has already been used. Disabling parallelism to avoid deadlocks...\n",
            "To disable this warning, you can either:\n",
            "\t- Avoid using `tokenizers` before the fork if possible\n",
            "\t- Explicitly set the environment variable TOKENIZERS_PARALLELISM=(true | false)\n",
            "huggingface/tokenizers: The current process just got forked, after parallelism has already been used. Disabling parallelism to avoid deadlocks...\n",
            "To disable this warning, you can either:\n",
            "\t- Avoid using `tokenizers` before the fork if possible\n",
            "\t- Explicitly set the environment variable TOKENIZERS_PARALLELISM=(true | false)\n",
            "100%|██████████| 19418/19418 [3:22:29<00:00,  1.60it/s]  \n",
            "  0%|          | 0/6040 [00:00<?, ?it/s]huggingface/tokenizers: The current process just got forked, after parallelism has already been used. Disabling parallelism to avoid deadlocks...\n",
            "To disable this warning, you can either:\n",
            "\t- Avoid using `tokenizers` before the fork if possible\n",
            "\t- Explicitly set the environment variable TOKENIZERS_PARALLELISM=(true | false)\n",
            "huggingface/tokenizers: The current process just got forked, after parallelism has already been used. Disabling parallelism to avoid deadlocks...\n",
            "To disable this warning, you can either:\n",
            "\t- Avoid using `tokenizers` before the fork if possible\n",
            "\t- Explicitly set the environment variable TOKENIZERS_PARALLELISM=(true | false)\n",
            "huggingface/tokenizers: The current process just got forked, after parallelism has already been used. Disabling parallelism to avoid deadlocks...\n",
            "To disable this warning, you can either:\n",
            "\t- Avoid using `tokenizers` before the fork if possible\n",
            "\t- Explicitly set the environment variable TOKENIZERS_PARALLELISM=(true | false)\n",
            "huggingface/tokenizers: The current process just got forked, after parallelism has already been used. Disabling parallelism to avoid deadlocks...\n",
            "To disable this warning, you can either:\n",
            "\t- Avoid using `tokenizers` before the fork if possible\n",
            "\t- Explicitly set the environment variable TOKENIZERS_PARALLELISM=(true | false)\n",
            "huggingface/tokenizers: The current process just got forked, after parallelism has already been used. Disabling parallelism to avoid deadlocks...\n",
            "To disable this warning, you can either:\n",
            "\t- Avoid using `tokenizers` before the fork if possible\n",
            "\t- Explicitly set the environment variable TOKENIZERS_PARALLELISM=(true | false)\n",
            "huggingface/tokenizers: The current process just got forked, after parallelism has already been used. Disabling parallelism to avoid deadlocks...\n",
            "To disable this warning, you can either:\n",
            "\t- Avoid using `tokenizers` before the fork if possible\n",
            "\t- Explicitly set the environment variable TOKENIZERS_PARALLELISM=(true | false)\n",
            "huggingface/tokenizers: The current process just got forked, after parallelism has already been used. Disabling parallelism to avoid deadlocks...\n",
            "To disable this warning, you can either:\n",
            "\t- Avoid using `tokenizers` before the fork if possible\n",
            "\t- Explicitly set the environment variable TOKENIZERS_PARALLELISM=(true | false)\n",
            "huggingface/tokenizers: The current process just got forked, after parallelism has already been used. Disabling parallelism to avoid deadlocks...\n",
            "To disable this warning, you can either:\n",
            "\t- Avoid using `tokenizers` before the fork if possible\n",
            "\t- Explicitly set the environment variable TOKENIZERS_PARALLELISM=(true | false)\n",
            "huggingface/tokenizers: The current process just got forked, after parallelism has already been used. Disabling parallelism to avoid deadlocks...\n",
            "To disable this warning, you can either:\n",
            "\t- Avoid using `tokenizers` before the fork if possible\n",
            "\t- Explicitly set the environment variable TOKENIZERS_PARALLELISM=(true | false)\n",
            "huggingface/tokenizers: The current process just got forked, after parallelism has already been used. Disabling parallelism to avoid deadlocks...\n",
            "To disable this warning, you can either:\n",
            "\t- Avoid using `tokenizers` before the fork if possible\n",
            "\t- Explicitly set the environment variable TOKENIZERS_PARALLELISM=(true | false)\n",
            "huggingface/tokenizers: The current process just got forked, after parallelism has already been used. Disabling parallelism to avoid deadlocks...\n",
            "To disable this warning, you can either:\n",
            "\t- Avoid using `tokenizers` before the fork if possible\n",
            "\t- Explicitly set the environment variable TOKENIZERS_PARALLELISM=(true | false)\n",
            "huggingface/tokenizers: The current process just got forked, after parallelism has already been used. Disabling parallelism to avoid deadlocks...\n",
            "To disable this warning, you can either:\n",
            "\t- Avoid using `tokenizers` before the fork if possible\n",
            "\t- Explicitly set the environment variable TOKENIZERS_PARALLELISM=(true | false)\n",
            "100%|██████████| 6040/6040 [23:47<00:00,  4.23it/s]\n"
          ]
        },
        {
          "name": "stdout",
          "output_type": "stream",
          "text": [
            "The time elapse of epoch 002 is: 03: 46: 17\n",
            "HR: 0.948\tNDCG: 0.338\tMRR: 0.948\n"
          ]
        },
        {
          "name": "stderr",
          "output_type": "stream",
          "text": [
            "  0%|          | 0/19418 [00:00<?, ?it/s]huggingface/tokenizers: The current process just got forked, after parallelism has already been used. Disabling parallelism to avoid deadlocks...\n",
            "To disable this warning, you can either:\n",
            "\t- Avoid using `tokenizers` before the fork if possible\n",
            "\t- Explicitly set the environment variable TOKENIZERS_PARALLELISM=(true | false)\n",
            "huggingface/tokenizers: The current process just got forked, after parallelism has already been used. Disabling parallelism to avoid deadlocks...\n",
            "To disable this warning, you can either:\n",
            "\t- Avoid using `tokenizers` before the fork if possible\n",
            "\t- Explicitly set the environment variable TOKENIZERS_PARALLELISM=(true | false)\n",
            "huggingface/tokenizers: The current process just got forked, after parallelism has already been used. Disabling parallelism to avoid deadlocks...\n",
            "To disable this warning, you can either:\n",
            "\t- Avoid using `tokenizers` before the fork if possible\n",
            "\t- Explicitly set the environment variable TOKENIZERS_PARALLELISM=(true | false)\n",
            "huggingface/tokenizers: The current process just got forked, after parallelism has already been used. Disabling parallelism to avoid deadlocks...\n",
            "To disable this warning, you can either:\n",
            "\t- Avoid using `tokenizers` before the fork if possible\n",
            "\t- Explicitly set the environment variable TOKENIZERS_PARALLELISM=(true | false)\n",
            "100%|██████████| 19418/19418 [3:24:41<00:00,  1.58it/s]  \n",
            "  0%|          | 0/6040 [00:00<?, ?it/s]huggingface/tokenizers: The current process just got forked, after parallelism has already been used. Disabling parallelism to avoid deadlocks...\n",
            "To disable this warning, you can either:\n",
            "\t- Avoid using `tokenizers` before the fork if possible\n",
            "\t- Explicitly set the environment variable TOKENIZERS_PARALLELISM=(true | false)\n",
            "huggingface/tokenizers: The current process just got forked, after parallelism has already been used. Disabling parallelism to avoid deadlocks...\n",
            "To disable this warning, you can either:\n",
            "\t- Avoid using `tokenizers` before the fork if possible\n",
            "\t- Explicitly set the environment variable TOKENIZERS_PARALLELISM=(true | false)\n",
            "huggingface/tokenizers: The current process just got forked, after parallelism has already been used. Disabling parallelism to avoid deadlocks...\n",
            "To disable this warning, you can either:\n",
            "\t- Avoid using `tokenizers` before the fork if possible\n",
            "\t- Explicitly set the environment variable TOKENIZERS_PARALLELISM=(true | false)\n",
            "huggingface/tokenizers: The current process just got forked, after parallelism has already been used. Disabling parallelism to avoid deadlocks...\n",
            "To disable this warning, you can either:\n",
            "\t- Avoid using `tokenizers` before the fork if possible\n",
            "\t- Explicitly set the environment variable TOKENIZERS_PARALLELISM=(true | false)\n",
            "huggingface/tokenizers: The current process just got forked, after parallelism has already been used. Disabling parallelism to avoid deadlocks...\n",
            "To disable this warning, you can either:\n",
            "\t- Avoid using `tokenizers` before the fork if possible\n",
            "\t- Explicitly set the environment variable TOKENIZERS_PARALLELISM=(true | false)\n",
            "huggingface/tokenizers: The current process just got forked, after parallelism has already been used. Disabling parallelism to avoid deadlocks...\n",
            "To disable this warning, you can either:\n",
            "\t- Avoid using `tokenizers` before the fork if possible\n",
            "\t- Explicitly set the environment variable TOKENIZERS_PARALLELISM=(true | false)\n",
            "huggingface/tokenizers: The current process just got forked, after parallelism has already been used. Disabling parallelism to avoid deadlocks...\n",
            "To disable this warning, you can either:\n",
            "\t- Avoid using `tokenizers` before the fork if possible\n",
            "\t- Explicitly set the environment variable TOKENIZERS_PARALLELISM=(true | false)\n",
            "huggingface/tokenizers: The current process just got forked, after parallelism has already been used. Disabling parallelism to avoid deadlocks...\n",
            "To disable this warning, you can either:\n",
            "\t- Avoid using `tokenizers` before the fork if possible\n",
            "\t- Explicitly set the environment variable TOKENIZERS_PARALLELISM=(true | false)\n",
            "huggingface/tokenizers: The current process just got forked, after parallelism has already been used. Disabling parallelism to avoid deadlocks...\n",
            "To disable this warning, you can either:\n",
            "\t- Avoid using `tokenizers` before the fork if possible\n",
            "\t- Explicitly set the environment variable TOKENIZERS_PARALLELISM=(true | false)\n",
            "huggingface/tokenizers: The current process just got forked, after parallelism has already been used. Disabling parallelism to avoid deadlocks...\n",
            "To disable this warning, you can either:\n",
            "\t- Avoid using `tokenizers` before the fork if possible\n",
            "\t- Explicitly set the environment variable TOKENIZERS_PARALLELISM=(true | false)\n",
            "huggingface/tokenizers: The current process just got forked, after parallelism has already been used. Disabling parallelism to avoid deadlocks...\n",
            "To disable this warning, you can either:\n",
            "\t- Avoid using `tokenizers` before the fork if possible\n",
            "\t- Explicitly set the environment variable TOKENIZERS_PARALLELISM=(true | false)\n",
            "huggingface/tokenizers: The current process just got forked, after parallelism has already been used. Disabling parallelism to avoid deadlocks...\n",
            "To disable this warning, you can either:\n",
            "\t- Avoid using `tokenizers` before the fork if possible\n",
            "\t- Explicitly set the environment variable TOKENIZERS_PARALLELISM=(true | false)\n",
            "100%|██████████| 6040/6040 [24:05<00:00,  4.18it/s]\n"
          ]
        },
        {
          "name": "stdout",
          "output_type": "stream",
          "text": [
            "The time elapse of epoch 003 is: 03: 48: 47\n",
            "HR: 0.975\tNDCG: 0.347\tMRR: 0.975\n"
          ]
        },
        {
          "name": "stderr",
          "output_type": "stream",
          "text": [
            "  0%|          | 0/19418 [00:00<?, ?it/s]huggingface/tokenizers: The current process just got forked, after parallelism has already been used. Disabling parallelism to avoid deadlocks...\n",
            "To disable this warning, you can either:\n",
            "\t- Avoid using `tokenizers` before the fork if possible\n",
            "\t- Explicitly set the environment variable TOKENIZERS_PARALLELISM=(true | false)\n",
            "huggingface/tokenizers: The current process just got forked, after parallelism has already been used. Disabling parallelism to avoid deadlocks...\n",
            "To disable this warning, you can either:\n",
            "\t- Avoid using `tokenizers` before the fork if possible\n",
            "\t- Explicitly set the environment variable TOKENIZERS_PARALLELISM=(true | false)\n",
            "huggingface/tokenizers: The current process just got forked, after parallelism has already been used. Disabling parallelism to avoid deadlocks...\n",
            "To disable this warning, you can either:\n",
            "\t- Avoid using `tokenizers` before the fork if possible\n",
            "\t- Explicitly set the environment variable TOKENIZERS_PARALLELISM=(true | false)\n",
            "huggingface/tokenizers: The current process just got forked, after parallelism has already been used. Disabling parallelism to avoid deadlocks...\n",
            "To disable this warning, you can either:\n",
            "\t- Avoid using `tokenizers` before the fork if possible\n",
            "\t- Explicitly set the environment variable TOKENIZERS_PARALLELISM=(true | false)\n",
            "100%|██████████| 19418/19418 [3:26:19<00:00,  1.57it/s]  \n",
            "  0%|          | 0/6040 [00:00<?, ?it/s]huggingface/tokenizers: The current process just got forked, after parallelism has already been used. Disabling parallelism to avoid deadlocks...\n",
            "To disable this warning, you can either:\n",
            "\t- Avoid using `tokenizers` before the fork if possible\n",
            "\t- Explicitly set the environment variable TOKENIZERS_PARALLELISM=(true | false)\n",
            "huggingface/tokenizers: The current process just got forked, after parallelism has already been used. Disabling parallelism to avoid deadlocks...\n",
            "To disable this warning, you can either:\n",
            "\t- Avoid using `tokenizers` before the fork if possible\n",
            "\t- Explicitly set the environment variable TOKENIZERS_PARALLELISM=(true | false)\n",
            "huggingface/tokenizers: The current process just got forked, after parallelism has already been used. Disabling parallelism to avoid deadlocks...\n",
            "To disable this warning, you can either:\n",
            "\t- Avoid using `tokenizers` before the fork if possible\n",
            "\t- Explicitly set the environment variable TOKENIZERS_PARALLELISM=(true | false)\n",
            "huggingface/tokenizers: The current process just got forked, after parallelism has already been used. Disabling parallelism to avoid deadlocks...\n",
            "To disable this warning, you can either:\n",
            "\t- Avoid using `tokenizers` before the fork if possible\n",
            "\t- Explicitly set the environment variable TOKENIZERS_PARALLELISM=(true | false)\n",
            "huggingface/tokenizers: The current process just got forked, after parallelism has already been used. Disabling parallelism to avoid deadlocks...\n",
            "To disable this warning, you can either:\n",
            "\t- Avoid using `tokenizers` before the fork if possible\n",
            "\t- Explicitly set the environment variable TOKENIZERS_PARALLELISM=(true | false)\n",
            "huggingface/tokenizers: The current process just got forked, after parallelism has already been used. Disabling parallelism to avoid deadlocks...\n",
            "To disable this warning, you can either:\n",
            "\t- Avoid using `tokenizers` before the fork if possible\n",
            "\t- Explicitly set the environment variable TOKENIZERS_PARALLELISM=(true | false)\n",
            "huggingface/tokenizers: The current process just got forked, after parallelism has already been used. Disabling parallelism to avoid deadlocks...\n",
            "To disable this warning, you can either:\n",
            "\t- Avoid using `tokenizers` before the fork if possible\n",
            "\t- Explicitly set the environment variable TOKENIZERS_PARALLELISM=(true | false)\n",
            "huggingface/tokenizers: The current process just got forked, after parallelism has already been used. Disabling parallelism to avoid deadlocks...\n",
            "To disable this warning, you can either:\n",
            "\t- Avoid using `tokenizers` before the fork if possible\n",
            "\t- Explicitly set the environment variable TOKENIZERS_PARALLELISM=(true | false)\n",
            "huggingface/tokenizers: The current process just got forked, after parallelism has already been used. Disabling parallelism to avoid deadlocks...\n",
            "To disable this warning, you can either:\n",
            "\t- Avoid using `tokenizers` before the fork if possible\n",
            "\t- Explicitly set the environment variable TOKENIZERS_PARALLELISM=(true | false)\n",
            "huggingface/tokenizers: The current process just got forked, after parallelism has already been used. Disabling parallelism to avoid deadlocks...\n",
            "To disable this warning, you can either:\n",
            "\t- Avoid using `tokenizers` before the fork if possible\n",
            "\t- Explicitly set the environment variable TOKENIZERS_PARALLELISM=(true | false)\n",
            "huggingface/tokenizers: The current process just got forked, after parallelism has already been used. Disabling parallelism to avoid deadlocks...\n",
            "To disable this warning, you can either:\n",
            "\t- Avoid using `tokenizers` before the fork if possible\n",
            "\t- Explicitly set the environment variable TOKENIZERS_PARALLELISM=(true | false)\n",
            "huggingface/tokenizers: The current process just got forked, after parallelism has already been used. Disabling parallelism to avoid deadlocks...\n",
            "To disable this warning, you can either:\n",
            "\t- Avoid using `tokenizers` before the fork if possible\n",
            "\t- Explicitly set the environment variable TOKENIZERS_PARALLELISM=(true | false)\n",
            "100%|██████████| 6040/6040 [24:19<00:00,  4.14it/s]huggingface/tokenizers: The current process just got forked, after parallelism has already been used. Disabling parallelism to avoid deadlocks...\n",
            "To disable this warning, you can either:\n",
            "\t- Avoid using `tokenizers` before the fork if possible\n",
            "\t- Explicitly set the environment variable TOKENIZERS_PARALLELISM=(true | false)\n",
            "100%|██████████| 6040/6040 [24:19<00:00,  4.14it/s]\n"
          ]
        },
        {
          "name": "stdout",
          "output_type": "stream",
          "text": [
            "The time elapse of epoch 004 is: 03: 50: 38\n",
            "HR: 0.978\tNDCG: 0.348\tMRR: 0.978\n"
          ]
        },
        {
          "name": "stderr",
          "output_type": "stream",
          "text": [
            "  0%|          | 0/19418 [00:00<?, ?it/s]huggingface/tokenizers: The current process just got forked, after parallelism has already been used. Disabling parallelism to avoid deadlocks...\n",
            "To disable this warning, you can either:\n",
            "\t- Avoid using `tokenizers` before the fork if possible\n",
            "\t- Explicitly set the environment variable TOKENIZERS_PARALLELISM=(true | false)\n",
            "huggingface/tokenizers: The current process just got forked, after parallelism has already been used. Disabling parallelism to avoid deadlocks...\n",
            "To disable this warning, you can either:\n",
            "\t- Avoid using `tokenizers` before the fork if possible\n",
            "\t- Explicitly set the environment variable TOKENIZERS_PARALLELISM=(true | false)\n",
            "huggingface/tokenizers: The current process just got forked, after parallelism has already been used. Disabling parallelism to avoid deadlocks...\n",
            "To disable this warning, you can either:\n",
            "\t- Avoid using `tokenizers` before the fork if possible\n",
            "\t- Explicitly set the environment variable TOKENIZERS_PARALLELISM=(true | false)\n",
            "huggingface/tokenizers: The current process just got forked, after parallelism has already been used. Disabling parallelism to avoid deadlocks...\n",
            "To disable this warning, you can either:\n",
            "\t- Avoid using `tokenizers` before the fork if possible\n",
            "\t- Explicitly set the environment variable TOKENIZERS_PARALLELISM=(true | false)\n",
            "100%|██████████| 19418/19418 [3:27:07<00:00,  1.56it/s]  \n",
            "  0%|          | 0/6040 [00:00<?, ?it/s]huggingface/tokenizers: The current process just got forked, after parallelism has already been used. Disabling parallelism to avoid deadlocks...\n",
            "To disable this warning, you can either:\n",
            "\t- Avoid using `tokenizers` before the fork if possible\n",
            "\t- Explicitly set the environment variable TOKENIZERS_PARALLELISM=(true | false)\n",
            "huggingface/tokenizers: The current process just got forked, after parallelism has already been used. Disabling parallelism to avoid deadlocks...\n",
            "To disable this warning, you can either:\n",
            "\t- Avoid using `tokenizers` before the fork if possible\n",
            "\t- Explicitly set the environment variable TOKENIZERS_PARALLELISM=(true | false)\n",
            "huggingface/tokenizers: The current process just got forked, after parallelism has already been used. Disabling parallelism to avoid deadlocks...\n",
            "To disable this warning, you can either:\n",
            "\t- Avoid using `tokenizers` before the fork if possible\n",
            "\t- Explicitly set the environment variable TOKENIZERS_PARALLELISM=(true | false)\n",
            "huggingface/tokenizers: The current process just got forked, after parallelism has already been used. Disabling parallelism to avoid deadlocks...\n",
            "To disable this warning, you can either:\n",
            "\t- Avoid using `tokenizers` before the fork if possible\n",
            "\t- Explicitly set the environment variable TOKENIZERS_PARALLELISM=(true | false)\n",
            "huggingface/tokenizers: The current process just got forked, after parallelism has already been used. Disabling parallelism to avoid deadlocks...\n",
            "To disable this warning, you can either:\n",
            "\t- Avoid using `tokenizers` before the fork if possible\n",
            "\t- Explicitly set the environment variable TOKENIZERS_PARALLELISM=(true | false)\n",
            "huggingface/tokenizers: The current process just got forked, after parallelism has already been used. Disabling parallelism to avoid deadlocks...\n",
            "To disable this warning, you can either:\n",
            "\t- Avoid using `tokenizers` before the fork if possible\n",
            "\t- Explicitly set the environment variable TOKENIZERS_PARALLELISM=(true | false)\n",
            "huggingface/tokenizers: The current process just got forked, after parallelism has already been used. Disabling parallelism to avoid deadlocks...\n",
            "To disable this warning, you can either:\n",
            "\t- Avoid using `tokenizers` before the fork if possible\n",
            "\t- Explicitly set the environment variable TOKENIZERS_PARALLELISM=(true | false)\n",
            "huggingface/tokenizers: The current process just got forked, after parallelism has already been used. Disabling parallelism to avoid deadlocks...\n",
            "To disable this warning, you can either:\n",
            "\t- Avoid using `tokenizers` before the fork if possible\n",
            "\t- Explicitly set the environment variable TOKENIZERS_PARALLELISM=(true | false)\n",
            "huggingface/tokenizers: The current process just got forked, after parallelism has already been used. Disabling parallelism to avoid deadlocks...\n",
            "To disable this warning, you can either:\n",
            "\t- Avoid using `tokenizers` before the fork if possible\n",
            "\t- Explicitly set the environment variable TOKENIZERS_PARALLELISM=(true | false)\n",
            "huggingface/tokenizers: The current process just got forked, after parallelism has already been used. Disabling parallelism to avoid deadlocks...\n",
            "To disable this warning, you can either:\n",
            "\t- Avoid using `tokenizers` before the fork if possible\n",
            "\t- Explicitly set the environment variable TOKENIZERS_PARALLELISM=(true | false)\n",
            "huggingface/tokenizers: The current process just got forked, after parallelism has already been used. Disabling parallelism to avoid deadlocks...\n",
            "To disable this warning, you can either:\n",
            "\t- Avoid using `tokenizers` before the fork if possible\n",
            "\t- Explicitly set the environment variable TOKENIZERS_PARALLELISM=(true | false)\n",
            "huggingface/tokenizers: The current process just got forked, after parallelism has already been used. Disabling parallelism to avoid deadlocks...\n",
            "To disable this warning, you can either:\n",
            "\t- Avoid using `tokenizers` before the fork if possible\n",
            "\t- Explicitly set the environment variable TOKENIZERS_PARALLELISM=(true | false)\n",
            "100%|██████████| 6040/6040 [24:14<00:00,  4.15it/s]\n"
          ]
        },
        {
          "name": "stdout",
          "output_type": "stream",
          "text": [
            "The time elapse of epoch 005 is: 03: 51: 22\n",
            "HR: 0.976\tNDCG: 0.348\tMRR: 0.976\n"
          ]
        }
      ],
      "source": [
        "\n",
        "# train, evaluation\n",
        "best_hr = 0\n",
        "for epoch in range(1, 5+1):\n",
        "\tmodel.train() # Enable dropout (if have).\n",
        "\tstart_time = time.time()\n",
        "\n",
        "\tfor user, item, label, text in tqdm(train_loader, total=len(train_loader)):\n",
        "\t\tuser = user.to(device)\n",
        "\t\titem = item.to(device)\n",
        "\t\tlabel = label.to(device)\n",
        "\t\t# print(user.shape, item.shape, len(tokenization), len(masks), label.shape)\n",
        "\n",
        "\t\toptimizer.zero_grad()\n",
        "\t\tprediction = model(user, item, text)\n",
        "\t\tloss = loss_function(prediction, label)\n",
        "\t\tloss.backward()\n",
        "\t\toptimizer.step()\n",
        "\n",
        "\tmodel.eval()\n",
        "\tHR, NDCG, MRR, RECALL, PRECISION = metrics(model, test_loader, args.top_k, device, args.num_ng_test)\n",
        "\n",
        "\telapsed_time = time.time() - start_time\n",
        "\tprint(\"The time elapse of epoch {:03d}\".format(epoch) + \" is: \" +\n",
        "\t\t\ttime.strftime(\"%H: %M: %S\", time.gmtime(elapsed_time)))\n",
        "\tprint(\"HR: {:.3f}\\tNDCG: {:.3f}\\tMRR: {:.3f}\".format(np.mean(HR), np.mean(NDCG), np.mean(MRR)))\n",
        "\n",
        "\tif HR > best_hr:\n",
        "\t\tbest_hr, best_ndcg, best_mrr, best_epoch = HR, NDCG, MRR, epoch\n",
        "\t\tif args.out:\n",
        "\t\t\tif not os.path.exists(MODEL_PATH):\n",
        "\t\t\t\tos.mkdir(MODEL_PATH)\n",
        "\t\t\ttorch.save(model,\n",
        "\t\t\t\t'{}{}.pth'.format(MODEL_PATH, MODEL))\n",
        "\n",
        "writer.close()"
      ]
    },
    {
      "cell_type": "markdown",
      "metadata": {
        "id": "LbZRS25AhD_p"
      },
      "source": [
        "## Final Output"
      ]
    },
    {
      "cell_type": "code",
      "execution_count": 16,
      "metadata": {
        "colab": {
          "base_uri": "https://localhost:8080/"
        },
        "id": "fkiRJWeD_trR",
        "outputId": "54fd579b-ad12-42d4-e09e-28289496ee84"
      },
      "outputs": [
        {
          "ename": "IndexError",
          "evalue": "Replacement index 3 out of range for positional args tuple",
          "output_type": "error",
          "traceback": [
            "\u001b[0;31m---------------------------------------------------------------------------\u001b[0m",
            "\u001b[0;31mIndexError\u001b[0m                                Traceback (most recent call last)",
            "Cell \u001b[0;32mIn[16], line 1\u001b[0m\n\u001b[0;32m----> 1\u001b[0m \u001b[38;5;28mprint\u001b[39m(\u001b[38;5;124;43m\"\u001b[39;49m\u001b[38;5;124;43mBest epoch \u001b[39;49m\u001b[38;5;132;43;01m{:03d}\u001b[39;49;00m\u001b[38;5;124;43m: HR@10 = \u001b[39;49m\u001b[38;5;132;43;01m{:.3f}\u001b[39;49;00m\u001b[38;5;124;43m, NDCG@10 = \u001b[39;49m\u001b[38;5;132;43;01m{:.3f}\u001b[39;49;00m\u001b[38;5;124;43m, MRR@10 = \u001b[39;49m\u001b[38;5;132;43;01m{:.3f}\u001b[39;49;00m\u001b[38;5;124;43m\"\u001b[39;49m\u001b[38;5;241;43m.\u001b[39;49m\u001b[43mformat\u001b[49m\u001b[43m(\u001b[49m\n\u001b[1;32m      2\u001b[0m \u001b[43m\t\t\t\t\t\t\t\t\t\u001b[49m\u001b[43mbest_epoch\u001b[49m\u001b[43m,\u001b[49m\u001b[43m \u001b[49m\u001b[43mbest_hr\u001b[49m\u001b[43m,\u001b[49m\u001b[43m \u001b[49m\u001b[43mbest_ndcg\u001b[49m\u001b[43m)\u001b[49m)\n",
            "\u001b[0;31mIndexError\u001b[0m: Replacement index 3 out of range for positional args tuple"
          ]
        }
      ],
      "source": [
        "print(\"Best epoch {:03d}: HR@10 = {:.3f}, NDCG@10 = {:.3f}, MRR@10 = {:.3f}\".format(\n",
        "\t\t\t\t\t\t\t\t\tbest_epoch, best_hr, best_ndcg))"
      ]
    }
  ],
  "metadata": {
    "accelerator": "GPU",
    "colab": {
      "name": "2020-04-21-rec-algo-ncf-pytorch-pyy0715.ipynb",
      "provenance": []
    },
    "kernelspec": {
      "display_name": "Python 3",
      "name": "python3"
    },
    "language_info": {
      "codemirror_mode": {
        "name": "ipython",
        "version": 3
      },
      "file_extension": ".py",
      "mimetype": "text/x-python",
      "name": "python",
      "nbconvert_exporter": "python",
      "pygments_lexer": "ipython3",
      "version": "3.8.16"
    }
  },
  "nbformat": 4,
  "nbformat_minor": 0
}
