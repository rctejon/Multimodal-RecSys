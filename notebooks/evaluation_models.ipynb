{
  "cells": [
    {
      "cell_type": "code",
      "execution_count": 1,
      "metadata": {
        "colab": {
          "base_uri": "https://localhost:8080/",
          "height": 1000
        },
        "id": "-EsiEL80NDhj",
        "outputId": "8041ad56-89f7-48c8-b795-490cdb543d6e"
      },
      "outputs": [
        {
          "name": "stdout",
          "output_type": "stream",
          "text": [
            "Collecting turicreate\n",
            "  Downloading turicreate-6.4.1-cp38-cp38-manylinux1_x86_64.whl (92.0 MB)\n",
            "\u001b[2K     \u001b[90m━━━━━━━━━━━━━━━━━━━━━━━━━━━━━━━━━━━━━━━━\u001b[0m \u001b[32m92.0/92.0 MB\u001b[0m \u001b[31m3.7 MB/s\u001b[0m eta \u001b[36m0:00:00\u001b[0m00:01\u001b[0m00:01\u001b[0m\n",
            "\u001b[?25hCollecting numpy\n",
            "  Downloading numpy-1.24.4-cp38-cp38-manylinux_2_17_x86_64.manylinux2014_x86_64.whl (17.3 MB)\n",
            "\u001b[2K     \u001b[90m━━━━━━━━━━━━━━━━━━━━━━━━━━━━━━━━━━━━━━━━\u001b[0m \u001b[32m17.3/17.3 MB\u001b[0m \u001b[31m21.0 MB/s\u001b[0m eta \u001b[36m0:00:00\u001b[0m00:01\u001b[0m00:01\u001b[0m\n",
            "\u001b[?25hRequirement already satisfied: decorator>=4.0.9 in /home/rctejon/Documents/tesis/Multimodal-RecSys/venv38/lib/python3.8/site-packages (from turicreate) (5.1.1)\n",
            "Collecting numba<0.51.0\n",
            "  Downloading numba-0.50.1-cp38-cp38-manylinux2014_x86_64.whl (3.6 MB)\n",
            "\u001b[2K     \u001b[90m━━━━━━━━━━━━━━━━━━━━━━━━━━━━━━━━━━━━━━━━\u001b[0m \u001b[32m3.6/3.6 MB\u001b[0m \u001b[31m23.6 MB/s\u001b[0m eta \u001b[36m0:00:00\u001b[0m00:01\u001b[0m00:01\u001b[0m\n",
            "\u001b[?25hCollecting resampy==0.2.1\n",
            "  Downloading resampy-0.2.1.tar.gz (322 kB)\n",
            "\u001b[2K     \u001b[90m━━━━━━━━━━━━━━━━━━━━━━━━━━━━━━━━━━━━━━\u001b[0m \u001b[32m322.4/322.4 KB\u001b[0m \u001b[31m17.7 MB/s\u001b[0m eta \u001b[36m0:00:00\u001b[0m\n",
            "\u001b[?25h  Preparing metadata (setup.py) ... \u001b[?25ldone\n",
            "\u001b[?25hCollecting prettytable==0.7.2\n",
            "  Downloading prettytable-0.7.2.zip (28 kB)\n",
            "  Preparing metadata (setup.py) ... \u001b[?25ldone\n",
            "\u001b[?25hCollecting tensorflow>=2.0.0\n",
            "  Downloading tensorflow-2.13.1-cp38-cp38-manylinux_2_17_x86_64.manylinux2014_x86_64.whl (479.6 MB)\n",
            "\u001b[2K     \u001b[90m━━━━━━━━━━━━━━━━━━━━━━━━━━━━━━━━━━━━━━━\u001b[0m \u001b[32m479.6/479.6 MB\u001b[0m \u001b[31m4.9 MB/s\u001b[0m eta \u001b[36m0:00:00\u001b[0m00:01\u001b[0m00:01\u001b[0m\n",
            "\u001b[?25hCollecting pillow>=5.2.0\n",
            "  Downloading pillow-10.2.0-cp38-cp38-manylinux_2_28_x86_64.whl (4.5 MB)\n",
            "\u001b[2K     \u001b[90m━━━━━━━━━━━━━━━━━━━━━━━━━━━━━━━━━━━━━━━━\u001b[0m \u001b[32m4.5/4.5 MB\u001b[0m \u001b[31m32.2 MB/s\u001b[0m eta \u001b[36m0:00:00\u001b[0m00:01\u001b[0m00:01\u001b[0m\n",
            "\u001b[?25hCollecting coremltools==4.0b3\n",
            "  Downloading coremltools-4.0b3-py3-none-any.whl (4.6 MB)\n",
            "\u001b[2K     \u001b[90m━━━━━━━━━━━━━━━━━━━━━━━━━━━━━━━━━━━━━━━━\u001b[0m \u001b[32m4.6/4.6 MB\u001b[0m \u001b[31m15.6 MB/s\u001b[0m eta \u001b[36m0:00:00\u001b[0m00:01\u001b[0m00:01\u001b[0m\n",
            "\u001b[?25hRequirement already satisfied: six>=1.10.0 in /home/rctejon/Documents/tesis/Multimodal-RecSys/venv38/lib/python3.8/site-packages (from turicreate) (1.16.0)\n",
            "Collecting requests>=2.9.1\n",
            "  Downloading requests-2.31.0-py3-none-any.whl (62 kB)\n",
            "\u001b[2K     \u001b[90m━━━━━━━━━━━━━━━━━━━━━━━━━━━━━━━━━━━━━━━━\u001b[0m \u001b[32m62.6/62.6 KB\u001b[0m \u001b[31m1.8 MB/s\u001b[0m eta \u001b[36m0:00:00\u001b[0m\n",
            "\u001b[?25hCollecting scipy>=1.1.0\n",
            "  Downloading scipy-1.10.1-cp38-cp38-manylinux_2_17_x86_64.manylinux2014_x86_64.whl (34.5 MB)\n",
            "\u001b[2K     \u001b[90m━━━━━━━━━━━━━━━━━━━━━━━━━━━━━━━━━━━━━━━━\u001b[0m \u001b[32m34.5/34.5 MB\u001b[0m \u001b[31m20.7 MB/s\u001b[0m eta \u001b[36m0:00:00\u001b[0m00:01\u001b[0m00:01\u001b[0m\n",
            "\u001b[?25hCollecting pandas>=0.23.2\n",
            "  Downloading pandas-2.0.3-cp38-cp38-manylinux_2_17_x86_64.manylinux2014_x86_64.whl (12.4 MB)\n",
            "\u001b[2K     \u001b[90m━━━━━━━━━━━━━━━━━━━━━━━━━━━━━━━━━━━━━━━━\u001b[0m \u001b[32m12.4/12.4 MB\u001b[0m \u001b[31m26.7 MB/s\u001b[0m eta \u001b[36m0:00:00\u001b[0m00:01\u001b[0m00:01\u001b[0m\n",
            "\u001b[?25hCollecting tqdm\n",
            "  Downloading tqdm-4.66.2-py3-none-any.whl (78 kB)\n",
            "\u001b[2K     \u001b[90m━━━━━━━━━━━━━━━━━━━━━━━━━━━━━━━━━━━━━━━━\u001b[0m \u001b[32m78.3/78.3 KB\u001b[0m \u001b[31m13.5 MB/s\u001b[0m eta \u001b[36m0:00:00\u001b[0m\n",
            "\u001b[?25hCollecting protobuf>=3.1.0\n",
            "  Downloading protobuf-4.25.3-cp37-abi3-manylinux2014_x86_64.whl (294 kB)\n",
            "\u001b[2K     \u001b[90m━━━━━━━━━━━━━━━━━━━━━━━━━━━━━━━━━━━━━━\u001b[0m \u001b[32m294.6/294.6 KB\u001b[0m \u001b[31m19.9 MB/s\u001b[0m eta \u001b[36m0:00:00\u001b[0m\n",
            "\u001b[?25hCollecting attr\n",
            "  Downloading attr-0.3.2-py2.py3-none-any.whl (3.3 kB)\n",
            "Collecting sympy\n",
            "  Downloading sympy-1.12-py3-none-any.whl (5.7 MB)\n",
            "\u001b[2K     \u001b[90m━━━━━━━━━━━━━━━━━━━━━━━━━━━━━━━━━━━━━━━━\u001b[0m \u001b[32m5.7/5.7 MB\u001b[0m \u001b[31m25.9 MB/s\u001b[0m eta \u001b[36m0:00:00\u001b[0m00:01\u001b[0m00:01\u001b[0m\n",
            "\u001b[?25h\u001b[33mWARNING: Retrying (Retry(total=4, connect=None, read=None, redirect=None, status=None)) after connection broken by 'ReadTimeoutError(\"HTTPSConnectionPool(host='pypi.org', port=443): Read timed out. (read timeout=15)\")': /simple/attrs/\u001b[0m\u001b[33m\n",
            "\u001b[0mCollecting attrs\n",
            "  Downloading attrs-23.2.0-py3-none-any.whl (60 kB)\n",
            "\u001b[2K     \u001b[90m━━━━━━━━━━━━━━━━━━━━━━━━━━━━━━━━━━━━━━━━\u001b[0m \u001b[32m60.8/60.8 KB\u001b[0m \u001b[31m8.9 MB/s\u001b[0m eta \u001b[36m0:00:00\u001b[0m\n",
            "\u001b[?25hRequirement already satisfied: setuptools in /home/rctejon/Documents/tesis/Multimodal-RecSys/venv38/lib/python3.8/site-packages (from numba<0.51.0->turicreate) (56.0.0)\n",
            "Collecting llvmlite<0.34,>=0.33.0.dev0\n",
            "  Downloading llvmlite-0.33.0-cp38-cp38-manylinux1_x86_64.whl (18.3 MB)\n",
            "\u001b[2K     \u001b[90m━━━━━━━━━━━━━━━━━━━━━━━━━━━━━━━━━━━━━━━━\u001b[0m \u001b[32m18.3/18.3 MB\u001b[0m \u001b[31m6.2 MB/s\u001b[0m eta \u001b[36m0:00:00\u001b[0m00:01\u001b[0m00:01\u001b[0m\n",
            "\u001b[?25hCollecting pytz>=2020.1\n",
            "  Downloading pytz-2024.1-py2.py3-none-any.whl (505 kB)\n",
            "\u001b[2K     \u001b[90m━━━━━━━━━━━━━━━━━━━━━━━━━━━━━━━━━━━━━━\u001b[0m \u001b[32m505.5/505.5 KB\u001b[0m \u001b[31m25.2 MB/s\u001b[0m eta \u001b[36m0:00:00\u001b[0m\n",
            "\u001b[?25hCollecting tzdata>=2022.1\n",
            "  Downloading tzdata-2024.1-py2.py3-none-any.whl (345 kB)\n",
            "\u001b[2K     \u001b[90m━━━━━━━━━━━━━━━━━━━━━━━━━━━━━━━━━━━━━━\u001b[0m \u001b[32m345.4/345.4 KB\u001b[0m \u001b[31m23.5 MB/s\u001b[0m eta \u001b[36m0:00:00\u001b[0m\n",
            "\u001b[?25hRequirement already satisfied: python-dateutil>=2.8.2 in /home/rctejon/Documents/tesis/Multimodal-RecSys/venv38/lib/python3.8/site-packages (from pandas>=0.23.2->turicreate) (2.9.0.post0)\n",
            "Collecting certifi>=2017.4.17\n",
            "  Downloading certifi-2024.2.2-py3-none-any.whl (163 kB)\n",
            "\u001b[2K     \u001b[90m━━━━━━━━━━━━━━━━━━━━━━━━━━━━━━━━━━━━━━\u001b[0m \u001b[32m163.8/163.8 KB\u001b[0m \u001b[31m26.1 MB/s\u001b[0m eta \u001b[36m0:00:00\u001b[0m\n",
            "\u001b[?25hCollecting idna<4,>=2.5\n",
            "  Downloading idna-3.6-py3-none-any.whl (61 kB)\n",
            "\u001b[2K     \u001b[90m━━━━━━━━━━━━━━━━━━━━━━━━━━━━━━━━━━━━━━━━\u001b[0m \u001b[32m61.6/61.6 KB\u001b[0m \u001b[31m9.7 MB/s\u001b[0m eta \u001b[36m0:00:00\u001b[0m\n",
            "\u001b[?25hCollecting urllib3<3,>=1.21.1\n",
            "  Downloading urllib3-2.2.1-py3-none-any.whl (121 kB)\n",
            "\u001b[2K     \u001b[90m━━━━━━━━━━━━━━━━━━━━━━━━━━━━━━━━━━━━━━\u001b[0m \u001b[32m121.1/121.1 KB\u001b[0m \u001b[31m16.2 MB/s\u001b[0m eta \u001b[36m0:00:00\u001b[0m\n",
            "\u001b[?25hCollecting charset-normalizer<4,>=2\n",
            "  Downloading charset_normalizer-3.3.2-cp38-cp38-manylinux_2_17_x86_64.manylinux2014_x86_64.whl (141 kB)\n",
            "\u001b[2K     \u001b[90m━━━━━━━━━━━━━━━━━━━━━━━━━━━━━━━━━━━━━━\u001b[0m \u001b[32m141.1/141.1 KB\u001b[0m \u001b[31m13.8 MB/s\u001b[0m eta \u001b[36m0:00:00\u001b[0m\n",
            "\u001b[?25hCollecting tensorflow-io-gcs-filesystem>=0.23.1\n",
            "  Downloading tensorflow_io_gcs_filesystem-0.34.0-cp38-cp38-manylinux_2_12_x86_64.manylinux2010_x86_64.whl (2.4 MB)\n",
            "\u001b[2K     \u001b[90m━━━━━━━━━━━━━━━━━━━━━━━━━━━━━━━━━━━━━━━━\u001b[0m \u001b[32m2.4/2.4 MB\u001b[0m \u001b[31m7.6 MB/s\u001b[0m eta \u001b[36m0:00:00\u001b[0ma \u001b[36m0:00:01\u001b[0mm\n",
            "\u001b[?25hCollecting opt-einsum>=2.3.2\n",
            "  Downloading opt_einsum-3.3.0-py3-none-any.whl (65 kB)\n",
            "\u001b[2K     \u001b[90m━━━━━━━━━━━━━━━━━━━━━━━━━━━━━━━━━━━━━━━━\u001b[0m \u001b[32m65.5/65.5 KB\u001b[0m \u001b[31m10.2 MB/s\u001b[0m eta \u001b[36m0:00:00\u001b[0m\n",
            "\u001b[?25hCollecting google-pasta>=0.1.1\n",
            "  Downloading google_pasta-0.2.0-py3-none-any.whl (57 kB)\n",
            "\u001b[2K     \u001b[90m━━━━━━━━━━━━━━━━━━━━━━━━━━━━━━━━━━━━━━━━\u001b[0m \u001b[32m57.5/57.5 KB\u001b[0m \u001b[31m9.0 MB/s\u001b[0m eta \u001b[36m0:00:00\u001b[0m\n",
            "\u001b[?25hRequirement already satisfied: packaging in /home/rctejon/Documents/tesis/Multimodal-RecSys/venv38/lib/python3.8/site-packages (from tensorflow>=2.0.0->turicreate) (24.0)\n",
            "Collecting astunparse>=1.6.0\n",
            "  Downloading astunparse-1.6.3-py2.py3-none-any.whl (12 kB)\n",
            "Collecting grpcio<2.0,>=1.24.3\n",
            "  Downloading grpcio-1.62.1-cp38-cp38-manylinux_2_17_x86_64.manylinux2014_x86_64.whl (5.6 MB)\n",
            "\u001b[2K     \u001b[90m━━━━━━━━━━━━━━━━━━━━━━━━━━━━━━━━━━━━━━━━\u001b[0m \u001b[32m5.6/5.6 MB\u001b[0m \u001b[31m25.4 MB/s\u001b[0m eta \u001b[36m0:00:00\u001b[0m00:01\u001b[0m00:01\u001b[0m\n",
            "\u001b[?25hCollecting keras<2.14,>=2.13.1\n",
            "  Downloading keras-2.13.1-py3-none-any.whl (1.7 MB)\n",
            "\u001b[2K     \u001b[90m━━━━━━━━━━━━━━━━━━━━━━━━━━━━━━━━━━━━━━━━\u001b[0m \u001b[32m1.7/1.7 MB\u001b[0m \u001b[31m63.8 MB/s\u001b[0m eta \u001b[36m0:00:00\u001b[0m\n",
            "\u001b[?25hCollecting absl-py>=1.0.0\n",
            "  Downloading absl_py-2.1.0-py3-none-any.whl (133 kB)\n",
            "\u001b[2K     \u001b[90m━━━━━━━━━━━━━━━━━━━━━━━━━━━━━━━━━━━━━━\u001b[0m \u001b[32m133.7/133.7 KB\u001b[0m \u001b[31m11.8 MB/s\u001b[0m eta \u001b[36m0:00:00\u001b[0m\n",
            "\u001b[?25hCollecting wrapt>=1.11.0\n",
            "  Downloading wrapt-1.16.0-cp38-cp38-manylinux_2_5_x86_64.manylinux1_x86_64.manylinux_2_17_x86_64.manylinux2014_x86_64.whl (83 kB)\n",
            "\u001b[2K     \u001b[90m━━━━━━━━━━━━━━━━━━━━━━━━━━━━━━━━━━━━━━━━\u001b[0m \u001b[32m83.4/83.4 KB\u001b[0m \u001b[31m7.6 MB/s\u001b[0m eta \u001b[36m0:00:00\u001b[0m\n",
            "\u001b[?25hCollecting gast<=0.4.0,>=0.2.1\n",
            "  Downloading gast-0.4.0-py3-none-any.whl (9.8 kB)\n",
            "Collecting tensorflow-estimator<2.14,>=2.13.0\n",
            "  Downloading tensorflow_estimator-2.13.0-py2.py3-none-any.whl (440 kB)\n",
            "\u001b[2K     \u001b[90m━━━━━━━━━━━━━━━━━━━━━━━━━━━━━━━━━━━━━━\u001b[0m \u001b[32m440.8/440.8 KB\u001b[0m \u001b[31m27.6 MB/s\u001b[0m eta \u001b[36m0:00:00\u001b[0m\n",
            "\u001b[?25hCollecting h5py>=2.9.0\n",
            "  Downloading h5py-3.10.0-cp38-cp38-manylinux_2_17_x86_64.manylinux2014_x86_64.whl (4.8 MB)\n",
            "\u001b[2K     \u001b[90m━━━━━━━━━━━━━━━━━━━━━━━━━━━━━━━━━━━━━━━━\u001b[0m \u001b[32m4.8/4.8 MB\u001b[0m \u001b[31m8.1 MB/s\u001b[0m eta \u001b[36m0:00:00\u001b[0m00:01\u001b[0m00:01\u001b[0mm\n",
            "\u001b[?25hCollecting numpy\n",
            "  Downloading numpy-1.24.3-cp38-cp38-manylinux_2_17_x86_64.manylinux2014_x86_64.whl (17.3 MB)\n",
            "\u001b[2K     \u001b[90m━━━━━━━━━━━━━━━━━━━━━━━━━━━━━━━━━━━━━━━━\u001b[0m \u001b[32m17.3/17.3 MB\u001b[0m \u001b[31m14.6 MB/s\u001b[0m eta \u001b[36m0:00:00\u001b[0m00:01\u001b[0m00:01\u001b[0m\n",
            "\u001b[?25hCollecting tensorboard<2.14,>=2.13\n",
            "  Downloading tensorboard-2.13.0-py3-none-any.whl (5.6 MB)\n",
            "\u001b[2K     \u001b[90m━━━━━━━━━━━━━━━━━━━━━━━━━━━━━━━━━━━━━━━━\u001b[0m \u001b[32m5.6/5.6 MB\u001b[0m \u001b[31m24.6 MB/s\u001b[0m eta \u001b[36m0:00:00\u001b[0m00:01\u001b[0m00:01\u001b[0m\n",
            "\u001b[?25h\u001b[33mWARNING: Retrying (Retry(total=4, connect=None, read=None, redirect=None, status=None)) after connection broken by 'ReadTimeoutError(\"HTTPSConnectionPool(host='pypi.org', port=443): Read timed out. (read timeout=15)\")': /simple/flatbuffers/\u001b[0m\u001b[33m\n",
            "\u001b[0mCollecting flatbuffers>=23.1.21\n",
            "  Downloading flatbuffers-24.3.7-py2.py3-none-any.whl (26 kB)\n",
            "Collecting libclang>=13.0.0\n",
            "  Downloading libclang-16.0.6-py2.py3-none-manylinux2010_x86_64.whl (22.9 MB)\n",
            "\u001b[2K     \u001b[90m━━━━━━━━━━━━━━━━━━━━━━━━━━━━━━━━━━━━━━━━\u001b[0m \u001b[32m22.9/22.9 MB\u001b[0m \u001b[31m23.8 MB/s\u001b[0m eta \u001b[36m0:00:00\u001b[0m00:01\u001b[0m00:01\u001b[0m\n",
            "\u001b[?25hCollecting typing-extensions<4.6.0,>=3.6.6\n",
            "  Downloading typing_extensions-4.5.0-py3-none-any.whl (27 kB)\n",
            "Collecting termcolor>=1.1.0\n",
            "  Downloading termcolor-2.4.0-py3-none-any.whl (7.7 kB)\n",
            "Collecting wheel<1.0,>=0.23.0\n",
            "  Downloading wheel-0.42.0-py3-none-any.whl (65 kB)\n",
            "\u001b[2K     \u001b[90m━━━━━━━━━━━━━━━━━━━━━━━━━━━━━━━━━━━━━━━━\u001b[0m \u001b[32m65.4/65.4 KB\u001b[0m \u001b[31m10.8 MB/s\u001b[0m eta \u001b[36m0:00:00\u001b[0m\n",
            "\u001b[?25hCollecting google-auth<3,>=1.6.3\n",
            "  Downloading google_auth-2.28.2-py2.py3-none-any.whl (186 kB)\n",
            "\u001b[2K     \u001b[90m━━━━━━━━━━━━━━━━━━━━━━━━━━━━━━━━━━━━━━\u001b[0m \u001b[32m186.9/186.9 KB\u001b[0m \u001b[31m13.7 MB/s\u001b[0m eta \u001b[36m0:00:00\u001b[0m\n",
            "\u001b[?25hCollecting werkzeug>=1.0.1\n",
            "  Downloading werkzeug-3.0.1-py3-none-any.whl (226 kB)\n",
            "\u001b[2K     \u001b[90m━━━━━━━━━━━━━━━━━━━━━━━━━━━━━━━━━━━━━━\u001b[0m \u001b[32m226.7/226.7 KB\u001b[0m \u001b[31m24.1 MB/s\u001b[0m eta \u001b[36m0:00:00\u001b[0m\n",
            "\u001b[?25hCollecting google-auth-oauthlib<1.1,>=0.5\n",
            "  Downloading google_auth_oauthlib-1.0.0-py2.py3-none-any.whl (18 kB)\n",
            "Collecting markdown>=2.6.8\n",
            "  Downloading Markdown-3.5.2-py3-none-any.whl (103 kB)\n",
            "\u001b[2K     \u001b[90m━━━━━━━━━━━━━━━━━━━━━━━━━━━━━━━━━━━━━━\u001b[0m \u001b[32m103.9/103.9 KB\u001b[0m \u001b[31m15.2 MB/s\u001b[0m eta \u001b[36m0:00:00\u001b[0m\n",
            "\u001b[?25hCollecting tensorboard-data-server<0.8.0,>=0.7.0\n",
            "  Downloading tensorboard_data_server-0.7.2-py3-none-manylinux_2_31_x86_64.whl (6.6 MB)\n",
            "\u001b[2K     \u001b[90m━━━━━━━━━━━━━━━━━━━━━━━━━━━━━━━━━━━━━━━━\u001b[0m \u001b[32m6.6/6.6 MB\u001b[0m \u001b[31m27.2 MB/s\u001b[0m eta \u001b[36m0:00:00\u001b[0ma \u001b[36m0:00:01\u001b[0m\n",
            "\u001b[?25hCollecting mpmath>=0.19\n",
            "  Downloading mpmath-1.3.0-py3-none-any.whl (536 kB)\n",
            "\u001b[2K     \u001b[90m━━━━━━━━━━━━━━━━━━━━━━━━━━━━━━━━━━━━━━\u001b[0m \u001b[32m536.2/536.2 KB\u001b[0m \u001b[31m27.8 MB/s\u001b[0m eta \u001b[36m0:00:00\u001b[0m\n",
            "\u001b[?25hCollecting rsa<5,>=3.1.4\n",
            "  Downloading rsa-4.9-py3-none-any.whl (34 kB)\n",
            "Collecting pyasn1-modules>=0.2.1\n",
            "  Downloading pyasn1_modules-0.3.0-py2.py3-none-any.whl (181 kB)\n",
            "\u001b[2K     \u001b[90m━━━━━━━━━━━━━━━━━━━━━━━━━━━━━━━━━━━━━━\u001b[0m \u001b[32m181.3/181.3 KB\u001b[0m \u001b[31m24.3 MB/s\u001b[0m eta \u001b[36m0:00:00\u001b[0m\n",
            "\u001b[?25hCollecting cachetools<6.0,>=2.0.0\n",
            "  Downloading cachetools-5.3.3-py3-none-any.whl (9.3 kB)\n",
            "Collecting requests-oauthlib>=0.7.0\n",
            "  Downloading requests_oauthlib-1.3.1-py2.py3-none-any.whl (23 kB)\n",
            "Requirement already satisfied: importlib-metadata>=4.4 in /home/rctejon/Documents/tesis/Multimodal-RecSys/venv38/lib/python3.8/site-packages (from markdown>=2.6.8->tensorboard<2.14,>=2.13->tensorflow>=2.0.0->turicreate) (7.0.2)\n",
            "Collecting MarkupSafe>=2.1.1\n",
            "  Downloading MarkupSafe-2.1.5-cp38-cp38-manylinux_2_17_x86_64.manylinux2014_x86_64.whl (26 kB)\n",
            "Requirement already satisfied: zipp>=0.5 in /home/rctejon/Documents/tesis/Multimodal-RecSys/venv38/lib/python3.8/site-packages (from importlib-metadata>=4.4->markdown>=2.6.8->tensorboard<2.14,>=2.13->tensorflow>=2.0.0->turicreate) (3.17.0)\n",
            "Collecting pyasn1<0.6.0,>=0.4.6\n",
            "  Downloading pyasn1-0.5.1-py2.py3-none-any.whl (84 kB)\n",
            "\u001b[2K     \u001b[90m━━━━━━━━━━━━━━━━━━━━━━━━━━━━━━━━━━━━━━━━\u001b[0m \u001b[32m84.9/84.9 KB\u001b[0m \u001b[31m14.3 MB/s\u001b[0m eta \u001b[36m0:00:00\u001b[0m\n",
            "\u001b[?25hCollecting oauthlib>=3.0.0\n",
            "  Downloading oauthlib-3.2.2-py3-none-any.whl (151 kB)\n",
            "\u001b[2K     \u001b[90m━━━━━━━━━━━━━━━━━━━━━━━━━━━━━━━━━━━━━━━\u001b[0m \u001b[32m151.7/151.7 KB\u001b[0m \u001b[31m9.0 MB/s\u001b[0m eta \u001b[36m0:00:00\u001b[0m\n",
            "\u001b[?25hUsing legacy 'setup.py install' for prettytable, since package 'wheel' is not installed.\n",
            "Using legacy 'setup.py install' for resampy, since package 'wheel' is not installed.\n",
            "Installing collected packages: pytz, prettytable, mpmath, libclang, flatbuffers, attr, wrapt, wheel, urllib3, tzdata, typing-extensions, tqdm, termcolor, tensorflow-io-gcs-filesystem, tensorflow-estimator, tensorboard-data-server, sympy, pyasn1, protobuf, pillow, oauthlib, numpy, MarkupSafe, llvmlite, keras, idna, grpcio, google-pasta, gast, charset-normalizer, certifi, cachetools, attrs, absl-py, werkzeug, scipy, rsa, requests, pyasn1-modules, pandas, opt-einsum, numba, markdown, h5py, astunparse, resampy, requests-oauthlib, google-auth, coremltools, google-auth-oauthlib, tensorboard, tensorflow, turicreate\n",
            "  Running setup.py install for prettytable ... \u001b[?25ldone\n",
            "\u001b[?25h  Attempting uninstall: typing-extensions\n",
            "    Found existing installation: typing_extensions 4.10.0\n",
            "    Uninstalling typing_extensions-4.10.0:\n",
            "      Successfully uninstalled typing_extensions-4.10.0\n",
            "  Running setup.py install for resampy ... \u001b[?25ldone\n",
            "\u001b[?25hSuccessfully installed MarkupSafe-2.1.5 absl-py-2.1.0 astunparse-1.6.3 attr-0.3.2 attrs-23.2.0 cachetools-5.3.3 certifi-2024.2.2 charset-normalizer-3.3.2 coremltools-4.0b3 flatbuffers-24.3.7 gast-0.4.0 google-auth-2.28.2 google-auth-oauthlib-1.0.0 google-pasta-0.2.0 grpcio-1.62.1 h5py-3.10.0 idna-3.6 keras-2.13.1 libclang-16.0.6 llvmlite-0.33.0 markdown-3.5.2 mpmath-1.3.0 numba-0.50.1 numpy-1.24.3 oauthlib-3.2.2 opt-einsum-3.3.0 pandas-2.0.3 pillow-10.2.0 prettytable-0.7.2 protobuf-4.25.3 pyasn1-0.5.1 pyasn1-modules-0.3.0 pytz-2024.1 requests-2.31.0 requests-oauthlib-1.3.1 resampy-0.2.1 rsa-4.9 scipy-1.10.1 sympy-1.12 tensorboard-2.13.0 tensorboard-data-server-0.7.2 tensorflow-2.13.1 tensorflow-estimator-2.13.0 tensorflow-io-gcs-filesystem-0.34.0 termcolor-2.4.0 tqdm-4.66.2 turicreate-6.4.1 typing-extensions-4.5.0 tzdata-2024.1 urllib3-2.2.1 werkzeug-3.0.1 wheel-0.42.0 wrapt-1.16.0\n",
            "\u001b[33mWARNING: You are using pip version 22.0.4; however, version 24.0 is available.\n",
            "You should consider upgrading via the '/home/rctejon/Documents/tesis/Multimodal-RecSys/venv38/bin/python3.8 -m pip install --upgrade pip' command.\u001b[0m\u001b[33m\n",
            "\u001b[0m"
          ]
        }
      ],
      "source": [
        "%pip install turicreate"
      ]
    },
    {
      "cell_type": "code",
      "execution_count": 2,
      "metadata": {
        "id": "DG8CpbAoMrcQ"
      },
      "outputs": [],
      "source": [
        "import turicreate as tc\n",
        "import pandas as pd\n",
        "import numpy as np\n",
        "import pickle"
      ]
    },
    {
      "cell_type": "markdown",
      "metadata": {
        "id": "uZtQcQvxMrcS"
      },
      "source": [
        "## Load testing data an train data"
      ]
    },
    {
      "cell_type": "code",
      "execution_count": 3,
      "metadata": {
        "id": "SSE7udHxMrcT"
      },
      "outputs": [],
      "source": [
        "train_df = pd.read_feather(\"../data/MOOCCubeX/train_ratings.feather\")\n",
        "test_df = pd.read_feather(\"../data/MOOCCubeX/test_ratings.feather\")"
      ]
    },
    {
      "cell_type": "code",
      "execution_count": 4,
      "metadata": {
        "colab": {
          "base_uri": "https://localhost:8080/",
          "height": 206
        },
        "id": "xkLikR7fMrcU",
        "outputId": "d91e6c7b-420d-4033-91f8-1534e3be3f71"
      },
      "outputs": [
        {
          "data": {
            "text/html": [
              "<div>\n",
              "<style scoped>\n",
              "    .dataframe tbody tr th:only-of-type {\n",
              "        vertical-align: middle;\n",
              "    }\n",
              "\n",
              "    .dataframe tbody tr th {\n",
              "        vertical-align: top;\n",
              "    }\n",
              "\n",
              "    .dataframe thead th {\n",
              "        text-align: right;\n",
              "    }\n",
              "</style>\n",
              "<table border=\"1\" class=\"dataframe\">\n",
              "  <thead>\n",
              "    <tr style=\"text-align: right;\">\n",
              "      <th></th>\n",
              "      <th>user</th>\n",
              "      <th>course</th>\n",
              "      <th>rating</th>\n",
              "    </tr>\n",
              "  </thead>\n",
              "  <tbody>\n",
              "    <tr>\n",
              "      <th>0</th>\n",
              "      <td>U_2452</td>\n",
              "      <td>C_697684</td>\n",
              "      <td>1.805788</td>\n",
              "    </tr>\n",
              "    <tr>\n",
              "      <th>1</th>\n",
              "      <td>U_6286</td>\n",
              "      <td>C_1886678</td>\n",
              "      <td>0.962250</td>\n",
              "    </tr>\n",
              "    <tr>\n",
              "      <th>2</th>\n",
              "      <td>U_11731</td>\n",
              "      <td>C_1997524</td>\n",
              "      <td>2.192645</td>\n",
              "    </tr>\n",
              "    <tr>\n",
              "      <th>3</th>\n",
              "      <td>U_24067</td>\n",
              "      <td>C_1646044</td>\n",
              "      <td>2.540003</td>\n",
              "    </tr>\n",
              "    <tr>\n",
              "      <th>4</th>\n",
              "      <td>U_24067</td>\n",
              "      <td>C_2316355</td>\n",
              "      <td>3.810004</td>\n",
              "    </tr>\n",
              "  </tbody>\n",
              "</table>\n",
              "</div>"
            ],
            "text/plain": [
              "      user     course    rating\n",
              "0   U_2452   C_697684  1.805788\n",
              "1   U_6286  C_1886678  0.962250\n",
              "2  U_11731  C_1997524  2.192645\n",
              "3  U_24067  C_1646044  2.540003\n",
              "4  U_24067  C_2316355  3.810004"
            ]
          },
          "execution_count": 4,
          "metadata": {},
          "output_type": "execute_result"
        }
      ],
      "source": [
        "train_df.head()"
      ]
    },
    {
      "cell_type": "code",
      "execution_count": 5,
      "metadata": {
        "colab": {
          "base_uri": "https://localhost:8080/",
          "height": 206
        },
        "id": "Tm3yNiWGMrcU",
        "outputId": "e72529f0-74d1-4400-88f4-0c54c0967d60"
      },
      "outputs": [
        {
          "data": {
            "text/html": [
              "<div>\n",
              "<style scoped>\n",
              "    .dataframe tbody tr th:only-of-type {\n",
              "        vertical-align: middle;\n",
              "    }\n",
              "\n",
              "    .dataframe tbody tr th {\n",
              "        vertical-align: top;\n",
              "    }\n",
              "\n",
              "    .dataframe thead th {\n",
              "        text-align: right;\n",
              "    }\n",
              "</style>\n",
              "<table border=\"1\" class=\"dataframe\">\n",
              "  <thead>\n",
              "    <tr style=\"text-align: right;\">\n",
              "      <th></th>\n",
              "      <th>user</th>\n",
              "      <th>course</th>\n",
              "      <th>rating</th>\n",
              "    </tr>\n",
              "  </thead>\n",
              "  <tbody>\n",
              "    <tr>\n",
              "      <th>0</th>\n",
              "      <td>U_2452</td>\n",
              "      <td>C_2059297</td>\n",
              "      <td>1.091089</td>\n",
              "    </tr>\n",
              "    <tr>\n",
              "      <th>1</th>\n",
              "      <td>U_6286</td>\n",
              "      <td>C_1842789</td>\n",
              "      <td>4.264014</td>\n",
              "    </tr>\n",
              "    <tr>\n",
              "      <th>2</th>\n",
              "      <td>U_11731</td>\n",
              "      <td>C_1811739</td>\n",
              "      <td>1.336306</td>\n",
              "    </tr>\n",
              "    <tr>\n",
              "      <th>3</th>\n",
              "      <td>U_24067</td>\n",
              "      <td>C_948101</td>\n",
              "      <td>0.762493</td>\n",
              "    </tr>\n",
              "    <tr>\n",
              "      <th>4</th>\n",
              "      <td>U_24277</td>\n",
              "      <td>C_1732839</td>\n",
              "      <td>0.816497</td>\n",
              "    </tr>\n",
              "  </tbody>\n",
              "</table>\n",
              "</div>"
            ],
            "text/plain": [
              "      user     course    rating\n",
              "0   U_2452  C_2059297  1.091089\n",
              "1   U_6286  C_1842789  4.264014\n",
              "2  U_11731  C_1811739  1.336306\n",
              "3  U_24067   C_948101  0.762493\n",
              "4  U_24277  C_1732839  0.816497"
            ]
          },
          "execution_count": 5,
          "metadata": {},
          "output_type": "execute_result"
        }
      ],
      "source": [
        "test_df.head()"
      ]
    },
    {
      "cell_type": "markdown",
      "metadata": {
        "id": "MJVoTVsfMrcW"
      },
      "source": [
        "## Train CF Model"
      ]
    },
    {
      "cell_type": "code",
      "execution_count": 12,
      "metadata": {
        "id": "Q-6zdCQyMrcW"
      },
      "outputs": [],
      "source": [
        "train_data = tc.load_sframe(train_df)  # Data needs to be converted to SFrame format"
      ]
    },
    {
      "cell_type": "code",
      "execution_count": 14,
      "metadata": {
        "id": "c9IcETzQMrcW"
      },
      "outputs": [],
      "source": [
        "def create_model_by_field(field_name, model_name):\n",
        "    model = None\n",
        "    if model_name == \"SVG\":\n",
        "        model = tc.ranking_factorization_recommender.create(train_data, user_id='user', item_id='course', target=field_name)\n",
        "        model = model.recommend(users=train_df[\"user\"].unique().tolist(), k = 5).to_dataframe()\n",
        "        \n",
        "    else:\n",
        "        model = tc.factorization_recommender.create(train_data, user_id='user', item_id='course', target=field_name)\n",
        "        model = model.recommend(users=train_df[\"user\"].unique().tolist(), k = 5).to_dataframe()        \n",
        "    return model"
      ]
    },
    {
      "cell_type": "code",
      "execution_count": 15,
      "metadata": {
        "colab": {
          "base_uri": "https://localhost:8080/",
          "height": 1000
        },
        "id": "ksThplpVa4qZ",
        "outputId": "75cfd8f2-ccfb-4fdb-ba86-951b82afdc7d"
      },
      "outputs": [
        {
          "data": {
            "text/html": [
              "<pre>Preparing data set.</pre>"
            ],
            "text/plain": [
              "Preparing data set."
            ]
          },
          "metadata": {},
          "output_type": "display_data"
        },
        {
          "data": {
            "text/html": [
              "<pre>    Data has 5476 observations with 4109 users and 952 items.</pre>"
            ],
            "text/plain": [
              "    Data has 5476 observations with 4109 users and 952 items."
            ]
          },
          "metadata": {},
          "output_type": "display_data"
        },
        {
          "data": {
            "text/html": [
              "<pre>    Data prepared in: 0.012565s</pre>"
            ],
            "text/plain": [
              "    Data prepared in: 0.012565s"
            ]
          },
          "metadata": {},
          "output_type": "display_data"
        },
        {
          "data": {
            "text/html": [
              "<pre>Training ranking_factorization_recommender for recommendations.</pre>"
            ],
            "text/plain": [
              "Training ranking_factorization_recommender for recommendations."
            ]
          },
          "metadata": {},
          "output_type": "display_data"
        },
        {
          "data": {
            "text/html": [
              "<pre>+--------------------------------+--------------------------------------------------+----------+</pre>"
            ],
            "text/plain": [
              "+--------------------------------+--------------------------------------------------+----------+"
            ]
          },
          "metadata": {},
          "output_type": "display_data"
        },
        {
          "data": {
            "text/html": [
              "<pre>| Parameter                      | Description                                      | Value    |</pre>"
            ],
            "text/plain": [
              "| Parameter                      | Description                                      | Value    |"
            ]
          },
          "metadata": {},
          "output_type": "display_data"
        },
        {
          "data": {
            "text/html": [
              "<pre>+--------------------------------+--------------------------------------------------+----------+</pre>"
            ],
            "text/plain": [
              "+--------------------------------+--------------------------------------------------+----------+"
            ]
          },
          "metadata": {},
          "output_type": "display_data"
        },
        {
          "data": {
            "text/html": [
              "<pre>| num_factors                    | Factor Dimension                                 | 32       |</pre>"
            ],
            "text/plain": [
              "| num_factors                    | Factor Dimension                                 | 32       |"
            ]
          },
          "metadata": {},
          "output_type": "display_data"
        },
        {
          "data": {
            "text/html": [
              "<pre>| regularization                 | L2 Regularization on Factors                     | 1e-09    |</pre>"
            ],
            "text/plain": [
              "| regularization                 | L2 Regularization on Factors                     | 1e-09    |"
            ]
          },
          "metadata": {},
          "output_type": "display_data"
        },
        {
          "data": {
            "text/html": [
              "<pre>| solver                         | Solver used for training                         | sgd      |</pre>"
            ],
            "text/plain": [
              "| solver                         | Solver used for training                         | sgd      |"
            ]
          },
          "metadata": {},
          "output_type": "display_data"
        },
        {
          "data": {
            "text/html": [
              "<pre>| linear_regularization          | L2 Regularization on Linear Coefficients         | 1e-09    |</pre>"
            ],
            "text/plain": [
              "| linear_regularization          | L2 Regularization on Linear Coefficients         | 1e-09    |"
            ]
          },
          "metadata": {},
          "output_type": "display_data"
        },
        {
          "data": {
            "text/html": [
              "<pre>| ranking_regularization         | Rank-based Regularization Weight                 | 0.25     |</pre>"
            ],
            "text/plain": [
              "| ranking_regularization         | Rank-based Regularization Weight                 | 0.25     |"
            ]
          },
          "metadata": {},
          "output_type": "display_data"
        },
        {
          "data": {
            "text/html": [
              "<pre>| max_iterations                 | Maximum Number of Iterations                     | 25       |</pre>"
            ],
            "text/plain": [
              "| max_iterations                 | Maximum Number of Iterations                     | 25       |"
            ]
          },
          "metadata": {},
          "output_type": "display_data"
        },
        {
          "data": {
            "text/html": [
              "<pre>+--------------------------------+--------------------------------------------------+----------+</pre>"
            ],
            "text/plain": [
              "+--------------------------------+--------------------------------------------------+----------+"
            ]
          },
          "metadata": {},
          "output_type": "display_data"
        },
        {
          "data": {
            "text/html": [
              "<pre>  Optimizing model using SGD; tuning step size.</pre>"
            ],
            "text/plain": [
              "  Optimizing model using SGD; tuning step size."
            ]
          },
          "metadata": {},
          "output_type": "display_data"
        },
        {
          "data": {
            "text/html": [
              "<pre>  Using 5476 / 5476 points for tuning the step size.</pre>"
            ],
            "text/plain": [
              "  Using 5476 / 5476 points for tuning the step size."
            ]
          },
          "metadata": {},
          "output_type": "display_data"
        },
        {
          "data": {
            "text/html": [
              "<pre>+---------+-------------------+------------------------------------------+</pre>"
            ],
            "text/plain": [
              "+---------+-------------------+------------------------------------------+"
            ]
          },
          "metadata": {},
          "output_type": "display_data"
        },
        {
          "data": {
            "text/html": [
              "<pre>| Attempt | Initial Step Size | Estimated Objective Value                |</pre>"
            ],
            "text/plain": [
              "| Attempt | Initial Step Size | Estimated Objective Value                |"
            ]
          },
          "metadata": {},
          "output_type": "display_data"
        },
        {
          "data": {
            "text/html": [
              "<pre>+---------+-------------------+------------------------------------------+</pre>"
            ],
            "text/plain": [
              "+---------+-------------------+------------------------------------------+"
            ]
          },
          "metadata": {},
          "output_type": "display_data"
        },
        {
          "data": {
            "text/html": [
              "<pre>| 0       | 25                | Not Viable                               |</pre>"
            ],
            "text/plain": [
              "| 0       | 25                | Not Viable                               |"
            ]
          },
          "metadata": {},
          "output_type": "display_data"
        },
        {
          "data": {
            "text/html": [
              "<pre>| 1       | 6.25              | Not Viable                               |</pre>"
            ],
            "text/plain": [
              "| 1       | 6.25              | Not Viable                               |"
            ]
          },
          "metadata": {},
          "output_type": "display_data"
        },
        {
          "data": {
            "text/html": [
              "<pre>| 2       | 1.5625            | Not Viable                               |</pre>"
            ],
            "text/plain": [
              "| 2       | 1.5625            | Not Viable                               |"
            ]
          },
          "metadata": {},
          "output_type": "display_data"
        },
        {
          "data": {
            "text/html": [
              "<pre>| 3       | 0.390625          | Not Viable                               |</pre>"
            ],
            "text/plain": [
              "| 3       | 0.390625          | Not Viable                               |"
            ]
          },
          "metadata": {},
          "output_type": "display_data"
        },
        {
          "data": {
            "text/html": [
              "<pre>| 4       | 0.0976562         | 1.89757                                  |</pre>"
            ],
            "text/plain": [
              "| 4       | 0.0976562         | 1.89757                                  |"
            ]
          },
          "metadata": {},
          "output_type": "display_data"
        },
        {
          "data": {
            "text/html": [
              "<pre>| 5       | 0.0488281         | 2.11174                                  |</pre>"
            ],
            "text/plain": [
              "| 5       | 0.0488281         | 2.11174                                  |"
            ]
          },
          "metadata": {},
          "output_type": "display_data"
        },
        {
          "data": {
            "text/html": [
              "<pre>| 6       | 0.0244141         | 2.37496                                  |</pre>"
            ],
            "text/plain": [
              "| 6       | 0.0244141         | 2.37496                                  |"
            ]
          },
          "metadata": {},
          "output_type": "display_data"
        },
        {
          "data": {
            "text/html": [
              "<pre>| 7       | 0.012207          | 2.62878                                  |</pre>"
            ],
            "text/plain": [
              "| 7       | 0.012207          | 2.62878                                  |"
            ]
          },
          "metadata": {},
          "output_type": "display_data"
        },
        {
          "data": {
            "text/html": [
              "<pre>+---------+-------------------+------------------------------------------+</pre>"
            ],
            "text/plain": [
              "+---------+-------------------+------------------------------------------+"
            ]
          },
          "metadata": {},
          "output_type": "display_data"
        },
        {
          "data": {
            "text/html": [
              "<pre>| Final   | 0.0976562         | 1.89757                                  |</pre>"
            ],
            "text/plain": [
              "| Final   | 0.0976562         | 1.89757                                  |"
            ]
          },
          "metadata": {},
          "output_type": "display_data"
        },
        {
          "data": {
            "text/html": [
              "<pre>+---------+-------------------+------------------------------------------+</pre>"
            ],
            "text/plain": [
              "+---------+-------------------+------------------------------------------+"
            ]
          },
          "metadata": {},
          "output_type": "display_data"
        },
        {
          "data": {
            "text/html": [
              "<pre>Starting Optimization.</pre>"
            ],
            "text/plain": [
              "Starting Optimization."
            ]
          },
          "metadata": {},
          "output_type": "display_data"
        },
        {
          "data": {
            "text/html": [
              "<pre>+---------+--------------+-------------------+-----------------------+-------------+</pre>"
            ],
            "text/plain": [
              "+---------+--------------+-------------------+-----------------------+-------------+"
            ]
          },
          "metadata": {},
          "output_type": "display_data"
        },
        {
          "data": {
            "text/html": [
              "<pre>| Iter.   | Elapsed Time | Approx. Objective | Approx. Training RMSE | Step Size   |</pre>"
            ],
            "text/plain": [
              "| Iter.   | Elapsed Time | Approx. Objective | Approx. Training RMSE | Step Size   |"
            ]
          },
          "metadata": {},
          "output_type": "display_data"
        },
        {
          "data": {
            "text/html": [
              "<pre>+---------+--------------+-------------------+-----------------------+-------------+</pre>"
            ],
            "text/plain": [
              "+---------+--------------+-------------------+-----------------------+-------------+"
            ]
          },
          "metadata": {},
          "output_type": "display_data"
        },
        {
          "data": {
            "text/html": [
              "<pre>| Initial | 46us         | 3.27237           | 1.29186               |             |</pre>"
            ],
            "text/plain": [
              "| Initial | 46us         | 3.27237           | 1.29186               |             |"
            ]
          },
          "metadata": {},
          "output_type": "display_data"
        },
        {
          "data": {
            "text/html": [
              "<pre>+---------+--------------+-------------------+-----------------------+-------------+</pre>"
            ],
            "text/plain": [
              "+---------+--------------+-------------------+-----------------------+-------------+"
            ]
          },
          "metadata": {},
          "output_type": "display_data"
        },
        {
          "data": {
            "text/html": [
              "<pre>| 1       | 38.34ms      | 3.04386           | 1.20814               | 0.0976562   |</pre>"
            ],
            "text/plain": [
              "| 1       | 38.34ms      | 3.04386           | 1.20814               | 0.0976562   |"
            ]
          },
          "metadata": {},
          "output_type": "display_data"
        },
        {
          "data": {
            "text/html": [
              "<pre>| 2       | 70.108ms     | 2.39602           | 1.06603               | 0.0580668   |</pre>"
            ],
            "text/plain": [
              "| 2       | 70.108ms     | 2.39602           | 1.06603               | 0.0580668   |"
            ]
          },
          "metadata": {},
          "output_type": "display_data"
        },
        {
          "data": {
            "text/html": [
              "<pre>| 3       | 99.959ms     | 2.17182           | 0.995413              | 0.042841    |</pre>"
            ],
            "text/plain": [
              "| 3       | 99.959ms     | 2.17182           | 0.995413              | 0.042841    |"
            ]
          },
          "metadata": {},
          "output_type": "display_data"
        },
        {
          "data": {
            "text/html": [
              "<pre>| 4       | 135.559ms    | 2.08393           | 0.970161              | 0.0345267   |</pre>"
            ],
            "text/plain": [
              "| 4       | 135.559ms    | 2.08393           | 0.970161              | 0.0345267   |"
            ]
          },
          "metadata": {},
          "output_type": "display_data"
        },
        {
          "data": {
            "text/html": [
              "<pre>| 5       | 138.271ms    | 1.99901           | 0.942077              | 0.029206    |</pre>"
            ],
            "text/plain": [
              "| 5       | 138.271ms    | 1.99901           | 0.942077              | 0.029206    |"
            ]
          },
          "metadata": {},
          "output_type": "display_data"
        },
        {
          "data": {
            "text/html": [
              "<pre>| 10      | 261.856ms    | 1.86571           | 0.87826               | 0.017366    |</pre>"
            ],
            "text/plain": [
              "| 10      | 261.856ms    | 1.86571           | 0.87826               | 0.017366    |"
            ]
          },
          "metadata": {},
          "output_type": "display_data"
        },
        {
          "data": {
            "text/html": [
              "<pre>| 25      | 741.917ms    | 1.71539           | 0.806633              | 0.00218366  |</pre>"
            ],
            "text/plain": [
              "| 25      | 741.917ms    | 1.71539           | 0.806633              | 0.00218366  |"
            ]
          },
          "metadata": {},
          "output_type": "display_data"
        },
        {
          "data": {
            "text/html": [
              "<pre>+---------+--------------+-------------------+-----------------------+-------------+</pre>"
            ],
            "text/plain": [
              "+---------+--------------+-------------------+-----------------------+-------------+"
            ]
          },
          "metadata": {},
          "output_type": "display_data"
        },
        {
          "data": {
            "text/html": [
              "<pre>Optimization Complete: Maximum number of passes through the data reached.</pre>"
            ],
            "text/plain": [
              "Optimization Complete: Maximum number of passes through the data reached."
            ]
          },
          "metadata": {},
          "output_type": "display_data"
        },
        {
          "data": {
            "text/html": [
              "<pre>Computing final objective value and training RMSE.</pre>"
            ],
            "text/plain": [
              "Computing final objective value and training RMSE."
            ]
          },
          "metadata": {},
          "output_type": "display_data"
        },
        {
          "data": {
            "text/html": [
              "<pre>       Final objective value: 1.71343</pre>"
            ],
            "text/plain": [
              "       Final objective value: 1.71343"
            ]
          },
          "metadata": {},
          "output_type": "display_data"
        },
        {
          "data": {
            "text/html": [
              "<pre>       Final training RMSE: 0.803045</pre>"
            ],
            "text/plain": [
              "       Final training RMSE: 0.803045"
            ]
          },
          "metadata": {},
          "output_type": "display_data"
        },
        {
          "data": {
            "text/html": [
              "<pre>recommendations finished on 1000/4109 queries. users per second: 800000</pre>"
            ],
            "text/plain": [
              "recommendations finished on 1000/4109 queries. users per second: 800000"
            ]
          },
          "metadata": {},
          "output_type": "display_data"
        },
        {
          "data": {
            "text/html": [
              "<pre>recommendations finished on 2000/4109 queries. users per second: 858369</pre>"
            ],
            "text/plain": [
              "recommendations finished on 2000/4109 queries. users per second: 858369"
            ]
          },
          "metadata": {},
          "output_type": "display_data"
        },
        {
          "data": {
            "text/html": [
              "<pre>recommendations finished on 3000/4109 queries. users per second: 874126</pre>"
            ],
            "text/plain": [
              "recommendations finished on 3000/4109 queries. users per second: 874126"
            ]
          },
          "metadata": {},
          "output_type": "display_data"
        },
        {
          "data": {
            "text/html": [
              "<pre>recommendations finished on 4000/4109 queries. users per second: 745018</pre>"
            ],
            "text/plain": [
              "recommendations finished on 4000/4109 queries. users per second: 745018"
            ]
          },
          "metadata": {},
          "output_type": "display_data"
        },
        {
          "data": {
            "text/html": [
              "<pre>Preparing data set.</pre>"
            ],
            "text/plain": [
              "Preparing data set."
            ]
          },
          "metadata": {},
          "output_type": "display_data"
        },
        {
          "data": {
            "text/html": [
              "<pre>    Data has 5476 observations with 4109 users and 952 items.</pre>"
            ],
            "text/plain": [
              "    Data has 5476 observations with 4109 users and 952 items."
            ]
          },
          "metadata": {},
          "output_type": "display_data"
        },
        {
          "data": {
            "text/html": [
              "<pre>    Data prepared in: 0.009827s</pre>"
            ],
            "text/plain": [
              "    Data prepared in: 0.009827s"
            ]
          },
          "metadata": {},
          "output_type": "display_data"
        },
        {
          "data": {
            "text/html": [
              "<pre>Training factorization_recommender for recommendations.</pre>"
            ],
            "text/plain": [
              "Training factorization_recommender for recommendations."
            ]
          },
          "metadata": {},
          "output_type": "display_data"
        },
        {
          "data": {
            "text/html": [
              "<pre>+--------------------------------+--------------------------------------------------+----------+</pre>"
            ],
            "text/plain": [
              "+--------------------------------+--------------------------------------------------+----------+"
            ]
          },
          "metadata": {},
          "output_type": "display_data"
        },
        {
          "data": {
            "text/html": [
              "<pre>| Parameter                      | Description                                      | Value    |</pre>"
            ],
            "text/plain": [
              "| Parameter                      | Description                                      | Value    |"
            ]
          },
          "metadata": {},
          "output_type": "display_data"
        },
        {
          "data": {
            "text/html": [
              "<pre>+--------------------------------+--------------------------------------------------+----------+</pre>"
            ],
            "text/plain": [
              "+--------------------------------+--------------------------------------------------+----------+"
            ]
          },
          "metadata": {},
          "output_type": "display_data"
        },
        {
          "data": {
            "text/html": [
              "<pre>| num_factors                    | Factor Dimension                                 | 8        |</pre>"
            ],
            "text/plain": [
              "| num_factors                    | Factor Dimension                                 | 8        |"
            ]
          },
          "metadata": {},
          "output_type": "display_data"
        },
        {
          "data": {
            "text/html": [
              "<pre>| regularization                 | L2 Regularization on Factors                     | 1e-08    |</pre>"
            ],
            "text/plain": [
              "| regularization                 | L2 Regularization on Factors                     | 1e-08    |"
            ]
          },
          "metadata": {},
          "output_type": "display_data"
        },
        {
          "data": {
            "text/html": [
              "<pre>| solver                         | Solver used for training                         | sgd      |</pre>"
            ],
            "text/plain": [
              "| solver                         | Solver used for training                         | sgd      |"
            ]
          },
          "metadata": {},
          "output_type": "display_data"
        },
        {
          "data": {
            "text/html": [
              "<pre>| linear_regularization          | L2 Regularization on Linear Coefficients         | 1e-10    |</pre>"
            ],
            "text/plain": [
              "| linear_regularization          | L2 Regularization on Linear Coefficients         | 1e-10    |"
            ]
          },
          "metadata": {},
          "output_type": "display_data"
        },
        {
          "data": {
            "text/html": [
              "<pre>| max_iterations                 | Maximum Number of Iterations                     | 50       |</pre>"
            ],
            "text/plain": [
              "| max_iterations                 | Maximum Number of Iterations                     | 50       |"
            ]
          },
          "metadata": {},
          "output_type": "display_data"
        },
        {
          "data": {
            "text/html": [
              "<pre>+--------------------------------+--------------------------------------------------+----------+</pre>"
            ],
            "text/plain": [
              "+--------------------------------+--------------------------------------------------+----------+"
            ]
          },
          "metadata": {},
          "output_type": "display_data"
        },
        {
          "data": {
            "text/html": [
              "<pre>  Optimizing model using SGD; tuning step size.</pre>"
            ],
            "text/plain": [
              "  Optimizing model using SGD; tuning step size."
            ]
          },
          "metadata": {},
          "output_type": "display_data"
        },
        {
          "data": {
            "text/html": [
              "<pre>  Using 5476 / 5476 points for tuning the step size.</pre>"
            ],
            "text/plain": [
              "  Using 5476 / 5476 points for tuning the step size."
            ]
          },
          "metadata": {},
          "output_type": "display_data"
        },
        {
          "data": {
            "text/html": [
              "<pre>+---------+-------------------+------------------------------------------+</pre>"
            ],
            "text/plain": [
              "+---------+-------------------+------------------------------------------+"
            ]
          },
          "metadata": {},
          "output_type": "display_data"
        },
        {
          "data": {
            "text/html": [
              "<pre>| Attempt | Initial Step Size | Estimated Objective Value                |</pre>"
            ],
            "text/plain": [
              "| Attempt | Initial Step Size | Estimated Objective Value                |"
            ]
          },
          "metadata": {},
          "output_type": "display_data"
        },
        {
          "data": {
            "text/html": [
              "<pre>+---------+-------------------+------------------------------------------+</pre>"
            ],
            "text/plain": [
              "+---------+-------------------+------------------------------------------+"
            ]
          },
          "metadata": {},
          "output_type": "display_data"
        },
        {
          "data": {
            "text/html": [
              "<pre>| 0       | 25                | Not Viable                               |</pre>"
            ],
            "text/plain": [
              "| 0       | 25                | Not Viable                               |"
            ]
          },
          "metadata": {},
          "output_type": "display_data"
        },
        {
          "data": {
            "text/html": [
              "<pre>| 1       | 6.25              | Not Viable                               |</pre>"
            ],
            "text/plain": [
              "| 1       | 6.25              | Not Viable                               |"
            ]
          },
          "metadata": {},
          "output_type": "display_data"
        },
        {
          "data": {
            "text/html": [
              "<pre>| 2       | 1.5625            | Not Viable                               |</pre>"
            ],
            "text/plain": [
              "| 2       | 1.5625            | Not Viable                               |"
            ]
          },
          "metadata": {},
          "output_type": "display_data"
        },
        {
          "data": {
            "text/html": [
              "<pre>| 3       | 0.390625          | 0.115413                                 |</pre>"
            ],
            "text/plain": [
              "| 3       | 0.390625          | 0.115413                                 |"
            ]
          },
          "metadata": {},
          "output_type": "display_data"
        },
        {
          "data": {
            "text/html": [
              "<pre>| 4       | 0.195312          | 0.227549                                 |</pre>"
            ],
            "text/plain": [
              "| 4       | 0.195312          | 0.227549                                 |"
            ]
          },
          "metadata": {},
          "output_type": "display_data"
        },
        {
          "data": {
            "text/html": [
              "<pre>| 5       | 0.0976562         | 0.394031                                 |</pre>"
            ],
            "text/plain": [
              "| 5       | 0.0976562         | 0.394031                                 |"
            ]
          },
          "metadata": {},
          "output_type": "display_data"
        },
        {
          "data": {
            "text/html": [
              "<pre>+---------+-------------------+------------------------------------------+</pre>"
            ],
            "text/plain": [
              "+---------+-------------------+------------------------------------------+"
            ]
          },
          "metadata": {},
          "output_type": "display_data"
        },
        {
          "data": {
            "text/html": [
              "<pre>| Final   | 0.390625          | 0.115413                                 |</pre>"
            ],
            "text/plain": [
              "| Final   | 0.390625          | 0.115413                                 |"
            ]
          },
          "metadata": {},
          "output_type": "display_data"
        },
        {
          "data": {
            "text/html": [
              "<pre>+---------+-------------------+------------------------------------------+</pre>"
            ],
            "text/plain": [
              "+---------+-------------------+------------------------------------------+"
            ]
          },
          "metadata": {},
          "output_type": "display_data"
        },
        {
          "data": {
            "text/html": [
              "<pre>Starting Optimization.</pre>"
            ],
            "text/plain": [
              "Starting Optimization."
            ]
          },
          "metadata": {},
          "output_type": "display_data"
        },
        {
          "data": {
            "text/html": [
              "<pre>+---------+--------------+-------------------+-----------------------+-------------+</pre>"
            ],
            "text/plain": [
              "+---------+--------------+-------------------+-----------------------+-------------+"
            ]
          },
          "metadata": {},
          "output_type": "display_data"
        },
        {
          "data": {
            "text/html": [
              "<pre>| Iter.   | Elapsed Time | Approx. Objective | Approx. Training RMSE | Step Size   |</pre>"
            ],
            "text/plain": [
              "| Iter.   | Elapsed Time | Approx. Objective | Approx. Training RMSE | Step Size   |"
            ]
          },
          "metadata": {},
          "output_type": "display_data"
        },
        {
          "data": {
            "text/html": [
              "<pre>+---------+--------------+-------------------+-----------------------+-------------+</pre>"
            ],
            "text/plain": [
              "+---------+--------------+-------------------+-----------------------+-------------+"
            ]
          },
          "metadata": {},
          "output_type": "display_data"
        },
        {
          "data": {
            "text/html": [
              "<pre>| Initial | 55us         | 1.66891           | 1.29186               |             |</pre>"
            ],
            "text/plain": [
              "| Initial | 55us         | 1.66891           | 1.29186               |             |"
            ]
          },
          "metadata": {},
          "output_type": "display_data"
        },
        {
          "data": {
            "text/html": [
              "<pre>+---------+--------------+-------------------+-----------------------+-------------+</pre>"
            ],
            "text/plain": [
              "+---------+--------------+-------------------+-----------------------+-------------+"
            ]
          },
          "metadata": {},
          "output_type": "display_data"
        },
        {
          "data": {
            "text/html": [
              "<pre>| 1       | 35.387ms     | 1.63355           | 1.27809               | 0.390625    |</pre>"
            ],
            "text/plain": [
              "| 1       | 35.387ms     | 1.63355           | 1.27809               | 0.390625    |"
            ]
          },
          "metadata": {},
          "output_type": "display_data"
        },
        {
          "data": {
            "text/html": [
              "<pre>| 2       | 71.023ms     | 0.736652          | 0.858278              | 0.232267    |</pre>"
            ],
            "text/plain": [
              "| 2       | 71.023ms     | 0.736652          | 0.858278              | 0.232267    |"
            ]
          },
          "metadata": {},
          "output_type": "display_data"
        },
        {
          "data": {
            "text/html": [
              "<pre>| 3       | 104.65ms     | 0.392179          | 0.626238              | 0.171364    |</pre>"
            ],
            "text/plain": [
              "| 3       | 104.65ms     | 0.392179          | 0.626238              | 0.171364    |"
            ]
          },
          "metadata": {},
          "output_type": "display_data"
        },
        {
          "data": {
            "text/html": [
              "<pre>| 4       | 147.598ms    | 0.228312          | 0.477817              | 0.138107    |</pre>"
            ],
            "text/plain": [
              "| 4       | 147.598ms    | 0.228312          | 0.477817              | 0.138107    |"
            ]
          },
          "metadata": {},
          "output_type": "display_data"
        },
        {
          "data": {
            "text/html": [
              "<pre>| 5       | 187.352ms    | 0.151852          | 0.389677              | 0.116824    |</pre>"
            ],
            "text/plain": [
              "| 5       | 187.352ms    | 0.151852          | 0.389677              | 0.116824    |"
            ]
          },
          "metadata": {},
          "output_type": "display_data"
        },
        {
          "data": {
            "text/html": [
              "<pre>| 10      | 344.896ms    | 0.0345861         | 0.18596               | 0.069464    |</pre>"
            ],
            "text/plain": [
              "| 10      | 344.896ms    | 0.0345861         | 0.18596               | 0.069464    |"
            ]
          },
          "metadata": {},
          "output_type": "display_data"
        },
        {
          "data": {
            "text/html": [
              "<pre>| 50      | 1.74s        | 0.00115883        | 0.0339396             | 0.0207746   |</pre>"
            ],
            "text/plain": [
              "| 50      | 1.74s        | 0.00115883        | 0.0339396             | 0.0207746   |"
            ]
          },
          "metadata": {},
          "output_type": "display_data"
        },
        {
          "data": {
            "text/html": [
              "<pre>+---------+--------------+-------------------+-----------------------+-------------+</pre>"
            ],
            "text/plain": [
              "+---------+--------------+-------------------+-----------------------+-------------+"
            ]
          },
          "metadata": {},
          "output_type": "display_data"
        },
        {
          "data": {
            "text/html": [
              "<pre>Optimization Complete: Maximum number of passes through the data reached.</pre>"
            ],
            "text/plain": [
              "Optimization Complete: Maximum number of passes through the data reached."
            ]
          },
          "metadata": {},
          "output_type": "display_data"
        },
        {
          "data": {
            "text/html": [
              "<pre>Computing final objective value and training RMSE.</pre>"
            ],
            "text/plain": [
              "Computing final objective value and training RMSE."
            ]
          },
          "metadata": {},
          "output_type": "display_data"
        },
        {
          "data": {
            "text/html": [
              "<pre>       Final objective value: 0.00102662</pre>"
            ],
            "text/plain": [
              "       Final objective value: 0.00102662"
            ]
          },
          "metadata": {},
          "output_type": "display_data"
        },
        {
          "data": {
            "text/html": [
              "<pre>       Final training RMSE: 0.0319327</pre>"
            ],
            "text/plain": [
              "       Final training RMSE: 0.0319327"
            ]
          },
          "metadata": {},
          "output_type": "display_data"
        },
        {
          "data": {
            "text/html": [
              "<pre>recommendations finished on 1000/4109 queries. users per second: 958773</pre>"
            ],
            "text/plain": [
              "recommendations finished on 1000/4109 queries. users per second: 958773"
            ]
          },
          "metadata": {},
          "output_type": "display_data"
        },
        {
          "data": {
            "text/html": [
              "<pre>recommendations finished on 2000/4109 queries. users per second: 1.06952e+06</pre>"
            ],
            "text/plain": [
              "recommendations finished on 2000/4109 queries. users per second: 1.06952e+06"
            ]
          },
          "metadata": {},
          "output_type": "display_data"
        },
        {
          "data": {
            "text/html": [
              "<pre>recommendations finished on 3000/4109 queries. users per second: 1.1066e+06</pre>"
            ],
            "text/plain": [
              "recommendations finished on 3000/4109 queries. users per second: 1.1066e+06"
            ]
          },
          "metadata": {},
          "output_type": "display_data"
        },
        {
          "data": {
            "text/html": [
              "<pre>recommendations finished on 4000/4109 queries. users per second: 953743</pre>"
            ],
            "text/plain": [
              "recommendations finished on 4000/4109 queries. users per second: 953743"
            ]
          },
          "metadata": {},
          "output_type": "display_data"
        }
      ],
      "source": [
        "svg_model = create_model_by_field(\"rating\", \"SVG\")\n",
        "mf_model = create_model_by_field(\"rating\", \"MF\")"
      ]
    },
    {
      "cell_type": "markdown",
      "metadata": {
        "id": "vLF4eXXMMrcW"
      },
      "source": [
        "## Evaluation"
      ]
    },
    {
      "cell_type": "code",
      "execution_count": 16,
      "metadata": {
        "id": "GQKirzekMrcX"
      },
      "outputs": [],
      "source": [
        "def rank_to_array(recommendations_dataframe, test_dataframe):\n",
        "    final_array = []\n",
        "    len_courses = []\n",
        "    for name, group in recommendations_dataframe.groupby(\"user\"):\n",
        "        courses_list = test_dataframe[test_dataframe[\"user\"] == name][\"course\"].to_list()\n",
        "        temp_array = []\n",
        "        for course in group[\"course\"].to_list():\n",
        "            temp_array.append(int(course in courses_list))\n",
        "        final_array.append(temp_array)\n",
        "        if len(courses_list) >= 5:\n",
        "          len_courses.append(5)\n",
        "        else:\n",
        "          len_courses.append(len(courses_list))\n",
        "    return final_array , len_courses"
      ]
    },
    {
      "cell_type": "code",
      "execution_count": 18,
      "metadata": {
        "id": "7OKyPjSwMrcX"
      },
      "outputs": [],
      "source": [
        "def precision_at_k(r, k):\n",
        "    \"\"\"Score is precision @ k\n",
        "\n",
        "    Relevance is binary (nonzero is relevant).\n",
        "\n",
        "    >>> r = [0, 0, 1]\n",
        "    >>> precision_at_k(r, 1)\n",
        "    0.0\n",
        "    >>> precision_at_k(r, 2)\n",
        "    0.0\n",
        "    >>> precision_at_k(r, 3)\n",
        "    0.33333333333333331\n",
        "    >>> precision_at_k(r, 4)\n",
        "    Traceback (most recent call last):\n",
        "        File \"<stdin>\", line 1, in ?\n",
        "    ValueError: Relevance score length < k\n",
        "\n",
        "\n",
        "    Args:\n",
        "        r: Relevance scores (list or numpy) in rank order\n",
        "            (first element is the first item)\n",
        "\n",
        "    Returns:\n",
        "        Precision @ k\n",
        "\n",
        "    Raises:\n",
        "        ValueError: len(r) must be >= k\n",
        "    \"\"\"\n",
        "    assert k >= 1\n",
        "    r = np.asarray(r)[:k] != 0\n",
        "    if r.size != k:\n",
        "        raise ValueError('Relevance score length < k')\n",
        "    return np.mean(r)"
      ]
    },
    {
      "cell_type": "code",
      "execution_count": 19,
      "metadata": {
        "id": "UQ_Ed4MGV_61"
      },
      "outputs": [],
      "source": [
        "def mean_precision_at_k(r, k):\n",
        "    precision = 0.0\n",
        "    for i in range(0,len(r)):\n",
        "      precision += precision_at_k(r[i],k[i])\n",
        "    return precision / len(k)"
      ]
    },
    {
      "cell_type": "code",
      "execution_count": 20,
      "metadata": {
        "id": "XiwNLvwjShOJ"
      },
      "outputs": [],
      "source": [
        "def custom_mean_precision(r,k):\n",
        "  precision = 0.0\n",
        "  for i in range(0,len(r)):\n",
        "    precision += np.sum(r[i]) / k[i]\n",
        "  return precision / len(k)"
      ]
    },
    {
      "cell_type": "markdown",
      "metadata": {
        "id": "F1y5Z_5FQ0tA"
      },
      "source": [
        "### Evaluation"
      ]
    },
    {
      "cell_type": "code",
      "execution_count": 21,
      "metadata": {
        "colab": {
          "base_uri": "https://localhost:8080/"
        },
        "id": "fhzviuwJMrcX",
        "outputId": "5e9d43b3-c5ae-478c-fd0b-272d712a895f"
      },
      "outputs": [
        {
          "name": "stdout",
          "output_type": "stream",
          "text": [
            "custom  0.02798734485276223\n",
            "At_k  0.0034071550255536627\n"
          ]
        }
      ],
      "source": [
        "final_array , len_courses = rank_to_array(svg_model, test_df)\n",
        "print(\"custom \",custom_mean_precision(final_array , len_courses))\n",
        "print(\"At_k \",mean_precision_at_k(final_array , len_courses))"
      ]
    },
    {
      "cell_type": "code",
      "execution_count": 23,
      "metadata": {
        "colab": {
          "base_uri": "https://localhost:8080/"
        },
        "id": "dW4X4SI_SI3B",
        "outputId": "6daf118c-1b2b-4c98-ec13-cf1f7d90ee63"
      },
      "outputs": [
        {
          "name": "stdout",
          "output_type": "stream",
          "text": [
            "custom  0.0029204185933317107\n",
            "At_k  0.0002433682161109759\n"
          ]
        }
      ],
      "source": [
        "final_array , len_courses = rank_to_array(mf_model, test_df)\n",
        "print(\"custom \",custom_mean_precision(final_array , len_courses))\n",
        "print(\"At_k \",mean_precision_at_k(final_array , len_courses))"
      ]
    }
  ],
  "metadata": {
    "colab": {
      "collapsed_sections": [],
      "name": "evaluation_models.ipynb",
      "provenance": []
    },
    "interpreter": {
      "hash": "0f0bbc9d038cb4a6ddcc6a91823e4e930424cf6e4de697a98215e56b9e35c7be"
    },
    "kernelspec": {
      "display_name": "Python 3.8.8 ('base')",
      "language": "python",
      "name": "python3"
    },
    "language_info": {
      "codemirror_mode": {
        "name": "ipython",
        "version": 3
      },
      "file_extension": ".py",
      "mimetype": "text/x-python",
      "name": "python",
      "nbconvert_exporter": "python",
      "pygments_lexer": "ipython3",
      "version": "3.8.16"
    },
    "orig_nbformat": 4
  },
  "nbformat": 4,
  "nbformat_minor": 0
}
