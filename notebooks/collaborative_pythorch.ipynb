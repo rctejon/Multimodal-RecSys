{
 "cells": [
  {
   "cell_type": "code",
   "execution_count": 1,
   "id": "initial_id",
   "metadata": {
    "collapsed": true,
    "ExecuteTime": {
     "end_time": "2024-02-13T02:10:22.395002Z",
     "start_time": "2024-02-13T02:10:19.743497100Z"
    }
   },
   "outputs": [
    {
     "name": "stderr",
     "output_type": "stream",
     "text": [
      "C:\\Users\\Rafael Tejon\\AppData\\Local\\Temp\\ipykernel_26648\\4134457685.py:2: DeprecationWarning: \n",
      "Pyarrow will become a required dependency of pandas in the next major release of pandas (pandas 3.0),\n",
      "(to allow more performant data types, such as the Arrow string type, and better interoperability with other libraries)\n",
      "but was not found to be installed on your system.\n",
      "If this would cause problems for you,\n",
      "please provide us feedback at https://github.com/pandas-dev/pandas/issues/54466\n",
      "        \n",
      "  import pandas as pd\n"
     ]
    }
   ],
   "source": [
    "import numpy as np\n",
    "import pandas as pd\n",
    "import os\n",
    "import tqdm\n",
    "import torch\n",
    "import torch._dynamo\n",
    "from torch.utils.data import DataLoader\n",
    "from sklearn.metrics import roc_auc_score, mean_squared_error\n",
    "from helpers.movie_lens_data import MovieLensData, MovieLensDataset\n",
    "from helpers.neural_collabarative_filtering import NeuralCollaborativeFiltering\n",
    "from helpers.train_tools import EarlyStopper"
   ]
  },
  {
   "cell_type": "code",
   "outputs": [],
   "source": [],
   "metadata": {
    "collapsed": false
   },
   "id": "45d895b39688155a"
  },
  {
   "cell_type": "code",
   "outputs": [],
   "source": [
    "path = \"..\\data\\ml-100k\"\n",
    "movie_lens_data = MovieLensData(\n",
    "    users_path = os.path.join(path, \"u.user\"),\n",
    "    ratings_path = os.path.join(path, \"u.data\"), \n",
    "    movies_path = os.path.join(path, \"u.item\"), \n",
    "    genre_path = os.path.join(path, \"u.genre\") \n",
    "    )\n",
    "\n",
    "evaluation_data = movie_lens_data.read_ratings_data()\n",
    "movie_data = movie_lens_data.read_movies_data()\n",
    "popularity_rankings = movie_lens_data.get_popularity_ranks()\n",
    "ratings = movie_lens_data.get_ratings()\n",
    "\n",
    "def get_dataset():\n",
    "    return MovieLensDataset(ratings)"
   ],
   "metadata": {
    "collapsed": false,
    "ExecuteTime": {
     "end_time": "2024-02-13T02:10:24.050670700Z",
     "start_time": "2024-02-13T02:10:22.397266300Z"
    }
   },
   "id": "288952b5048f91e5",
   "execution_count": 2
  },
  {
   "cell_type": "code",
   "outputs": [],
   "source": [
    "def get_model(dataset):\n",
    "    field_dims = dataset.field_dims\n",
    "    return NeuralCollaborativeFiltering(field_dims, embed_dim=64, mlp_dims=(32, 32), dropout=0.2,\n",
    "                                       user_field_idx=dataset.user_field_idx,\n",
    "                                       item_field_idx=dataset.item_field_idx) "
   ],
   "metadata": {
    "collapsed": false,
    "ExecuteTime": {
     "end_time": "2024-02-13T02:10:24.065800900Z",
     "start_time": "2024-02-13T02:10:24.051676800Z"
    }
   },
   "id": "508251cdaf44399b",
   "execution_count": 3
  },
  {
   "cell_type": "code",
   "outputs": [],
   "source": [
    "def train(model, optimizer, data_loader, criterion, device, log_interval=100):\n",
    "    model.train()\n",
    "    total_loss = 0\n",
    "    tk0 = tqdm.tqdm(data_loader, smoothing=0, mininterval=1.0)\n",
    "    av_loss = []\n",
    "    for i, (fields, target) in enumerate(tk0):\n",
    "        fields, target = fields.to(device), target.to(device)\n",
    "        y = model(fields)\n",
    "        loss = criterion(y, target.float())\n",
    "        model.zero_grad()\n",
    "        loss.backward()\n",
    "        optimizer.step()\n",
    "        total_loss += loss.item()\n",
    "        if (i + 1) % log_interval == 0:\n",
    "            loss = total_loss / log_interval\n",
    "            av_loss.append(loss)\n",
    "            tk0.set_postfix(loss=loss)\n",
    "            total_loss = 0\n",
    "    return np.mean(av_loss)"
   ],
   "metadata": {
    "collapsed": false,
    "ExecuteTime": {
     "end_time": "2024-02-13T02:10:24.088880800Z",
     "start_time": "2024-02-13T02:10:24.066877200Z"
    }
   },
   "id": "dbc87106998e21c2",
   "execution_count": 4
  },
  {
   "cell_type": "code",
   "outputs": [],
   "source": [
    "def test(model, data_loader, device):\n",
    "    model.eval()\n",
    "    targets, predicts = list(), list()\n",
    "    with torch.no_grad():\n",
    "        for fields, target in tqdm.tqdm(data_loader, smoothing=0, mininterval=1.0):\n",
    "            fields, target = fields.to(device), target.to(device)\n",
    "            y = model(fields)\n",
    "            targets.extend(target.tolist())\n",
    "            predicts.extend(y.tolist())\n",
    "    return 5.* mean_squared_error(targets, predicts)   "
   ],
   "metadata": {
    "collapsed": false,
    "ExecuteTime": {
     "end_time": "2024-02-13T02:10:24.097455300Z",
     "start_time": "2024-02-13T02:10:24.084595600Z"
    }
   },
   "id": "b866bd2238d00d30",
   "execution_count": 5
  },
  {
   "cell_type": "code",
   "outputs": [],
   "source": [
    "device_cpu = \"cuda\" if torch.cuda.is_available() else \"cpu\"\n",
    "learning_rate = 0.001\n",
    "weight_decay = 1e-4\n",
    "batch_size = 64\n",
    "epochs = 20\n",
    "model_name = \"ncf\"\n",
    "device = torch.device(device_cpu)"
   ],
   "metadata": {
    "collapsed": false,
    "ExecuteTime": {
     "end_time": "2024-02-13T02:10:24.129939Z",
     "start_time": "2024-02-13T02:10:24.098555600Z"
    }
   },
   "id": "ea74f079aac83d9a",
   "execution_count": 6
  },
  {
   "cell_type": "code",
   "outputs": [],
   "source": [
    "dataset = get_dataset()\n",
    "train_length = int(len(dataset) * 0.8)\n",
    "valid_length = int(len(dataset) * 0.1)\n",
    "test_length = len(dataset) - train_length - valid_length\n",
    "\n",
    "train_dataset, valid_dataset, test_dataset = torch.utils.data.random_split(\n",
    "        dataset, (train_length, valid_length, test_length))\n",
    "\n",
    "train_data_loader = DataLoader(train_dataset, batch_size=batch_size, num_workers=4)\n",
    "valid_data_loader = DataLoader(valid_dataset, batch_size=batch_size, num_workers=4)\n",
    "test_data_loader = DataLoader(test_dataset, batch_size=batch_size, num_workers=4)"
   ],
   "metadata": {
    "collapsed": false,
    "ExecuteTime": {
     "end_time": "2024-02-13T02:10:24.145684400Z",
     "start_time": "2024-02-13T02:10:24.132048800Z"
    }
   },
   "id": "b507717fe5c7f66f",
   "execution_count": 7
  },
  {
   "cell_type": "code",
   "outputs": [],
   "source": [
    "model = get_model(dataset).to(device)\n",
    "criterion = torch.nn.BCELoss()\n",
    "optimizer = torch.optim.Adam(params=model.parameters(), lr=learning_rate, weight_decay=weight_decay)\n",
    "early_stopper = EarlyStopper(num_trials=5, save_path=f'{model_name}.pt')"
   ],
   "metadata": {
    "collapsed": false,
    "ExecuteTime": {
     "end_time": "2024-02-13T02:10:24.232095500Z",
     "start_time": "2024-02-13T02:10:24.146760700Z"
    }
   },
   "id": "d7102b157f87836f",
   "execution_count": 8
  },
  {
   "cell_type": "raw",
   "source": [],
   "metadata": {
    "collapsed": false
   },
   "id": "6bc7b0c9e3bcd920"
  },
  {
   "cell_type": "code",
   "outputs": [
    {
     "name": "stderr",
     "output_type": "stream",
     "text": [
      "100%|██████████| 1250/1250 [00:12<00:00, 101.59it/s, loss=0.575]\n",
      "100%|██████████| 157/157 [00:06<00:00, 23.57it/s]\n"
     ]
    },
    {
     "name": "stdout",
     "output_type": "stream",
     "text": [
      "epoch: 1 validation: mae: 0.18380500495271682\n"
     ]
    },
    {
     "name": "stderr",
     "output_type": "stream",
     "text": [
      "100%|██████████| 1250/1250 [00:07<00:00, 168.40it/s]\n"
     ]
    },
    {
     "name": "stdout",
     "output_type": "stream",
     "text": [
      "train mae: 0.17275463130643012\n"
     ]
    },
    {
     "name": "stderr",
     "output_type": "stream",
     "text": [
      "100%|██████████| 157/157 [00:06<00:00, 24.62it/s]\n"
     ]
    },
    {
     "name": "stdout",
     "output_type": "stream",
     "text": [
      "test mae: 0.1830583515517591\n",
      "ES accuracy: 0.18380500495271682\n"
     ]
    },
    {
     "name": "stderr",
     "output_type": "stream",
     "text": [
      "100%|██████████| 1250/1250 [00:09<00:00, 133.17it/s, loss=0.57] \n",
      "100%|██████████| 157/157 [00:06<00:00, 25.09it/s]\n"
     ]
    },
    {
     "name": "stdout",
     "output_type": "stream",
     "text": [
      "epoch: 2 validation: mae: 0.18053115409208453\n"
     ]
    },
    {
     "name": "stderr",
     "output_type": "stream",
     "text": [
      "100%|██████████| 1250/1250 [00:07<00:00, 163.46it/s]\n"
     ]
    },
    {
     "name": "stdout",
     "output_type": "stream",
     "text": [
      "train mae: 0.16643128623322043\n"
     ]
    },
    {
     "name": "stderr",
     "output_type": "stream",
     "text": [
      "100%|██████████| 157/157 [00:06<00:00, 25.22it/s]\n"
     ]
    },
    {
     "name": "stdout",
     "output_type": "stream",
     "text": [
      "test mae: 0.17883499264151942\n",
      "ES accuracy: 0.18053115409208453\n"
     ]
    },
    {
     "name": "stderr",
     "output_type": "stream",
     "text": [
      "100%|██████████| 1250/1250 [00:09<00:00, 137.79it/s, loss=0.567]\n",
      "100%|██████████| 157/157 [00:06<00:00, 25.51it/s]\n"
     ]
    },
    {
     "name": "stdout",
     "output_type": "stream",
     "text": [
      "epoch: 3 validation: mae: 0.17986929922099876\n"
     ]
    },
    {
     "name": "stderr",
     "output_type": "stream",
     "text": [
      "100%|██████████| 1250/1250 [00:07<00:00, 161.98it/s]\n"
     ]
    },
    {
     "name": "stdout",
     "output_type": "stream",
     "text": [
      "train mae: 0.16434735118338803\n"
     ]
    },
    {
     "name": "stderr",
     "output_type": "stream",
     "text": [
      "100%|██████████| 157/157 [00:07<00:00, 21.86it/s]\n"
     ]
    },
    {
     "name": "stdout",
     "output_type": "stream",
     "text": [
      "test mae: 0.17832097818211712\n",
      "ES accuracy: 0.17986929922099876\n"
     ]
    },
    {
     "name": "stderr",
     "output_type": "stream",
     "text": [
      "100%|██████████| 1250/1250 [00:09<00:00, 126.78it/s, loss=0.567]\n",
      "100%|██████████| 157/157 [00:06<00:00, 24.35it/s]\n"
     ]
    },
    {
     "name": "stdout",
     "output_type": "stream",
     "text": [
      "epoch: 4 validation: mae: 0.1789467341326464\n"
     ]
    },
    {
     "name": "stderr",
     "output_type": "stream",
     "text": [
      "100%|██████████| 1250/1250 [00:07<00:00, 170.26it/s]\n"
     ]
    },
    {
     "name": "stdout",
     "output_type": "stream",
     "text": [
      "train mae: 0.16257854297122876\n"
     ]
    },
    {
     "name": "stderr",
     "output_type": "stream",
     "text": [
      "100%|██████████| 157/157 [00:06<00:00, 23.98it/s]\n"
     ]
    },
    {
     "name": "stdout",
     "output_type": "stream",
     "text": [
      "test mae: 0.17806055412935023\n",
      "ES accuracy: 0.1789467341326464\n"
     ]
    },
    {
     "name": "stderr",
     "output_type": "stream",
     "text": [
      "100%|██████████| 1250/1250 [00:10<00:00, 123.09it/s, loss=0.564]\n",
      "100%|██████████| 157/157 [00:06<00:00, 22.73it/s]\n"
     ]
    },
    {
     "name": "stdout",
     "output_type": "stream",
     "text": [
      "epoch: 5 validation: mae: 0.17897855249363726\n"
     ]
    },
    {
     "name": "stderr",
     "output_type": "stream",
     "text": [
      "100%|██████████| 1250/1250 [00:07<00:00, 162.17it/s]\n"
     ]
    },
    {
     "name": "stdout",
     "output_type": "stream",
     "text": [
      "train mae: 0.1608605451561435\n"
     ]
    },
    {
     "name": "stderr",
     "output_type": "stream",
     "text": [
      "100%|██████████| 157/157 [00:06<00:00, 24.23it/s]\n"
     ]
    },
    {
     "name": "stdout",
     "output_type": "stream",
     "text": [
      "test mae: 0.1768505133236567\n",
      "ES accuracy: 0.17897855249363726\n"
     ]
    },
    {
     "name": "stderr",
     "output_type": "stream",
     "text": [
      "100%|██████████| 1250/1250 [00:09<00:00, 129.57it/s, loss=0.563]\n",
      "100%|██████████| 157/157 [00:06<00:00, 23.70it/s]\n"
     ]
    },
    {
     "name": "stdout",
     "output_type": "stream",
     "text": [
      "epoch: 6 validation: mae: 0.17912169843325787\n"
     ]
    },
    {
     "name": "stderr",
     "output_type": "stream",
     "text": [
      "100%|██████████| 1250/1250 [00:07<00:00, 163.71it/s]\n"
     ]
    },
    {
     "name": "stdout",
     "output_type": "stream",
     "text": [
      "train mae: 0.16002525407565873\n"
     ]
    },
    {
     "name": "stderr",
     "output_type": "stream",
     "text": [
      "100%|██████████| 157/157 [00:06<00:00, 23.92it/s]\n"
     ]
    },
    {
     "name": "stdout",
     "output_type": "stream",
     "text": [
      "test mae: 0.17643526861091458\n",
      "ES accuracy: 0.17912169843325787\n"
     ]
    },
    {
     "name": "stderr",
     "output_type": "stream",
     "text": [
      "100%|██████████| 1250/1250 [00:09<00:00, 130.26it/s, loss=0.561]\n",
      "100%|██████████| 157/157 [00:06<00:00, 24.33it/s]\n"
     ]
    },
    {
     "name": "stdout",
     "output_type": "stream",
     "text": [
      "epoch: 7 validation: mae: 0.17853992565809462\n"
     ]
    },
    {
     "name": "stderr",
     "output_type": "stream",
     "text": [
      "100%|██████████| 1250/1250 [00:07<00:00, 167.44it/s]\n"
     ]
    },
    {
     "name": "stdout",
     "output_type": "stream",
     "text": [
      "train mae: 0.15843801295062868\n"
     ]
    },
    {
     "name": "stderr",
     "output_type": "stream",
     "text": [
      "100%|██████████| 157/157 [00:06<00:00, 24.28it/s]\n"
     ]
    },
    {
     "name": "stdout",
     "output_type": "stream",
     "text": [
      "test mae: 0.17536059500868065\n",
      "ES accuracy: 0.17853992565809462\n"
     ]
    },
    {
     "name": "stderr",
     "output_type": "stream",
     "text": [
      "100%|██████████| 1250/1250 [00:09<00:00, 131.87it/s, loss=0.56] \n",
      "100%|██████████| 157/157 [00:09<00:00, 16.96it/s]\n"
     ]
    },
    {
     "name": "stdout",
     "output_type": "stream",
     "text": [
      "epoch: 8 validation: mae: 0.1789266947618823\n"
     ]
    },
    {
     "name": "stderr",
     "output_type": "stream",
     "text": [
      "100%|██████████| 1250/1250 [00:08<00:00, 139.08it/s]\n"
     ]
    },
    {
     "name": "stdout",
     "output_type": "stream",
     "text": [
      "train mae: 0.15600266603615942\n"
     ]
    },
    {
     "name": "stderr",
     "output_type": "stream",
     "text": [
      "100%|██████████| 157/157 [00:08<00:00, 19.43it/s]\n"
     ]
    },
    {
     "name": "stdout",
     "output_type": "stream",
     "text": [
      "test mae: 0.17600664907447328\n",
      "ES accuracy: 0.1789266947618823\n"
     ]
    },
    {
     "name": "stderr",
     "output_type": "stream",
     "text": [
      "100%|██████████| 1250/1250 [00:11<00:00, 113.18it/s, loss=0.56]\n",
      "100%|██████████| 157/157 [00:07<00:00, 20.92it/s]\n"
     ]
    },
    {
     "name": "stdout",
     "output_type": "stream",
     "text": [
      "epoch: 9 validation: mae: 0.17860744107130375\n"
     ]
    },
    {
     "name": "stderr",
     "output_type": "stream",
     "text": [
      "100%|██████████| 1250/1250 [00:11<00:00, 110.42it/s]\n"
     ]
    },
    {
     "name": "stdout",
     "output_type": "stream",
     "text": [
      "train mae: 0.15535193832644903\n"
     ]
    },
    {
     "name": "stderr",
     "output_type": "stream",
     "text": [
      "100%|██████████| 157/157 [00:07<00:00, 19.89it/s]\n"
     ]
    },
    {
     "name": "stdout",
     "output_type": "stream",
     "text": [
      "test mae: 0.1751398111568689\n",
      "ES accuracy: 0.17860744107130375\n"
     ]
    },
    {
     "name": "stderr",
     "output_type": "stream",
     "text": [
      "100%|██████████| 1250/1250 [00:11<00:00, 109.97it/s, loss=0.559]\n",
      "100%|██████████| 157/157 [00:07<00:00, 20.42it/s]\n"
     ]
    },
    {
     "name": "stdout",
     "output_type": "stream",
     "text": [
      "epoch: 10 validation: mae: 0.17789673050366647\n"
     ]
    },
    {
     "name": "stderr",
     "output_type": "stream",
     "text": [
      "100%|██████████| 1250/1250 [00:09<00:00, 127.35it/s]\n"
     ]
    },
    {
     "name": "stdout",
     "output_type": "stream",
     "text": [
      "train mae: 0.1530355743984584\n"
     ]
    },
    {
     "name": "stderr",
     "output_type": "stream",
     "text": [
      "100%|██████████| 157/157 [00:07<00:00, 20.83it/s]\n"
     ]
    },
    {
     "name": "stdout",
     "output_type": "stream",
     "text": [
      "test mae: 0.17533548132746643\n",
      "ES accuracy: 0.17789673050366647\n"
     ]
    },
    {
     "name": "stderr",
     "output_type": "stream",
     "text": [
      "100%|██████████| 1250/1250 [00:11<00:00, 106.19it/s, loss=0.558]\n",
      "100%|██████████| 157/157 [00:07<00:00, 20.66it/s]\n"
     ]
    },
    {
     "name": "stdout",
     "output_type": "stream",
     "text": [
      "epoch: 11 validation: mae: 0.17852375290884612\n"
     ]
    },
    {
     "name": "stderr",
     "output_type": "stream",
     "text": [
      "100%|██████████| 1250/1250 [00:08<00:00, 143.45it/s]\n"
     ]
    },
    {
     "name": "stdout",
     "output_type": "stream",
     "text": [
      "train mae: 0.15128201871780458\n"
     ]
    },
    {
     "name": "stderr",
     "output_type": "stream",
     "text": [
      "100%|██████████| 157/157 [00:07<00:00, 20.63it/s]\n"
     ]
    },
    {
     "name": "stdout",
     "output_type": "stream",
     "text": [
      "test mae: 0.17533744185282163\n",
      "ES accuracy: 0.17852375290884612\n"
     ]
    },
    {
     "name": "stderr",
     "output_type": "stream",
     "text": [
      "100%|██████████| 1250/1250 [00:11<00:00, 108.84it/s, loss=0.557]\n",
      "100%|██████████| 157/157 [00:07<00:00, 20.00it/s]\n"
     ]
    },
    {
     "name": "stdout",
     "output_type": "stream",
     "text": [
      "epoch: 12 validation: mae: 0.17622297964329567\n"
     ]
    },
    {
     "name": "stderr",
     "output_type": "stream",
     "text": [
      "100%|██████████| 1250/1250 [00:09<00:00, 138.67it/s]\n"
     ]
    },
    {
     "name": "stdout",
     "output_type": "stream",
     "text": [
      "train mae: 0.14901742338591473\n"
     ]
    },
    {
     "name": "stderr",
     "output_type": "stream",
     "text": [
      "100%|██████████| 157/157 [00:07<00:00, 19.89it/s]\n"
     ]
    },
    {
     "name": "stdout",
     "output_type": "stream",
     "text": [
      "test mae: 0.17449032864000985\n",
      "ES accuracy: 0.17622297964329567\n"
     ]
    },
    {
     "name": "stderr",
     "output_type": "stream",
     "text": [
      "100%|██████████| 1250/1250 [00:13<00:00, 95.16it/s, loss=0.556]\n",
      "100%|██████████| 157/157 [00:08<00:00, 18.48it/s]\n"
     ]
    },
    {
     "name": "stdout",
     "output_type": "stream",
     "text": [
      "epoch: 13 validation: mae: 0.17634054880316846\n"
     ]
    },
    {
     "name": "stderr",
     "output_type": "stream",
     "text": [
      "100%|██████████| 1250/1250 [00:08<00:00, 139.06it/s]\n"
     ]
    },
    {
     "name": "stdout",
     "output_type": "stream",
     "text": [
      "train mae: 0.1482906596591244\n"
     ]
    },
    {
     "name": "stderr",
     "output_type": "stream",
     "text": [
      "100%|██████████| 157/157 [00:08<00:00, 19.59it/s]\n"
     ]
    },
    {
     "name": "stdout",
     "output_type": "stream",
     "text": [
      "test mae: 0.17536814633807435\n",
      "ES accuracy: 0.17634054880316846\n"
     ]
    },
    {
     "name": "stderr",
     "output_type": "stream",
     "text": [
      "100%|██████████| 1250/1250 [00:17<00:00, 69.47it/s, loss=0.556]\n",
      "100%|██████████| 157/157 [00:08<00:00, 18.96it/s]\n"
     ]
    },
    {
     "name": "stdout",
     "output_type": "stream",
     "text": [
      "epoch: 14 validation: mae: 0.177051786900263\n"
     ]
    },
    {
     "name": "stderr",
     "output_type": "stream",
     "text": [
      "100%|██████████| 1250/1250 [00:11<00:00, 113.49it/s]\n"
     ]
    },
    {
     "name": "stdout",
     "output_type": "stream",
     "text": [
      "train mae: 0.14772442971263486\n"
     ]
    },
    {
     "name": "stderr",
     "output_type": "stream",
     "text": [
      "100%|██████████| 157/157 [00:08<00:00, 18.26it/s]\n"
     ]
    },
    {
     "name": "stdout",
     "output_type": "stream",
     "text": [
      "test mae: 0.17570132424753565\n",
      "ES accuracy: 0.177051786900263\n"
     ]
    },
    {
     "name": "stderr",
     "output_type": "stream",
     "text": [
      "100%|██████████| 1250/1250 [00:11<00:00, 113.11it/s, loss=0.555]\n",
      "100%|██████████| 157/157 [00:07<00:00, 21.28it/s]\n"
     ]
    },
    {
     "name": "stdout",
     "output_type": "stream",
     "text": [
      "epoch: 15 validation: mae: 0.1777394709801784\n"
     ]
    },
    {
     "name": "stderr",
     "output_type": "stream",
     "text": [
      "100%|██████████| 1250/1250 [00:08<00:00, 146.84it/s]\n"
     ]
    },
    {
     "name": "stdout",
     "output_type": "stream",
     "text": [
      "train mae: 0.1466924359356648\n"
     ]
    },
    {
     "name": "stderr",
     "output_type": "stream",
     "text": [
      "100%|██████████| 157/157 [00:07<00:00, 21.35it/s]\n"
     ]
    },
    {
     "name": "stdout",
     "output_type": "stream",
     "text": [
      "test mae: 0.17616679838083965\n",
      "ES accuracy: 0.1777394709801784\n"
     ]
    },
    {
     "name": "stderr",
     "output_type": "stream",
     "text": [
      "100%|██████████| 1250/1250 [00:10<00:00, 116.24it/s, loss=0.554]\n",
      "100%|██████████| 157/157 [00:07<00:00, 21.43it/s]\n"
     ]
    },
    {
     "name": "stdout",
     "output_type": "stream",
     "text": [
      "epoch: 16 validation: mae: 0.1774114255031885\n"
     ]
    },
    {
     "name": "stderr",
     "output_type": "stream",
     "text": [
      "100%|██████████| 1250/1250 [00:08<00:00, 148.19it/s]\n"
     ]
    },
    {
     "name": "stdout",
     "output_type": "stream",
     "text": [
      "train mae: 0.14388922742371862\n"
     ]
    },
    {
     "name": "stderr",
     "output_type": "stream",
     "text": [
      "100%|██████████| 157/157 [00:07<00:00, 21.43it/s]\n"
     ]
    },
    {
     "name": "stdout",
     "output_type": "stream",
     "text": [
      "test mae: 0.17601452210253749\n",
      "ES accuracy: 0.1774114255031885\n"
     ]
    },
    {
     "name": "stderr",
     "output_type": "stream",
     "text": [
      "100%|██████████| 1250/1250 [00:11<00:00, 110.98it/s, loss=0.554]\n",
      "100%|██████████| 157/157 [00:07<00:00, 20.08it/s]\n"
     ]
    },
    {
     "name": "stdout",
     "output_type": "stream",
     "text": [
      "epoch: 17 validation: mae: 0.1781817618535742\n"
     ]
    },
    {
     "name": "stderr",
     "output_type": "stream",
     "text": [
      "100%|██████████| 1250/1250 [00:08<00:00, 146.64it/s]\n"
     ]
    },
    {
     "name": "stdout",
     "output_type": "stream",
     "text": [
      "train mae: 0.14218407044713122\n"
     ]
    },
    {
     "name": "stderr",
     "output_type": "stream",
     "text": [
      "100%|██████████| 157/157 [00:07<00:00, 21.00it/s]"
     ]
    },
    {
     "name": "stdout",
     "output_type": "stream",
     "text": [
      "test mae: 0.1768753138985901\n",
      "ES accuracy: 0.1781817618535742\n",
      "validation: best mae: 0.17622297964329567\n"
     ]
    },
    {
     "name": "stderr",
     "output_type": "stream",
     "text": [
      "\n"
     ]
    }
   ],
   "source": [
    "metric_values = []\n",
    "loss_values = []\n",
    "\n",
    "for epoch_i in range(epochs):\n",
    "\n",
    "    loss = train(model, optimizer, train_data_loader, criterion, device)\n",
    "    loss_values.append((epoch_i, loss))\n",
    "    metric_valid = test(model, valid_data_loader, device)\n",
    "    print('epoch:', epoch_i + 1, 'validation: mae:', metric_valid)\n",
    "    \n",
    "    metric_train = test(model, train_data_loader, device)\n",
    "    print('train mae:', metric_train)\n",
    "    \n",
    "    metric_test = test(model, test_data_loader, device)\n",
    "    print(f'test mae: {metric_test}')\n",
    "    \n",
    "    metric_values.append((epoch_i, metric_train, metric_valid, metric_test))\n",
    "    \n",
    "    if not early_stopper.is_continuable(model, metric_valid):\n",
    "        print(f'validation: best mae: {early_stopper.best_accuracy}')\n",
    "        break"
   ],
   "metadata": {
    "collapsed": false,
    "ExecuteTime": {
     "end_time": "2024-02-13T02:20:10.955985700Z",
     "start_time": "2024-02-13T02:10:26.531667900Z"
    }
   },
   "id": "2237397c8b892fe6",
   "execution_count": 9
  },
  {
   "cell_type": "code",
   "outputs": [
    {
     "data": {
      "text/plain": "<Figure size 800x400 with 2 Axes>",
      "image/png": "[encoded data removed]"
     },
     "metadata": {},
     "output_type": "display_data"
    }
   ],
   "source": [
    "from matplotlib import pyplot as plt\n",
    "metric_values = np.array(metric_values)\n",
    "loss_values = [x[1] for x in loss_values]\n",
    "f, ax = plt.subplots(1,2, figsize=(8,4))\n",
    "ax[0].plot(loss_values, label=\"train loss\")\n",
    "ax[0].legend()\n",
    "ax[0].grid(linestyle=\"--\",which=\"major\")\n",
    "\n",
    "ax[1].plot(metric_values[:, 1], label=\"train mae\")\n",
    "ax[1].plot(metric_values[:, 2], label=\"validation mae\")\n",
    "ax[1].plot(metric_values[:, 3], label=\"test mae\")\n",
    "ax[1].legend()\n",
    "ax[1].grid(linestyle=\"--\",which=\"major\")\n",
    "plt.suptitle(\"Train loss & Train/Validation/Test mae\")\n",
    "plt.show()"
   ],
   "metadata": {
    "collapsed": false,
    "ExecuteTime": {
     "end_time": "2024-02-13T02:22:12.673156600Z",
     "start_time": "2024-02-13T02:22:11.526215300Z"
    }
   },
   "id": "e4c5c382795aa08d",
   "execution_count": 10
  },
  {
   "cell_type": "code",
   "outputs": [],
   "source": [],
   "metadata": {
    "collapsed": false
   },
   "id": "3b6b7908b2c3d745"
  }
 ],
 "metadata": {
  "kernelspec": {
   "display_name": "Python 3",
   "language": "python",
   "name": "python3"
  },
  "language_info": {
   "codemirror_mode": {
    "name": "ipython",
    "version": 2
   },
   "file_extension": ".py",
   "mimetype": "text/x-python",
   "name": "python",
   "nbconvert_exporter": "python",
   "pygments_lexer": "ipython2",
   "version": "2.7.6"
  }
 },
 "nbformat": 4,
 "nbformat_minor": 5
}
